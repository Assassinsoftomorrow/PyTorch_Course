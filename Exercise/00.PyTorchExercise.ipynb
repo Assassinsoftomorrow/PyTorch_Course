{
 "cells": [
  {
   "cell_type": "markdown",
   "metadata": {},
   "source": [
    "1. Documentation reading - A big part of deep learning (and learning to code in general) is getting familiar with the documentation of a certain framework you're using. We'll be using the PyTorch documentation a lot throughout the rest of this course. So I'd recommend spending 10-minutes reading the following (it's okay if you don't get some things for now, the focus is not yet full understanding, it's awareness). See the documentation on `torch.Tensor` and for `torch.cuda`."
   ]
  },
  {
   "cell_type": "markdown",
   "metadata": {},
   "source": [
    "2. Create a random tensor with shape (7, 7)."
   ]
  },
  {
   "cell_type": "code",
   "execution_count": 1,
   "metadata": {},
   "outputs": [],
   "source": [
    "import torch"
   ]
  },
  {
   "cell_type": "code",
   "execution_count": 2,
   "metadata": {},
   "outputs": [
    {
     "data": {
      "text/plain": [
       "tensor([[3.5962e-01, 6.3173e-01, 1.5883e-01, 7.5410e-01, 9.0716e-02, 8.5715e-01,\n",
       "         1.1014e-02],\n",
       "        [8.7074e-01, 4.3491e-01, 6.3142e-02, 9.1868e-01, 3.9356e-01, 4.2921e-01,\n",
       "         9.3700e-01],\n",
       "        [6.8956e-01, 2.1843e-01, 8.3204e-02, 9.2251e-01, 6.3200e-01, 5.8164e-01,\n",
       "         7.4478e-01],\n",
       "        [7.6017e-01, 3.2326e-01, 6.0861e-01, 9.3239e-01, 5.9617e-04, 4.1586e-01,\n",
       "         8.9959e-01],\n",
       "        [7.5188e-01, 4.2783e-01, 2.5725e-01, 5.1853e-01, 2.3061e-01, 3.1597e-01,\n",
       "         7.8508e-01],\n",
       "        [5.3982e-01, 5.8789e-01, 5.5584e-01, 3.8608e-01, 1.5815e-01, 7.0209e-01,\n",
       "         7.4773e-01],\n",
       "        [2.9209e-01, 4.8913e-01, 4.5809e-01, 1.8839e-02, 5.6630e-01, 2.6604e-01,\n",
       "         4.3013e-02]])"
      ]
     },
     "execution_count": 2,
     "metadata": {},
     "output_type": "execute_result"
    }
   ],
   "source": [
    "tensor = torch.rand(size=(7,7))\n",
    "tensor"
   ]
  },
  {
   "cell_type": "markdown",
   "metadata": {},
   "source": [
    "3. Perform a matrix multiplication on the tensor from 2 with another random tensor with shape (1, 7) (hint: you may have to transpose the second tensor).\n"
   ]
  },
  {
   "cell_type": "code",
   "execution_count": 3,
   "metadata": {},
   "outputs": [
    {
     "data": {
      "text/plain": [
       "tensor([[0.0391, 0.8347, 0.8990, 0.9912, 0.5921, 0.0414, 0.2926]])"
      ]
     },
     "execution_count": 3,
     "metadata": {},
     "output_type": "execute_result"
    }
   ],
   "source": [
    "tensor2 = torch.rand(size=(1,7))\n",
    "tensor2"
   ]
  },
  {
   "cell_type": "code",
   "execution_count": 4,
   "metadata": {},
   "outputs": [
    {
     "name": "stdout",
     "output_type": "stream",
     "text": [
      "\n",
      "\n",
      "Matrix multiplication of 2 random tensors of size (7,7) and transpose of size(1,7):\n",
      "\n",
      "tensor([[1.5241],\n",
      "        [1.8895],\n",
      "        [1.8147],\n",
      "        [2.0517],\n",
      "        [1.5111],\n",
      "        [1.7357],\n",
      "        [1.2091]])\n"
     ]
    }
   ],
   "source": [
    "print(f\"\\n\\nMatrix multiplication of 2 random tensors of size (7,7) and transpose of size(1,7):\\n\\n{torch.matmul(tensor, tensor2.T)}\")"
   ]
  },
  {
   "cell_type": "markdown",
   "metadata": {},
   "source": [
    "4. Set the random seed to 0 and do exercises 2 & 3 over again."
   ]
  },
  {
   "cell_type": "code",
   "execution_count": 5,
   "metadata": {},
   "outputs": [
    {
     "name": "stdout",
     "output_type": "stream",
     "text": [
      "Random tensor1: \n",
      "tensor([[0.4963, 0.7682, 0.0885, 0.1320, 0.3074, 0.6341, 0.4901],\n",
      "        [0.8964, 0.4556, 0.6323, 0.3489, 0.4017, 0.0223, 0.1689],\n",
      "        [0.2939, 0.5185, 0.6977, 0.8000, 0.1610, 0.2823, 0.6816],\n",
      "        [0.9152, 0.3971, 0.8742, 0.4194, 0.5529, 0.9527, 0.0362],\n",
      "        [0.1852, 0.3734, 0.3051, 0.9320, 0.1759, 0.2698, 0.1507],\n",
      "        [0.0317, 0.2081, 0.9298, 0.7231, 0.7423, 0.5263, 0.2437],\n",
      "        [0.5846, 0.0332, 0.1387, 0.2422, 0.8155, 0.7932, 0.2783]])\n",
      "\n",
      "Random tensor2: \n",
      "tensor([[0.4820, 0.8198, 0.9971, 0.6984, 0.5675, 0.8352, 0.2056]])\n",
      "\n",
      "Matrix multiplication of the matrix:\n",
      "tensor([[1.8542],\n",
      "        [1.9611],\n",
      "        [2.2884],\n",
      "        [3.0481],\n",
      "        [1.7067],\n",
      "        [2.5290],\n",
      "        [1.7989]])\n"
     ]
    }
   ],
   "source": [
    "torch.manual_seed(0)\n",
    "tensor = torch.rand(size=(7,7))\n",
    "tensor2 = torch.rand(size=(1,7))\n",
    "\n",
    "print(f\"Random tensor1: \\n{tensor}\\n\\nRandom tensor2: \\n{tensor2}\")\n",
    "print(f\"\\nMatrix multiplication of the matrix:\\n{torch.matmul(tensor, tensor2.T)}\")\n"
   ]
  },
  {
   "cell_type": "markdown",
   "metadata": {},
   "source": [
    "5. Speaking of random seeds, we saw how to set it with torch.manual_seed() but is there a GPU equivalent? (hint: you'll need to look into the documentation for torch.cuda for this one). If there is, set the GPU random seed to 1234."
   ]
  },
  {
   "cell_type": "code",
   "execution_count": 6,
   "metadata": {},
   "outputs": [],
   "source": [
    "torch.cuda.manual_seed(1234)\n"
   ]
  },
  {
   "cell_type": "markdown",
   "metadata": {},
   "source": [
    "6. Create two random tensors of shape (2, 3) and send them both to the GPU (you'll need access to a GPU for this). Set torch.manual_seed(1234) when creating the tensors (this doesn't have to be the GPU random seed)."
   ]
  },
  {
   "cell_type": "code",
   "execution_count": 7,
   "metadata": {},
   "outputs": [
    {
     "name": "stdout",
     "output_type": "stream",
     "text": [
      "Random tensor 1 device: cuda:0\n",
      "Random tensor 2 device: cuda:0\n"
     ]
    }
   ],
   "source": [
    "torch.manual_seed(1234)\n",
    "random_tensor1 = torch.rand(size=(2,3))\n",
    "random_tensor2 = torch.rand(size=(2,3))\n",
    "\n",
    "device = \"cuda\" if torch.cuda.is_available() else \"cpu\"\n",
    "random_tensor1= random_tensor1.to(device)\n",
    "random_tensor2= random_tensor2.to(device)\n",
    "\n",
    "print(f\"Random tensor 1 device: {random_tensor1.device}\\nRandom tensor 2 device: {random_tensor2.device}\")"
   ]
  },
  {
   "cell_type": "markdown",
   "metadata": {},
   "source": [
    "7. Perform a matrix multiplication on the tensors you created in 6 (again, you may have to adjust the shapes of one of the tensors)."
   ]
  },
  {
   "cell_type": "code",
   "execution_count": 8,
   "metadata": {},
   "outputs": [
    {
     "name": "stdout",
     "output_type": "stream",
     "text": [
      "Random tensor 1:\n",
      "tensor([[0.0290, 0.4019, 0.2598],\n",
      "        [0.3666, 0.0583, 0.7006]], device='cuda:0')\n",
      "\n",
      "Random Tensor 2:\n",
      "tensor([[0.0518, 0.4681, 0.6738],\n",
      "        [0.3315, 0.7837, 0.5631]], device='cuda:0')\n",
      "\n",
      "Matrix multiplication of Tensor 1 and transpose of Tensor 2:\n",
      "tensor([[0.3647, 0.4709],\n",
      "        [0.5184, 0.5617]], device='cuda:0')\n"
     ]
    }
   ],
   "source": [
    "print(f\"Random tensor 1:\\n{random_tensor1}\\n\\nRandom Tensor 2:\\n{random_tensor2}\\n\")\n",
    "result = torch.matmul(random_tensor1, random_tensor2.T)\n",
    "print(f\"Matrix multiplication of Tensor 1 and transpose of Tensor 2:\\n{result}\")"
   ]
  },
  {
   "cell_type": "markdown",
   "metadata": {},
   "source": [
    "8. Find the maximum and minimum values of the output of 7."
   ]
  },
  {
   "cell_type": "code",
   "execution_count": 9,
   "metadata": {},
   "outputs": [
    {
     "name": "stdout",
     "output_type": "stream",
     "text": [
      "Max: 0.5617256760597229\n",
      "Min: 0.3647301495075226\n"
     ]
    }
   ],
   "source": [
    "print(f\"Max: {torch.max(result)}\")\n",
    "print(f\"Min: {torch.min(result)}\")"
   ]
  },
  {
   "cell_type": "markdown",
   "metadata": {},
   "source": [
    "9. Find the maximum and minimum index values of the output of 7."
   ]
  },
  {
   "cell_type": "code",
   "execution_count": 10,
   "metadata": {},
   "outputs": [
    {
     "name": "stdout",
     "output_type": "stream",
     "text": [
      "Max: 3\n",
      "Min: 0\n"
     ]
    }
   ],
   "source": [
    "print(f\"Max: {torch.argmax(result)}\")\n",
    "print(f\"Min: {torch.argmin(result)}\")"
   ]
  },
  {
   "cell_type": "markdown",
   "metadata": {},
   "source": [
    "10. Make a random tensor with shape (1, 1, 1, 10) and then create a new tensor with all the 1 dimensions removed to be left with a tensor of shape (10). Set the seed to 7 when you create it and print out the first tensor and it's shape as well as the second tensor and it's shape.\n"
   ]
  },
  {
   "cell_type": "code",
   "execution_count": 11,
   "metadata": {},
   "outputs": [
    {
     "name": "stdout",
     "output_type": "stream",
     "text": [
      "Random Tensor:\n",
      "tensor([[[[0.5349, 0.1988, 0.6592, 0.6569, 0.2328, 0.4251, 0.2071, 0.6297,\n",
      "           0.3653, 0.8513]]]])\n",
      "Shape: torch.Size([1, 1, 1, 10])\n",
      "\n",
      "New Tensor:\n",
      "tensor([0.5349, 0.1988, 0.6592, 0.6569, 0.2328, 0.4251, 0.2071, 0.6297, 0.3653,\n",
      "        0.8513])\n",
      "New shape:torch.Size([10])\n"
     ]
    }
   ],
   "source": [
    "torch.manual_seed(7)\n",
    "random_tensor = torch.rand(size=(1, 1, 1, 10))\n",
    "print(f\"Random Tensor:\\n{random_tensor}\\nShape: {random_tensor.shape}\\n\")\n",
    "new_tensor = torch.squeeze(random_tensor)\n",
    "print(f\"New Tensor:\\n{new_tensor}\\nNew shape:{new_tensor.shape}\")"
   ]
  }
 ],
 "metadata": {
  "kernelspec": {
   "display_name": "Python 3",
   "language": "python",
   "name": "python3"
  },
  "language_info": {
   "codemirror_mode": {
    "name": "ipython",
    "version": 3
   },
   "file_extension": ".py",
   "mimetype": "text/x-python",
   "name": "python",
   "nbconvert_exporter": "python",
   "pygments_lexer": "ipython3",
   "version": "3.11.4"
  },
  "orig_nbformat": 4
 },
 "nbformat": 4,
 "nbformat_minor": 2
}
