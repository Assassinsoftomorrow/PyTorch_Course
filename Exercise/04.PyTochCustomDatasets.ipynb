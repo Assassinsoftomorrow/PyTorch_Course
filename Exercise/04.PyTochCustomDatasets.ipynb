{
 "cells": [
  {
   "cell_type": "markdown",
   "metadata": {},
   "source": [
    "1. Our models are underperforming (not fitting the data well). What are 3 methods for preventing underfitting? Write them down and explain each with a sentence."
   ]
  },
  {
   "cell_type": "markdown",
   "metadata": {},
   "source": [
    "* If the model is too simple for the dataset, then it will underfit.\n",
    "* Making sure we have enough training data.\n",
    "* Regularisation: It is the process of penalising the loss function, which discourages the  model from using overly complex solutions."
   ]
  },
  {
   "cell_type": "markdown",
   "metadata": {},
   "source": [
    "2. Recreate the data loading functions we built in sections 1, 2, 3 and 4. You should have train and test DataLoader's ready to use."
   ]
  },
  {
   "cell_type": "code",
   "execution_count": 1,
   "metadata": {},
   "outputs": [],
   "source": [
    "from pathlib import Path \n",
    "\n",
    "DATA_PATH= Path('../data')\n",
    "IMAGE_PATH= DATA_PATH/'pizza_steak_sushi_20_percent'\n",
    "\n",
    "train_dir= IMAGE_PATH/'train'\n",
    "test_dir= IMAGE_PATH/'test'"
   ]
  },
  {
   "cell_type": "code",
   "execution_count": 2,
   "metadata": {},
   "outputs": [],
   "source": [
    "from torch.utils.data.dataloader import DataLoader\n",
    "from torchvision import datasets, transforms\n",
    "import os\n",
    "\n",
    "############### TRANSFORM FUNCTION ###############\n",
    "train_transform= transforms.Compose([\n",
    "    transforms.Resize(size=(64, 64)),\n",
    "    transforms.RandomHorizontalFlip(p=0.5),\n",
    "    transforms.ToTensor()\n",
    "])\n",
    "\n",
    "test_transform= transforms.Compose([\n",
    "    transforms.Resize(size=(64, 64)),\n",
    "    transforms.ToTensor()\n",
    "])\n",
    "\n",
    "############### DATASETS ###############\n",
    "train_data= datasets.ImageFolder(root=train_dir,\n",
    "                                 transform=train_transform,\n",
    "                                 target_transform=None)\n",
    "\n",
    "test_data= datasets.ImageFolder(root=test_dir,\n",
    "                                transform=test_transform,\n",
    "                                target_transform=None)\n",
    "\n",
    "BATCH_SIZE= 32\n",
    "NUM_WORKER= os.cpu_count()\n",
    "\n",
    "############### DATALOADERS ###############\n",
    "train_dataloader= DataLoader(dataset= train_data,\n",
    "                             batch_size= BATCH_SIZE,\n",
    "                             shuffle= True,\n",
    "                             num_workers= NUM_WORKER)\n",
    "\n",
    "test_dataloader= DataLoader(dataset= test_data,\n",
    "                            batch_size= 32,\n",
    "                            shuffle= False,\n",
    "                            num_workers= NUM_WORKER)"
   ]
  },
  {
   "cell_type": "code",
   "execution_count": 3,
   "metadata": {},
   "outputs": [],
   "source": [
    "image_batch, label_batch = next(iter(train_dataloader))"
   ]
  },
  {
   "cell_type": "code",
   "execution_count": 4,
   "metadata": {},
   "outputs": [
    {
     "name": "stdout",
     "output_type": "stream",
     "text": [
      "tensor([[[[0.0863, 0.0902, 0.0863,  ..., 0.0588, 0.0588, 0.0627],\n",
      "          [0.0863, 0.0863, 0.0902,  ..., 0.0784, 0.0706, 0.0706],\n",
      "          [0.0863, 0.0824, 0.0824,  ..., 0.2863, 0.1098, 0.0784],\n",
      "          ...,\n",
      "          [0.7725, 0.7686, 0.7647,  ..., 0.8588, 0.8471, 0.8118],\n",
      "          [0.5961, 0.6627, 0.7137,  ..., 0.6706, 0.5882, 0.5294],\n",
      "          [0.2235, 0.2902, 0.3882,  ..., 0.4039, 0.3765, 0.3882]],\n",
      "\n",
      "         [[0.0863, 0.0902, 0.0863,  ..., 0.0549, 0.0510, 0.0549],\n",
      "          [0.0863, 0.0863, 0.0902,  ..., 0.0784, 0.0627, 0.0627],\n",
      "          [0.0863, 0.0824, 0.0824,  ..., 0.2863, 0.0980, 0.0667],\n",
      "          ...,\n",
      "          [0.2314, 0.2235, 0.2235,  ..., 0.3608, 0.4039, 0.4471],\n",
      "          [0.2039, 0.2118, 0.2196,  ..., 0.4549, 0.4118, 0.3725],\n",
      "          [0.1059, 0.1137, 0.1333,  ..., 0.2863, 0.2627, 0.2627]],\n",
      "\n",
      "         [[0.1255, 0.1216, 0.1176,  ..., 0.0706, 0.0627, 0.0667],\n",
      "          [0.1255, 0.1176, 0.1216,  ..., 0.0863, 0.0745, 0.0745],\n",
      "          [0.1255, 0.1137, 0.1137,  ..., 0.2863, 0.1098, 0.0824],\n",
      "          ...,\n",
      "          [0.1529, 0.1412, 0.1412,  ..., 0.2863, 0.3294, 0.3765],\n",
      "          [0.1490, 0.1490, 0.1529,  ..., 0.4039, 0.3608, 0.3176],\n",
      "          [0.0824, 0.0902, 0.1020,  ..., 0.2431, 0.2235, 0.2118]]],\n",
      "\n",
      "\n",
      "        [[[0.2000, 0.2314, 0.2667,  ..., 0.3412, 0.4039, 0.5216],\n",
      "          [0.2941, 0.3333, 0.3765,  ..., 0.3529, 0.3961, 0.5216],\n",
      "          [0.6275, 0.6745, 0.7059,  ..., 0.3608, 0.3922, 0.5059],\n",
      "          ...,\n",
      "          [0.6392, 0.6353, 0.6275,  ..., 0.2510, 0.2549, 0.2353],\n",
      "          [0.6549, 0.6706, 0.6706,  ..., 0.2549, 0.2667, 0.2627],\n",
      "          [0.7216, 0.7176, 0.7059,  ..., 0.2667, 0.2784, 0.2784]],\n",
      "\n",
      "         [[0.1804, 0.2118, 0.2549,  ..., 0.3373, 0.4039, 0.5255],\n",
      "          [0.2824, 0.3294, 0.3725,  ..., 0.3490, 0.3961, 0.5255],\n",
      "          [0.6471, 0.7020, 0.7373,  ..., 0.3529, 0.3882, 0.5059],\n",
      "          ...,\n",
      "          [0.4157, 0.4118, 0.4039,  ..., 0.1098, 0.1098, 0.0941],\n",
      "          [0.4392, 0.4706, 0.4902,  ..., 0.1098, 0.1176, 0.1137],\n",
      "          [0.5333, 0.5373, 0.5412,  ..., 0.1098, 0.1137, 0.1176]],\n",
      "\n",
      "         [[0.1412, 0.1647, 0.2078,  ..., 0.3294, 0.3882, 0.5059],\n",
      "          [0.2392, 0.2902, 0.3333,  ..., 0.3412, 0.3804, 0.5059],\n",
      "          [0.6078, 0.6706, 0.6980,  ..., 0.3451, 0.3725, 0.4902],\n",
      "          ...,\n",
      "          [0.0118, 0.0157, 0.0157,  ..., 0.0039, 0.0039, 0.0039],\n",
      "          [0.0235, 0.0471, 0.0510,  ..., 0.0039, 0.0078, 0.0078],\n",
      "          [0.0745, 0.0745, 0.0588,  ..., 0.0039, 0.0078, 0.0039]]],\n",
      "\n",
      "\n",
      "        [[[0.0275, 0.0275, 0.0353,  ..., 0.5373, 0.5294, 0.5137],\n",
      "          [0.0353, 0.0392, 0.0588,  ..., 0.5765, 0.5608, 0.5529],\n",
      "          [0.3059, 0.3216, 0.3333,  ..., 0.5922, 0.5882, 0.5804],\n",
      "          ...,\n",
      "          [0.8000, 0.8000, 0.8078,  ..., 0.7686, 0.7608, 0.7569],\n",
      "          [0.8000, 0.8039, 0.8039,  ..., 0.7686, 0.7608, 0.7569],\n",
      "          [0.8039, 0.8078, 0.8039,  ..., 0.7647, 0.7569, 0.7529]],\n",
      "\n",
      "         [[0.0275, 0.0275, 0.0667,  ..., 0.4941, 0.4863, 0.4706],\n",
      "          [0.0353, 0.0353, 0.0588,  ..., 0.5255, 0.5137, 0.5059],\n",
      "          [0.2863, 0.3059, 0.3176,  ..., 0.5451, 0.5373, 0.5294],\n",
      "          ...,\n",
      "          [0.7608, 0.7647, 0.7725,  ..., 0.7255, 0.7137, 0.7098],\n",
      "          [0.7608, 0.7647, 0.7686,  ..., 0.7216, 0.7137, 0.7098],\n",
      "          [0.7569, 0.7647, 0.7686,  ..., 0.7176, 0.7098, 0.7059]],\n",
      "\n",
      "         [[0.0353, 0.0353, 0.0314,  ..., 0.5255, 0.5176, 0.5020],\n",
      "          [0.0431, 0.0471, 0.0627,  ..., 0.5608, 0.5490, 0.5412],\n",
      "          [0.3216, 0.3373, 0.3569,  ..., 0.5804, 0.5725, 0.5647],\n",
      "          ...,\n",
      "          [0.7647, 0.7686, 0.7765,  ..., 0.7255, 0.7137, 0.7098],\n",
      "          [0.7647, 0.7686, 0.7725,  ..., 0.7216, 0.7137, 0.7098],\n",
      "          [0.7647, 0.7686, 0.7725,  ..., 0.7176, 0.7098, 0.7059]]],\n",
      "\n",
      "\n",
      "        ...,\n",
      "\n",
      "\n",
      "        [[[0.0353, 0.0745, 0.2353,  ..., 0.4000, 0.3294, 0.2353],\n",
      "          [0.0431, 0.0471, 0.1176,  ..., 0.3882, 0.4078, 0.3373],\n",
      "          [0.0471, 0.0549, 0.0784,  ..., 0.3255, 0.3765, 0.3843],\n",
      "          ...,\n",
      "          [0.2941, 0.3020, 0.3020,  ..., 0.2275, 0.2392, 0.2706],\n",
      "          [0.3490, 0.3647, 0.3843,  ..., 0.2941, 0.3137, 0.3059],\n",
      "          [0.3490, 0.3608, 0.3569,  ..., 0.3255, 0.3020, 0.3020]],\n",
      "\n",
      "         [[0.0314, 0.0627, 0.2039,  ..., 0.3020, 0.2471, 0.1725],\n",
      "          [0.0314, 0.0431, 0.1059,  ..., 0.3059, 0.3294, 0.2667],\n",
      "          [0.0392, 0.0471, 0.0627,  ..., 0.2431, 0.3020, 0.3176],\n",
      "          ...,\n",
      "          [0.2039, 0.2157, 0.2157,  ..., 0.1804, 0.1882, 0.1961],\n",
      "          [0.2431, 0.2471, 0.2706,  ..., 0.2157, 0.2196, 0.2039],\n",
      "          [0.2314, 0.2471, 0.2392,  ..., 0.2314, 0.2118, 0.2039]],\n",
      "\n",
      "         [[0.0588, 0.0745, 0.1725,  ..., 0.1647, 0.1608, 0.1216],\n",
      "          [0.0549, 0.0627, 0.1255,  ..., 0.1686, 0.1961, 0.1608],\n",
      "          [0.0549, 0.0588, 0.0863,  ..., 0.1490, 0.1725, 0.1843],\n",
      "          ...,\n",
      "          [0.1647, 0.1725, 0.1725,  ..., 0.1961, 0.1961, 0.2000],\n",
      "          [0.1882, 0.1882, 0.1882,  ..., 0.2078, 0.2039, 0.1804],\n",
      "          [0.1804, 0.1961, 0.1882,  ..., 0.2157, 0.1961, 0.1882]]],\n",
      "\n",
      "\n",
      "        [[[0.1725, 0.1725, 0.1765,  ..., 0.2863, 0.3255, 0.3294],\n",
      "          [0.1765, 0.1765, 0.1765,  ..., 0.3098, 0.3412, 0.3255],\n",
      "          [0.1765, 0.1804, 0.1804,  ..., 0.3176, 0.3255, 0.3255],\n",
      "          ...,\n",
      "          [0.3569, 0.3647, 0.3765,  ..., 0.4471, 0.4510, 0.4588],\n",
      "          [0.3373, 0.3490, 0.3569,  ..., 0.4667, 0.4431, 0.4510],\n",
      "          [0.3451, 0.3529, 0.3373,  ..., 0.4667, 0.4392, 0.4118]],\n",
      "\n",
      "         [[0.1216, 0.1216, 0.1255,  ..., 0.3686, 0.3843, 0.3804],\n",
      "          [0.1255, 0.1216, 0.1255,  ..., 0.3961, 0.4078, 0.3922],\n",
      "          [0.1216, 0.1294, 0.1294,  ..., 0.4314, 0.4314, 0.4196],\n",
      "          ...,\n",
      "          [0.4627, 0.4667, 0.4784,  ..., 0.5294, 0.5216, 0.5294],\n",
      "          [0.4353, 0.4471, 0.4588,  ..., 0.5412, 0.5137, 0.5255],\n",
      "          [0.4314, 0.4431, 0.4314,  ..., 0.5451, 0.5137, 0.4902]],\n",
      "\n",
      "         [[0.0980, 0.0941, 0.0941,  ..., 0.4902, 0.4902, 0.4706],\n",
      "          [0.1059, 0.1059, 0.1137,  ..., 0.5216, 0.5333, 0.5216],\n",
      "          [0.1137, 0.1216, 0.1216,  ..., 0.5765, 0.5804, 0.5725],\n",
      "          ...,\n",
      "          [0.5451, 0.5569, 0.5882,  ..., 0.5843, 0.5843, 0.5961],\n",
      "          [0.5098, 0.5373, 0.5569,  ..., 0.6000, 0.5725, 0.5843],\n",
      "          [0.5137, 0.5255, 0.5176,  ..., 0.5961, 0.5647, 0.5412]]],\n",
      "\n",
      "\n",
      "        [[[0.1412, 0.1412, 0.1451,  ..., 0.2941, 0.4039, 0.4196],\n",
      "          [0.1373, 0.1373, 0.1412,  ..., 0.1765, 0.3529, 0.4235],\n",
      "          [0.1412, 0.1333, 0.1412,  ..., 0.2980, 0.3882, 0.4157],\n",
      "          ...,\n",
      "          [0.6863, 0.6980, 0.7137,  ..., 0.1333, 0.1020, 0.0824],\n",
      "          [0.6824, 0.6941, 0.7059,  ..., 0.1176, 0.0863, 0.0627],\n",
      "          [0.6745, 0.6863, 0.6980,  ..., 0.1137, 0.0824, 0.0549]],\n",
      "\n",
      "         [[0.0784, 0.0784, 0.0784,  ..., 0.2627, 0.3608, 0.3804],\n",
      "          [0.0784, 0.0784, 0.0745,  ..., 0.1490, 0.3098, 0.3686],\n",
      "          [0.0784, 0.0745, 0.0745,  ..., 0.2235, 0.3098, 0.3412],\n",
      "          ...,\n",
      "          [0.5882, 0.5961, 0.6078,  ..., 0.0980, 0.0824, 0.0706],\n",
      "          [0.5843, 0.5922, 0.6000,  ..., 0.0863, 0.0627, 0.0510],\n",
      "          [0.5804, 0.5882, 0.5922,  ..., 0.0745, 0.0549, 0.0431]],\n",
      "\n",
      "         [[0.0588, 0.0588, 0.0549,  ..., 0.0745, 0.0824, 0.0824],\n",
      "          [0.0588, 0.0510, 0.0510,  ..., 0.0588, 0.0863, 0.1059],\n",
      "          [0.0549, 0.0510, 0.0510,  ..., 0.1098, 0.1451, 0.1569],\n",
      "          ...,\n",
      "          [0.3882, 0.3922, 0.3961,  ..., 0.0510, 0.0431, 0.0353],\n",
      "          [0.3882, 0.3843, 0.3882,  ..., 0.0510, 0.0431, 0.0353],\n",
      "          [0.3804, 0.3725, 0.3843,  ..., 0.0588, 0.0431, 0.0353]]]])\n"
     ]
    }
   ],
   "source": [
    "class_names= train_data.classes\n",
    "len(class_names)\n",
    "print(image_batch)\n"
   ]
  },
  {
   "cell_type": "markdown",
   "metadata": {},
   "source": [
    "3. Recreate `model_0` we built in section 7."
   ]
  },
  {
   "cell_type": "code",
   "execution_count": 5,
   "metadata": {},
   "outputs": [],
   "source": [
    "from torch import nn\n",
    "\n",
    "class TinyVGG(nn.Module):\n",
    "    def __init__(self,\n",
    "                 input_shape: int,\n",
    "                 output_shape: int,\n",
    "                 hidden_units: int= 10) -> None:\n",
    "        super().__init__()\n",
    "        self.covo_block_1= nn.Sequential(\n",
    "            nn.Conv2d(in_channels= input_shape,\n",
    "                      out_channels= hidden_units,\n",
    "                      kernel_size=3,\n",
    "                      stride=1,\n",
    "                      padding=0),\n",
    "            nn.ReLU(),\n",
    "            nn.Conv2d(in_channels= hidden_units,\n",
    "                      out_channels= hidden_units,\n",
    "                      kernel_size= 3,\n",
    "                      stride=1,\n",
    "                      padding=0),\n",
    "            nn.ReLU(),\n",
    "            nn.MaxPool2d(kernel_size=2, stride=2)\n",
    "        )\n",
    "        self.covo_block_2= nn.Sequential(\n",
    "            nn.Conv2d(in_channels= hidden_units,\n",
    "                      out_channels= hidden_units,\n",
    "                      kernel_size=3,\n",
    "                      stride=1,\n",
    "                      padding=0),\n",
    "            nn.ReLU(),\n",
    "            nn.Conv2d(in_channels= hidden_units,\n",
    "                      out_channels= hidden_units,\n",
    "                      kernel_size= 3,\n",
    "                      stride=1,\n",
    "                      padding=0),\n",
    "            nn.ReLU(),\n",
    "            nn.MaxPool2d(kernel_size=2, stride=2)\n",
    "        )\n",
    "        self.classifier= nn.Sequential(\n",
    "            nn.Flatten(),\n",
    "            nn.Linear(in_features= hidden_units*13*13,\n",
    "                      out_features= output_shape)\n",
    "        )\n",
    "\n",
    "    def forward(self, x):\n",
    "        x= self.covo_block_1(x)\n",
    "        # print(x)\n",
    "        x= self.covo_block_2(x)\n",
    "        # print(x)\n",
    "        x= self.classifier(x)\n",
    "        return x\n"
   ]
  },
  {
   "cell_type": "code",
   "execution_count": 6,
   "metadata": {},
   "outputs": [],
   "source": [
    "from torchinfo import summary\n",
    "import torch\n",
    "\n",
    "model_0= TinyVGG(input_shape=3,\n",
    "                 output_shape=len(class_names),\n",
    "                 hidden_units=10)"
   ]
  },
  {
   "cell_type": "code",
   "execution_count": 7,
   "metadata": {},
   "outputs": [
    {
     "data": {
      "text/plain": [
       "==========================================================================================\n",
       "Layer (type:depth-idx)                   Output Shape              Param #\n",
       "==========================================================================================\n",
       "TinyVGG                                  [1, 3]                    --\n",
       "├─Sequential: 1-1                        [1, 10, 30, 30]           --\n",
       "│    └─Conv2d: 2-1                       [1, 10, 62, 62]           280\n",
       "│    └─ReLU: 2-2                         [1, 10, 62, 62]           --\n",
       "│    └─Conv2d: 2-3                       [1, 10, 60, 60]           910\n",
       "│    └─ReLU: 2-4                         [1, 10, 60, 60]           --\n",
       "│    └─MaxPool2d: 2-5                    [1, 10, 30, 30]           --\n",
       "├─Sequential: 1-2                        [1, 10, 13, 13]           --\n",
       "│    └─Conv2d: 2-6                       [1, 10, 28, 28]           910\n",
       "│    └─ReLU: 2-7                         [1, 10, 28, 28]           --\n",
       "│    └─Conv2d: 2-8                       [1, 10, 26, 26]           910\n",
       "│    └─ReLU: 2-9                         [1, 10, 26, 26]           --\n",
       "│    └─MaxPool2d: 2-10                   [1, 10, 13, 13]           --\n",
       "├─Sequential: 1-3                        [1, 3]                    --\n",
       "│    └─Flatten: 2-11                     [1, 1690]                 --\n",
       "│    └─Linear: 2-12                      [1, 3]                    5,073\n",
       "==========================================================================================\n",
       "Total params: 8,083\n",
       "Trainable params: 8,083\n",
       "Non-trainable params: 0\n",
       "Total mult-adds (Units.MEGABYTES): 5.69\n",
       "==========================================================================================\n",
       "Input size (MB): 0.05\n",
       "Forward/backward pass size (MB): 0.71\n",
       "Params size (MB): 0.03\n",
       "Estimated Total Size (MB): 0.79\n",
       "=========================================================================================="
      ]
     },
     "execution_count": 7,
     "metadata": {},
     "output_type": "execute_result"
    }
   ],
   "source": [
    "summary(model= model_0, input_size= [1, 3, 64, 64])"
   ]
  },
  {
   "cell_type": "code",
   "execution_count": 8,
   "metadata": {},
   "outputs": [
    {
     "data": {
      "text/plain": [
       "'cuda'"
      ]
     },
     "execution_count": 8,
     "metadata": {},
     "output_type": "execute_result"
    }
   ],
   "source": [
    "device= 'cuda' if torch.cuda.is_available() else 'cpu'\n",
    "device"
   ]
  },
  {
   "cell_type": "markdown",
   "metadata": {},
   "source": [
    "4. Create training and testing functions for `model_0`"
   ]
  },
  {
   "cell_type": "code",
   "execution_count": 9,
   "metadata": {},
   "outputs": [],
   "source": [
    "def train_step(model: nn.Module,\n",
    "               dataloader: DataLoader,\n",
    "               loss_fn: nn.Module,\n",
    "               optimizer: torch.optim.Optimizer,\n",
    "               device: torch.device= 'cpu'):\n",
    "    \n",
    "    # Setting model to training mode\n",
    "    model.to(device).train()\n",
    "\n",
    "    # Accumilating train and test loss per batch\n",
    "    train_loss, train_acc= 0, 0\n",
    "\n",
    "    for batch, (X,y) in enumerate(dataloader):\n",
    "        X,y= X.to(device), y.to(device)\n",
    "\n",
    "        # Forward pass\n",
    "        y_pred_logit= model(X)\n",
    "\n",
    "        # Loss caclulation\n",
    "        loss = loss_fn(y_pred_logit, y)\n",
    "        train_loss += loss.item()\n",
    "\n",
    "        # Optimizer Zero Grad\n",
    "        optimizer.zero_grad()\n",
    "\n",
    "        # Loss backward\n",
    "        loss.backward()\n",
    "\n",
    "        # Optimizer Step\n",
    "        optimizer.step()\n",
    "\n",
    "        # Calculating Accuracy\n",
    "        y_pred_label= torch.argmax(torch.softmax(y_pred_logit, dim=1), dim=1)\n",
    "        train_acc += (y_pred_label==y).sum().item()/len(y_pred_logit)\n",
    "\n",
    "    train_loss /= len(dataloader)\n",
    "    train_acc /= len(dataloader)\n",
    "    return train_loss, train_acc"
   ]
  },
  {
   "cell_type": "code",
   "execution_count": 10,
   "metadata": {},
   "outputs": [],
   "source": [
    "def test_step(model: nn.Module,\n",
    "              dataloader: DataLoader,\n",
    "              loss_fn: nn.Module,\n",
    "              device: torch.device= 'cpu'):\n",
    "    \n",
    "    # Setting model to evaluation mode\n",
    "    model.to(device).eval()\n",
    "\n",
    "    # Accumilating test loss and acc per batch\n",
    "    test_loss, test_acc= 0, 0\n",
    "\n",
    "    with torch.inference_mode():\n",
    "        for batch, (X,y) in enumerate(dataloader):\n",
    "            # Setting all variables to same device\n",
    "            X, y= X.to(device), y.to(device)\n",
    "\n",
    "            # Forward Pass\n",
    "            test_pred_logits= model(X)\n",
    "            \n",
    "            # Loss Calculation\n",
    "            loss = loss_fn(test_pred_logits, y)\n",
    "            test_loss += loss.item()\n",
    "\n",
    "            # Accuracy Calculation\n",
    "            test_pred_labels= torch.argmax(torch.softmax(test_pred_logits, dim=1), dim=1)\n",
    "            test_acc+= (test_pred_labels==y).sum().item()/len(test_pred_labels)\n",
    "\n",
    "        test_loss /= len(dataloader)\n",
    "        test_acc /= len(dataloader)\n",
    "    return test_loss, test_acc"
   ]
  },
  {
   "cell_type": "markdown",
   "metadata": {},
   "source": [
    "5. Try training the model you made in exercise 3 for 5, 20 and 50 epochs, what happens to the results?\n",
    "    * Use `torch.optim.Adam()` with a learning rate of 0.001 as the optimizer."
   ]
  },
  {
   "cell_type": "code",
   "execution_count": 11,
   "metadata": {},
   "outputs": [],
   "source": [
    "from tqdm import tqdm\n",
    "def train(model: nn.Module,\n",
    "          train_dataloader: DataLoader,\n",
    "          test_dataloader: DataLoader,\n",
    "          epochs: int,\n",
    "          loss_fn: nn.Module,\n",
    "          optimizer: torch.optim.Optimizer,\n",
    "          device: torch.device= 'cpu'):\n",
    "    \n",
    "    results={'train_loss': [],\n",
    "             'train_acc': [],\n",
    "             'test_loss': [],\n",
    "             'test_acc': []}\n",
    "    \n",
    "    for epoch in tqdm(range(epochs)):\n",
    "\n",
    "        # Training\n",
    "        train_loss, train_acc= train_step(model= model,\n",
    "                                          dataloader= train_dataloader,\n",
    "                                          loss_fn= loss_fn,\n",
    "                                          optimizer= optimizer,\n",
    "                                          device= device)\n",
    "\n",
    "        # Testing\n",
    "        test_loss, test_acc= test_step(model=model,\n",
    "                                       dataloader= test_dataloader,\n",
    "                                       loss_fn= loss_fn,\n",
    "                                       device= device)\n",
    "\n",
    "        print(f\"Epoch: {epoch} | Train Loss: {train_loss:.3f} | Train Accuracy: {100*train_acc:.2f}% | Test Loss: {test_loss:.3f} | Test Accuracy: {100*test_acc:.2f}%\")\n",
    "        \n",
    "        # Storing results\n",
    "        results['train_loss'].append(train_loss)\n",
    "        results['train_acc'].append(train_acc)\n",
    "        results['test_loss'].append(test_loss)\n",
    "        results['test_acc'].append(test_acc)\n",
    "        \n",
    "    return results      "
   ]
  },
  {
   "cell_type": "code",
   "execution_count": 12,
   "metadata": {},
   "outputs": [
    {
     "name": "stderr",
     "output_type": "stream",
     "text": [
      " 20%|██        | 1/5 [00:17<01:08, 17.16s/it]"
     ]
    },
    {
     "name": "stdout",
     "output_type": "stream",
     "text": [
      "Epoch: 0 | Train Loss: 1.100 | Train Accuracy: 36.04% | Test Loss: 1.082 | Test Accuracy: 48.35%\n"
     ]
    },
    {
     "name": "stderr",
     "output_type": "stream",
     "text": [
      " 40%|████      | 2/5 [00:36<00:55, 18.57s/it]"
     ]
    },
    {
     "name": "stdout",
     "output_type": "stream",
     "text": [
      "Epoch: 1 | Train Loss: 1.071 | Train Accuracy: 42.92% | Test Loss: 1.025 | Test Accuracy: 47.95%\n"
     ]
    },
    {
     "name": "stderr",
     "output_type": "stream",
     "text": [
      " 60%|██████    | 3/5 [00:54<00:36, 18.30s/it]"
     ]
    },
    {
     "name": "stdout",
     "output_type": "stream",
     "text": [
      "Epoch: 2 | Train Loss: 0.991 | Train Accuracy: 51.25% | Test Loss: 0.961 | Test Accuracy: 52.73%\n"
     ]
    },
    {
     "name": "stderr",
     "output_type": "stream",
     "text": [
      " 80%|████████  | 4/5 [01:09<00:16, 16.83s/it]"
     ]
    },
    {
     "name": "stdout",
     "output_type": "stream",
     "text": [
      "Epoch: 3 | Train Loss: 1.019 | Train Accuracy: 50.00% | Test Loss: 0.999 | Test Accuracy: 52.39%\n"
     ]
    },
    {
     "name": "stderr",
     "output_type": "stream",
     "text": [
      "100%|██████████| 5/5 [01:26<00:00, 17.29s/it]"
     ]
    },
    {
     "name": "stdout",
     "output_type": "stream",
     "text": [
      "Epoch: 4 | Train Loss: 1.045 | Train Accuracy: 43.96% | Test Loss: 0.971 | Test Accuracy: 52.67%\n"
     ]
    },
    {
     "name": "stderr",
     "output_type": "stream",
     "text": [
      "\n"
     ]
    }
   ],
   "source": [
    "EPOCHS= 5\n",
    "loss_fn = nn.CrossEntropyLoss()\n",
    "optimizer= torch.optim.Adam(params= model_0.parameters(), lr= 0.001)\n",
    "\n",
    "model_0_results_5_epochs= train(model= model_0,\n",
    "                                train_dataloader= train_dataloader,\n",
    "                                test_dataloader= test_dataloader,\n",
    "                                epochs= EPOCHS,\n",
    "                                loss_fn= loss_fn,\n",
    "                                optimizer= optimizer,\n",
    "                                device= device)"
   ]
  },
  {
   "cell_type": "code",
   "execution_count": 13,
   "metadata": {},
   "outputs": [
    {
     "name": "stderr",
     "output_type": "stream",
     "text": [
      "  5%|▌         | 1/20 [00:16<05:18, 16.78s/it]"
     ]
    },
    {
     "name": "stdout",
     "output_type": "stream",
     "text": [
      "Epoch: 0 | Train Loss: 0.953 | Train Accuracy: 48.96% | Test Loss: 0.932 | Test Accuracy: 52.78%\n"
     ]
    },
    {
     "name": "stderr",
     "output_type": "stream",
     "text": [
      " 10%|█         | 2/20 [00:31<04:41, 15.66s/it]"
     ]
    },
    {
     "name": "stdout",
     "output_type": "stream",
     "text": [
      "Epoch: 1 | Train Loss: 0.886 | Train Accuracy: 56.04% | Test Loss: 0.908 | Test Accuracy: 57.33%\n"
     ]
    },
    {
     "name": "stderr",
     "output_type": "stream",
     "text": [
      " 15%|█▌        | 3/20 [00:47<04:30, 15.92s/it]"
     ]
    },
    {
     "name": "stdout",
     "output_type": "stream",
     "text": [
      "Epoch: 2 | Train Loss: 0.914 | Train Accuracy: 52.08% | Test Loss: 0.898 | Test Accuracy: 57.78%\n"
     ]
    },
    {
     "name": "stderr",
     "output_type": "stream",
     "text": [
      " 20%|██        | 4/20 [01:02<04:06, 15.41s/it]"
     ]
    },
    {
     "name": "stdout",
     "output_type": "stream",
     "text": [
      "Epoch: 3 | Train Loss: 0.904 | Train Accuracy: 58.13% | Test Loss: 0.892 | Test Accuracy: 57.78%\n"
     ]
    },
    {
     "name": "stderr",
     "output_type": "stream",
     "text": [
      " 25%|██▌       | 5/20 [01:15<03:40, 14.67s/it]"
     ]
    },
    {
     "name": "stdout",
     "output_type": "stream",
     "text": [
      "Epoch: 4 | Train Loss: 0.849 | Train Accuracy: 62.50% | Test Loss: 0.911 | Test Accuracy: 56.70%\n"
     ]
    },
    {
     "name": "stderr",
     "output_type": "stream",
     "text": [
      " 30%|███       | 6/20 [01:29<03:19, 14.22s/it]"
     ]
    },
    {
     "name": "stdout",
     "output_type": "stream",
     "text": [
      "Epoch: 5 | Train Loss: 0.856 | Train Accuracy: 62.08% | Test Loss: 0.895 | Test Accuracy: 58.69%\n"
     ]
    },
    {
     "name": "stderr",
     "output_type": "stream",
     "text": [
      " 35%|███▌      | 7/20 [01:43<03:04, 14.16s/it]"
     ]
    },
    {
     "name": "stdout",
     "output_type": "stream",
     "text": [
      "Epoch: 6 | Train Loss: 0.812 | Train Accuracy: 64.17% | Test Loss: 0.901 | Test Accuracy: 60.06%\n"
     ]
    },
    {
     "name": "stderr",
     "output_type": "stream",
     "text": [
      " 40%|████      | 8/20 [02:03<03:11, 15.98s/it]"
     ]
    },
    {
     "name": "stdout",
     "output_type": "stream",
     "text": [
      "Epoch: 7 | Train Loss: 0.842 | Train Accuracy: 58.96% | Test Loss: 0.909 | Test Accuracy: 58.75%\n"
     ]
    },
    {
     "name": "stderr",
     "output_type": "stream",
     "text": [
      " 45%|████▌     | 9/20 [02:15<02:44, 14.94s/it]"
     ]
    },
    {
     "name": "stdout",
     "output_type": "stream",
     "text": [
      "Epoch: 8 | Train Loss: 0.812 | Train Accuracy: 63.54% | Test Loss: 0.879 | Test Accuracy: 60.34%\n"
     ]
    },
    {
     "name": "stderr",
     "output_type": "stream",
     "text": [
      " 50%|█████     | 10/20 [02:30<02:28, 14.80s/it]"
     ]
    },
    {
     "name": "stdout",
     "output_type": "stream",
     "text": [
      "Epoch: 9 | Train Loss: 0.753 | Train Accuracy: 66.67% | Test Loss: 0.896 | Test Accuracy: 60.68%\n"
     ]
    },
    {
     "name": "stderr",
     "output_type": "stream",
     "text": [
      " 55%|█████▌    | 11/20 [02:45<02:13, 14.88s/it]"
     ]
    },
    {
     "name": "stdout",
     "output_type": "stream",
     "text": [
      "Epoch: 10 | Train Loss: 0.749 | Train Accuracy: 68.54% | Test Loss: 0.886 | Test Accuracy: 60.34%\n"
     ]
    },
    {
     "name": "stderr",
     "output_type": "stream",
     "text": [
      " 60%|██████    | 12/20 [02:59<01:56, 14.62s/it]"
     ]
    },
    {
     "name": "stdout",
     "output_type": "stream",
     "text": [
      "Epoch: 11 | Train Loss: 0.773 | Train Accuracy: 65.21% | Test Loss: 0.926 | Test Accuracy: 54.26%\n"
     ]
    },
    {
     "name": "stderr",
     "output_type": "stream",
     "text": [
      " 65%|██████▌   | 13/20 [03:12<01:38, 14.05s/it]"
     ]
    },
    {
     "name": "stdout",
     "output_type": "stream",
     "text": [
      "Epoch: 12 | Train Loss: 0.776 | Train Accuracy: 64.38% | Test Loss: 0.869 | Test Accuracy: 57.39%\n"
     ]
    },
    {
     "name": "stderr",
     "output_type": "stream",
     "text": [
      " 70%|███████   | 14/20 [03:24<01:21, 13.64s/it]"
     ]
    },
    {
     "name": "stdout",
     "output_type": "stream",
     "text": [
      "Epoch: 13 | Train Loss: 0.785 | Train Accuracy: 60.00% | Test Loss: 0.855 | Test Accuracy: 61.59%\n"
     ]
    },
    {
     "name": "stderr",
     "output_type": "stream",
     "text": [
      " 75%|███████▌  | 15/20 [03:37<01:06, 13.35s/it]"
     ]
    },
    {
     "name": "stdout",
     "output_type": "stream",
     "text": [
      "Epoch: 14 | Train Loss: 0.720 | Train Accuracy: 70.00% | Test Loss: 0.880 | Test Accuracy: 58.75%\n"
     ]
    },
    {
     "name": "stderr",
     "output_type": "stream",
     "text": [
      " 80%|████████  | 16/20 [03:50<00:52, 13.11s/it]"
     ]
    },
    {
     "name": "stdout",
     "output_type": "stream",
     "text": [
      "Epoch: 15 | Train Loss: 0.677 | Train Accuracy: 69.79% | Test Loss: 0.907 | Test Accuracy: 57.56%\n"
     ]
    },
    {
     "name": "stderr",
     "output_type": "stream",
     "text": [
      " 85%|████████▌ | 17/20 [04:02<00:38, 12.97s/it]"
     ]
    },
    {
     "name": "stdout",
     "output_type": "stream",
     "text": [
      "Epoch: 16 | Train Loss: 0.745 | Train Accuracy: 65.62% | Test Loss: 0.917 | Test Accuracy: 55.68%\n"
     ]
    },
    {
     "name": "stderr",
     "output_type": "stream",
     "text": [
      " 90%|█████████ | 18/20 [04:16<00:26, 13.21s/it]"
     ]
    },
    {
     "name": "stdout",
     "output_type": "stream",
     "text": [
      "Epoch: 17 | Train Loss: 0.815 | Train Accuracy: 61.67% | Test Loss: 0.878 | Test Accuracy: 58.13%\n"
     ]
    },
    {
     "name": "stderr",
     "output_type": "stream",
     "text": [
      " 95%|█████████▌| 19/20 [04:31<00:13, 13.91s/it]"
     ]
    },
    {
     "name": "stdout",
     "output_type": "stream",
     "text": [
      "Epoch: 18 | Train Loss: 0.709 | Train Accuracy: 71.04% | Test Loss: 0.859 | Test Accuracy: 55.34%\n"
     ]
    },
    {
     "name": "stderr",
     "output_type": "stream",
     "text": [
      "100%|██████████| 20/20 [04:46<00:00, 14.33s/it]"
     ]
    },
    {
     "name": "stdout",
     "output_type": "stream",
     "text": [
      "Epoch: 19 | Train Loss: 0.722 | Train Accuracy: 65.42% | Test Loss: 0.858 | Test Accuracy: 58.47%\n"
     ]
    },
    {
     "name": "stderr",
     "output_type": "stream",
     "text": [
      "\n"
     ]
    }
   ],
   "source": [
    "EPOCHS= 20\n",
    "loss_fn = nn.CrossEntropyLoss()\n",
    "optimizer= torch.optim.Adam(params= model_0.parameters(), lr= 0.001)\n",
    "\n",
    "model_0_results_20_epochs= train(model= model_0,\n",
    "                                train_dataloader= train_dataloader,\n",
    "                                test_dataloader= test_dataloader,\n",
    "                                epochs= EPOCHS,\n",
    "                                loss_fn= loss_fn,\n",
    "                                optimizer= optimizer,\n",
    "                                device= device)"
   ]
  },
  {
   "cell_type": "code",
   "execution_count": 14,
   "metadata": {},
   "outputs": [
    {
     "name": "stderr",
     "output_type": "stream",
     "text": [
      "  2%|▏         | 1/50 [00:14<11:36, 14.22s/it]"
     ]
    },
    {
     "name": "stdout",
     "output_type": "stream",
     "text": [
      "Epoch: 0 | Train Loss: 0.768 | Train Accuracy: 66.04% | Test Loss: 0.869 | Test Accuracy: 60.40%\n"
     ]
    },
    {
     "name": "stderr",
     "output_type": "stream",
     "text": [
      "  4%|▍         | 2/50 [00:30<12:12, 15.26s/it]"
     ]
    },
    {
     "name": "stdout",
     "output_type": "stream",
     "text": [
      "Epoch: 1 | Train Loss: 0.676 | Train Accuracy: 67.29% | Test Loss: 0.888 | Test Accuracy: 59.38%\n"
     ]
    },
    {
     "name": "stderr",
     "output_type": "stream",
     "text": [
      "  6%|▌         | 3/50 [00:43<11:11, 14.29s/it]"
     ]
    },
    {
     "name": "stdout",
     "output_type": "stream",
     "text": [
      "Epoch: 2 | Train Loss: 0.690 | Train Accuracy: 68.33% | Test Loss: 0.906 | Test Accuracy: 57.56%\n"
     ]
    },
    {
     "name": "stderr",
     "output_type": "stream",
     "text": [
      "  8%|▊         | 4/50 [00:56<10:29, 13.69s/it]"
     ]
    },
    {
     "name": "stdout",
     "output_type": "stream",
     "text": [
      "Epoch: 3 | Train Loss: 0.643 | Train Accuracy: 71.25% | Test Loss: 0.950 | Test Accuracy: 60.28%\n"
     ]
    },
    {
     "name": "stderr",
     "output_type": "stream",
     "text": [
      " 10%|█         | 5/50 [01:09<10:04, 13.43s/it]"
     ]
    },
    {
     "name": "stdout",
     "output_type": "stream",
     "text": [
      "Epoch: 4 | Train Loss: 0.690 | Train Accuracy: 70.00% | Test Loss: 0.915 | Test Accuracy: 57.56%\n"
     ]
    },
    {
     "name": "stderr",
     "output_type": "stream",
     "text": [
      " 12%|█▏        | 6/50 [01:21<09:40, 13.19s/it]"
     ]
    },
    {
     "name": "stdout",
     "output_type": "stream",
     "text": [
      "Epoch: 5 | Train Loss: 0.588 | Train Accuracy: 78.54% | Test Loss: 0.902 | Test Accuracy: 58.81%\n"
     ]
    },
    {
     "name": "stderr",
     "output_type": "stream",
     "text": [
      " 14%|█▍        | 7/50 [01:34<09:20, 13.02s/it]"
     ]
    },
    {
     "name": "stdout",
     "output_type": "stream",
     "text": [
      "Epoch: 6 | Train Loss: 0.733 | Train Accuracy: 74.17% | Test Loss: 0.931 | Test Accuracy: 57.27%\n"
     ]
    },
    {
     "name": "stderr",
     "output_type": "stream",
     "text": [
      " 16%|█▌        | 8/50 [01:47<09:04, 12.97s/it]"
     ]
    },
    {
     "name": "stdout",
     "output_type": "stream",
     "text": [
      "Epoch: 7 | Train Loss: 0.581 | Train Accuracy: 74.79% | Test Loss: 0.919 | Test Accuracy: 60.34%\n"
     ]
    },
    {
     "name": "stderr",
     "output_type": "stream",
     "text": [
      " 18%|█▊        | 9/50 [01:59<08:45, 12.81s/it]"
     ]
    },
    {
     "name": "stdout",
     "output_type": "stream",
     "text": [
      "Epoch: 8 | Train Loss: 0.591 | Train Accuracy: 75.42% | Test Loss: 0.939 | Test Accuracy: 56.99%\n"
     ]
    },
    {
     "name": "stderr",
     "output_type": "stream",
     "text": [
      " 20%|██        | 10/50 [02:12<08:30, 12.75s/it]"
     ]
    },
    {
     "name": "stdout",
     "output_type": "stream",
     "text": [
      "Epoch: 9 | Train Loss: 0.598 | Train Accuracy: 74.17% | Test Loss: 0.958 | Test Accuracy: 59.60%\n"
     ]
    },
    {
     "name": "stderr",
     "output_type": "stream",
     "text": [
      " 22%|██▏       | 11/50 [02:25<08:16, 12.72s/it]"
     ]
    },
    {
     "name": "stdout",
     "output_type": "stream",
     "text": [
      "Epoch: 10 | Train Loss: 0.512 | Train Accuracy: 79.17% | Test Loss: 0.954 | Test Accuracy: 58.81%\n"
     ]
    },
    {
     "name": "stderr",
     "output_type": "stream",
     "text": [
      " 24%|██▍       | 12/50 [02:37<08:05, 12.76s/it]"
     ]
    },
    {
     "name": "stdout",
     "output_type": "stream",
     "text": [
      "Epoch: 11 | Train Loss: 0.520 | Train Accuracy: 80.21% | Test Loss: 1.112 | Test Accuracy: 58.30%\n"
     ]
    },
    {
     "name": "stderr",
     "output_type": "stream",
     "text": [
      " 26%|██▌       | 13/50 [02:51<07:58, 12.92s/it]"
     ]
    },
    {
     "name": "stdout",
     "output_type": "stream",
     "text": [
      "Epoch: 12 | Train Loss: 0.511 | Train Accuracy: 78.96% | Test Loss: 0.982 | Test Accuracy: 57.27%\n"
     ]
    },
    {
     "name": "stderr",
     "output_type": "stream",
     "text": [
      " 28%|██▊       | 14/50 [03:04<07:50, 13.07s/it]"
     ]
    },
    {
     "name": "stdout",
     "output_type": "stream",
     "text": [
      "Epoch: 13 | Train Loss: 0.476 | Train Accuracy: 80.21% | Test Loss: 1.032 | Test Accuracy: 52.90%\n"
     ]
    },
    {
     "name": "stderr",
     "output_type": "stream",
     "text": [
      " 30%|███       | 15/50 [03:17<07:34, 12.97s/it]"
     ]
    },
    {
     "name": "stdout",
     "output_type": "stream",
     "text": [
      "Epoch: 14 | Train Loss: 0.452 | Train Accuracy: 82.08% | Test Loss: 1.049 | Test Accuracy: 54.43%\n"
     ]
    },
    {
     "name": "stderr",
     "output_type": "stream",
     "text": [
      " 32%|███▏      | 16/50 [03:30<07:20, 12.94s/it]"
     ]
    },
    {
     "name": "stdout",
     "output_type": "stream",
     "text": [
      "Epoch: 15 | Train Loss: 0.443 | Train Accuracy: 84.79% | Test Loss: 1.145 | Test Accuracy: 56.88%\n"
     ]
    },
    {
     "name": "stderr",
     "output_type": "stream",
     "text": [
      " 34%|███▍      | 17/50 [03:43<07:11, 13.09s/it]"
     ]
    },
    {
     "name": "stdout",
     "output_type": "stream",
     "text": [
      "Epoch: 16 | Train Loss: 0.405 | Train Accuracy: 82.92% | Test Loss: 1.235 | Test Accuracy: 57.27%\n"
     ]
    },
    {
     "name": "stderr",
     "output_type": "stream",
     "text": [
      " 36%|███▌      | 18/50 [03:57<07:05, 13.30s/it]"
     ]
    },
    {
     "name": "stdout",
     "output_type": "stream",
     "text": [
      "Epoch: 17 | Train Loss: 0.473 | Train Accuracy: 77.50% | Test Loss: 1.136 | Test Accuracy: 55.11%\n"
     ]
    },
    {
     "name": "stderr",
     "output_type": "stream",
     "text": [
      " 38%|███▊      | 19/50 [04:12<07:06, 13.77s/it]"
     ]
    },
    {
     "name": "stdout",
     "output_type": "stream",
     "text": [
      "Epoch: 18 | Train Loss: 0.441 | Train Accuracy: 82.08% | Test Loss: 1.177 | Test Accuracy: 56.88%\n"
     ]
    },
    {
     "name": "stderr",
     "output_type": "stream",
     "text": [
      " 40%|████      | 20/50 [04:26<06:52, 13.74s/it]"
     ]
    },
    {
     "name": "stdout",
     "output_type": "stream",
     "text": [
      "Epoch: 19 | Train Loss: 0.407 | Train Accuracy: 84.17% | Test Loss: 1.225 | Test Accuracy: 58.69%\n"
     ]
    },
    {
     "name": "stderr",
     "output_type": "stream",
     "text": [
      " 42%|████▏     | 21/50 [04:39<06:37, 13.70s/it]"
     ]
    },
    {
     "name": "stdout",
     "output_type": "stream",
     "text": [
      "Epoch: 20 | Train Loss: 0.396 | Train Accuracy: 84.17% | Test Loss: 1.222 | Test Accuracy: 57.16%\n"
     ]
    },
    {
     "name": "stderr",
     "output_type": "stream",
     "text": [
      " 44%|████▍     | 22/50 [04:54<06:33, 14.05s/it]"
     ]
    },
    {
     "name": "stdout",
     "output_type": "stream",
     "text": [
      "Epoch: 21 | Train Loss: 0.338 | Train Accuracy: 88.54% | Test Loss: 1.272 | Test Accuracy: 52.56%\n"
     ]
    },
    {
     "name": "stderr",
     "output_type": "stream",
     "text": [
      " 46%|████▌     | 23/50 [05:07<06:12, 13.81s/it]"
     ]
    },
    {
     "name": "stdout",
     "output_type": "stream",
     "text": [
      "Epoch: 22 | Train Loss: 0.331 | Train Accuracy: 85.00% | Test Loss: 1.323 | Test Accuracy: 53.52%\n"
     ]
    },
    {
     "name": "stderr",
     "output_type": "stream",
     "text": [
      " 48%|████▊     | 24/50 [05:20<05:52, 13.54s/it]"
     ]
    },
    {
     "name": "stdout",
     "output_type": "stream",
     "text": [
      "Epoch: 23 | Train Loss: 0.338 | Train Accuracy: 85.83% | Test Loss: 1.373 | Test Accuracy: 55.62%\n"
     ]
    },
    {
     "name": "stderr",
     "output_type": "stream",
     "text": [
      " 50%|█████     | 25/50 [05:33<05:31, 13.26s/it]"
     ]
    },
    {
     "name": "stdout",
     "output_type": "stream",
     "text": [
      "Epoch: 24 | Train Loss: 0.336 | Train Accuracy: 86.25% | Test Loss: 1.477 | Test Accuracy: 50.68%\n"
     ]
    },
    {
     "name": "stderr",
     "output_type": "stream",
     "text": [
      " 52%|█████▏    | 26/50 [05:45<05:14, 13.09s/it]"
     ]
    },
    {
     "name": "stdout",
     "output_type": "stream",
     "text": [
      "Epoch: 25 | Train Loss: 0.322 | Train Accuracy: 88.75% | Test Loss: 1.471 | Test Accuracy: 54.72%\n"
     ]
    },
    {
     "name": "stderr",
     "output_type": "stream",
     "text": [
      " 54%|█████▍    | 27/50 [05:58<04:57, 12.92s/it]"
     ]
    },
    {
     "name": "stdout",
     "output_type": "stream",
     "text": [
      "Epoch: 26 | Train Loss: 0.483 | Train Accuracy: 78.54% | Test Loss: 1.485 | Test Accuracy: 56.25%\n"
     ]
    },
    {
     "name": "stderr",
     "output_type": "stream",
     "text": [
      " 56%|█████▌    | 28/50 [06:13<04:58, 13.55s/it]"
     ]
    },
    {
     "name": "stdout",
     "output_type": "stream",
     "text": [
      "Epoch: 27 | Train Loss: 0.382 | Train Accuracy: 83.75% | Test Loss: 1.323 | Test Accuracy: 54.37%\n"
     ]
    },
    {
     "name": "stderr",
     "output_type": "stream",
     "text": [
      " 58%|█████▊    | 29/50 [06:26<04:43, 13.49s/it]"
     ]
    },
    {
     "name": "stdout",
     "output_type": "stream",
     "text": [
      "Epoch: 28 | Train Loss: 0.308 | Train Accuracy: 88.96% | Test Loss: 1.291 | Test Accuracy: 55.68%\n"
     ]
    },
    {
     "name": "stderr",
     "output_type": "stream",
     "text": [
      " 60%|██████    | 30/50 [06:40<04:31, 13.55s/it]"
     ]
    },
    {
     "name": "stdout",
     "output_type": "stream",
     "text": [
      "Epoch: 29 | Train Loss: 0.248 | Train Accuracy: 91.25% | Test Loss: 1.519 | Test Accuracy: 51.99%\n"
     ]
    },
    {
     "name": "stderr",
     "output_type": "stream",
     "text": [
      " 62%|██████▏   | 31/50 [06:54<04:17, 13.55s/it]"
     ]
    },
    {
     "name": "stdout",
     "output_type": "stream",
     "text": [
      "Epoch: 30 | Train Loss: 0.278 | Train Accuracy: 90.42% | Test Loss: 1.459 | Test Accuracy: 56.19%\n"
     ]
    },
    {
     "name": "stderr",
     "output_type": "stream",
     "text": [
      " 64%|██████▍   | 32/50 [07:07<04:01, 13.42s/it]"
     ]
    },
    {
     "name": "stdout",
     "output_type": "stream",
     "text": [
      "Epoch: 31 | Train Loss: 0.226 | Train Accuracy: 93.54% | Test Loss: 1.673 | Test Accuracy: 55.06%\n"
     ]
    },
    {
     "name": "stderr",
     "output_type": "stream",
     "text": [
      " 66%|██████▌   | 33/50 [07:21<03:50, 13.55s/it]"
     ]
    },
    {
     "name": "stdout",
     "output_type": "stream",
     "text": [
      "Epoch: 32 | Train Loss: 0.268 | Train Accuracy: 90.62% | Test Loss: 1.746 | Test Accuracy: 52.90%\n"
     ]
    },
    {
     "name": "stderr",
     "output_type": "stream",
     "text": [
      " 68%|██████▊   | 34/50 [07:34<03:34, 13.40s/it]"
     ]
    },
    {
     "name": "stdout",
     "output_type": "stream",
     "text": [
      "Epoch: 33 | Train Loss: 0.232 | Train Accuracy: 91.67% | Test Loss: 1.659 | Test Accuracy: 52.90%\n"
     ]
    },
    {
     "name": "stderr",
     "output_type": "stream",
     "text": [
      " 70%|███████   | 35/50 [07:47<03:20, 13.34s/it]"
     ]
    },
    {
     "name": "stdout",
     "output_type": "stream",
     "text": [
      "Epoch: 34 | Train Loss: 0.203 | Train Accuracy: 94.38% | Test Loss: 1.760 | Test Accuracy: 55.06%\n"
     ]
    },
    {
     "name": "stderr",
     "output_type": "stream",
     "text": [
      " 72%|███████▏  | 36/50 [08:01<03:09, 13.55s/it]"
     ]
    },
    {
     "name": "stdout",
     "output_type": "stream",
     "text": [
      "Epoch: 35 | Train Loss: 0.265 | Train Accuracy: 88.54% | Test Loss: 1.796 | Test Accuracy: 55.68%\n"
     ]
    },
    {
     "name": "stderr",
     "output_type": "stream",
     "text": [
      " 74%|███████▍  | 37/50 [08:14<02:53, 13.36s/it]"
     ]
    },
    {
     "name": "stdout",
     "output_type": "stream",
     "text": [
      "Epoch: 36 | Train Loss: 0.218 | Train Accuracy: 91.25% | Test Loss: 1.702 | Test Accuracy: 52.90%\n"
     ]
    },
    {
     "name": "stderr",
     "output_type": "stream",
     "text": [
      " 76%|███████▌  | 38/50 [08:27<02:38, 13.25s/it]"
     ]
    },
    {
     "name": "stdout",
     "output_type": "stream",
     "text": [
      "Epoch: 37 | Train Loss: 0.192 | Train Accuracy: 92.71% | Test Loss: 1.872 | Test Accuracy: 53.52%\n"
     ]
    },
    {
     "name": "stderr",
     "output_type": "stream",
     "text": [
      " 78%|███████▊  | 39/50 [08:40<02:25, 13.25s/it]"
     ]
    },
    {
     "name": "stdout",
     "output_type": "stream",
     "text": [
      "Epoch: 38 | Train Loss: 0.141 | Train Accuracy: 95.21% | Test Loss: 1.965 | Test Accuracy: 54.72%\n"
     ]
    },
    {
     "name": "stderr",
     "output_type": "stream",
     "text": [
      " 80%|████████  | 40/50 [08:53<02:11, 13.15s/it]"
     ]
    },
    {
     "name": "stdout",
     "output_type": "stream",
     "text": [
      "Epoch: 39 | Train Loss: 0.132 | Train Accuracy: 96.67% | Test Loss: 2.108 | Test Accuracy: 53.81%\n"
     ]
    },
    {
     "name": "stderr",
     "output_type": "stream",
     "text": [
      " 82%|████████▏ | 41/50 [09:06<01:57, 13.03s/it]"
     ]
    },
    {
     "name": "stdout",
     "output_type": "stream",
     "text": [
      "Epoch: 40 | Train Loss: 0.111 | Train Accuracy: 97.08% | Test Loss: 2.152 | Test Accuracy: 51.65%\n"
     ]
    },
    {
     "name": "stderr",
     "output_type": "stream",
     "text": [
      " 84%|████████▍ | 42/50 [09:18<01:43, 12.96s/it]"
     ]
    },
    {
     "name": "stdout",
     "output_type": "stream",
     "text": [
      "Epoch: 41 | Train Loss: 0.101 | Train Accuracy: 97.29% | Test Loss: 2.288 | Test Accuracy: 54.09%\n"
     ]
    },
    {
     "name": "stderr",
     "output_type": "stream",
     "text": [
      " 86%|████████▌ | 43/50 [09:31<01:30, 12.89s/it]"
     ]
    },
    {
     "name": "stdout",
     "output_type": "stream",
     "text": [
      "Epoch: 42 | Train Loss: 0.100 | Train Accuracy: 97.50% | Test Loss: 2.486 | Test Accuracy: 56.19%\n"
     ]
    },
    {
     "name": "stderr",
     "output_type": "stream",
     "text": [
      " 88%|████████▊ | 44/50 [09:44<01:16, 12.80s/it]"
     ]
    },
    {
     "name": "stdout",
     "output_type": "stream",
     "text": [
      "Epoch: 43 | Train Loss: 0.377 | Train Accuracy: 87.92% | Test Loss: 2.188 | Test Accuracy: 56.76%\n"
     ]
    },
    {
     "name": "stderr",
     "output_type": "stream",
     "text": [
      " 90%|█████████ | 45/50 [09:56<01:03, 12.70s/it]"
     ]
    },
    {
     "name": "stdout",
     "output_type": "stream",
     "text": [
      "Epoch: 44 | Train Loss: 0.350 | Train Accuracy: 86.04% | Test Loss: 1.810 | Test Accuracy: 51.59%\n"
     ]
    },
    {
     "name": "stderr",
     "output_type": "stream",
     "text": [
      " 92%|█████████▏| 46/50 [10:09<00:50, 12.71s/it]"
     ]
    },
    {
     "name": "stdout",
     "output_type": "stream",
     "text": [
      "Epoch: 45 | Train Loss: 0.395 | Train Accuracy: 82.50% | Test Loss: 1.722 | Test Accuracy: 58.13%\n"
     ]
    },
    {
     "name": "stderr",
     "output_type": "stream",
     "text": [
      " 94%|█████████▍| 47/50 [10:22<00:38, 12.70s/it]"
     ]
    },
    {
     "name": "stdout",
     "output_type": "stream",
     "text": [
      "Epoch: 46 | Train Loss: 0.442 | Train Accuracy: 85.21% | Test Loss: 1.802 | Test Accuracy: 52.22%\n"
     ]
    },
    {
     "name": "stderr",
     "output_type": "stream",
     "text": [
      " 96%|█████████▌| 48/50 [10:34<00:25, 12.67s/it]"
     ]
    },
    {
     "name": "stdout",
     "output_type": "stream",
     "text": [
      "Epoch: 47 | Train Loss: 0.276 | Train Accuracy: 89.17% | Test Loss: 1.619 | Test Accuracy: 52.56%\n"
     ]
    },
    {
     "name": "stderr",
     "output_type": "stream",
     "text": [
      " 98%|█████████▊| 49/50 [10:48<00:13, 13.10s/it]"
     ]
    },
    {
     "name": "stdout",
     "output_type": "stream",
     "text": [
      "Epoch: 48 | Train Loss: 0.183 | Train Accuracy: 92.29% | Test Loss: 1.739 | Test Accuracy: 53.52%\n"
     ]
    },
    {
     "name": "stderr",
     "output_type": "stream",
     "text": [
      "100%|██████████| 50/50 [11:03<00:00, 13.27s/it]"
     ]
    },
    {
     "name": "stdout",
     "output_type": "stream",
     "text": [
      "Epoch: 49 | Train Loss: 0.153 | Train Accuracy: 95.83% | Test Loss: 1.937 | Test Accuracy: 55.34%\n"
     ]
    },
    {
     "name": "stderr",
     "output_type": "stream",
     "text": [
      "\n"
     ]
    }
   ],
   "source": [
    "EPOCHS= 50\n",
    "loss_fn = nn.CrossEntropyLoss()\n",
    "optimizer= torch.optim.Adam(params= model_0.parameters(), lr= 0.001)\n",
    "\n",
    "model_0_results_50_epochs= train(model= model_0,\n",
    "                                train_dataloader= train_dataloader,\n",
    "                                test_dataloader= test_dataloader,\n",
    "                                epochs= EPOCHS,\n",
    "                                loss_fn= loss_fn,\n",
    "                                optimizer= optimizer,\n",
    "                                device= device)"
   ]
  },
  {
   "cell_type": "markdown",
   "metadata": {},
   "source": [
    "6. Double the number of hidden units in your model and train it for 20 epochs, what happens to the results?"
   ]
  },
  {
   "cell_type": "code",
   "execution_count": 15,
   "metadata": {},
   "outputs": [],
   "source": [
    "model_1= TinyVGG(input_shape=3,\n",
    "                 output_shape=len(class_names),\n",
    "                 hidden_units=20)"
   ]
  },
  {
   "cell_type": "code",
   "execution_count": 16,
   "metadata": {},
   "outputs": [
    {
     "name": "stderr",
     "output_type": "stream",
     "text": [
      "  5%|▌         | 1/20 [00:13<04:12, 13.28s/it]"
     ]
    },
    {
     "name": "stdout",
     "output_type": "stream",
     "text": [
      "Epoch: 0 | Train Loss: 1.099 | Train Accuracy: 31.46% | Test Loss: 1.096 | Test Accuracy: 34.72%\n"
     ]
    },
    {
     "name": "stderr",
     "output_type": "stream",
     "text": [
      " 10%|█         | 2/20 [00:27<04:14, 14.12s/it]"
     ]
    },
    {
     "name": "stdout",
     "output_type": "stream",
     "text": [
      "Epoch: 1 | Train Loss: 1.092 | Train Accuracy: 31.67% | Test Loss: 1.068 | Test Accuracy: 41.59%\n"
     ]
    },
    {
     "name": "stderr",
     "output_type": "stream",
     "text": [
      " 15%|█▌        | 3/20 [00:40<03:49, 13.52s/it]"
     ]
    },
    {
     "name": "stdout",
     "output_type": "stream",
     "text": [
      "Epoch: 2 | Train Loss: 1.029 | Train Accuracy: 45.42% | Test Loss: 0.980 | Test Accuracy: 47.50%\n"
     ]
    },
    {
     "name": "stderr",
     "output_type": "stream",
     "text": [
      " 20%|██        | 4/20 [00:53<03:33, 13.32s/it]"
     ]
    },
    {
     "name": "stdout",
     "output_type": "stream",
     "text": [
      "Epoch: 3 | Train Loss: 0.955 | Train Accuracy: 48.33% | Test Loss: 0.944 | Test Accuracy: 48.41%\n"
     ]
    },
    {
     "name": "stderr",
     "output_type": "stream",
     "text": [
      " 25%|██▌       | 5/20 [01:07<03:19, 13.29s/it]"
     ]
    },
    {
     "name": "stdout",
     "output_type": "stream",
     "text": [
      "Epoch: 4 | Train Loss: 0.869 | Train Accuracy: 58.13% | Test Loss: 0.922 | Test Accuracy: 54.32%\n"
     ]
    },
    {
     "name": "stderr",
     "output_type": "stream",
     "text": [
      " 30%|███       | 6/20 [01:19<03:03, 13.09s/it]"
     ]
    },
    {
     "name": "stdout",
     "output_type": "stream",
     "text": [
      "Epoch: 5 | Train Loss: 0.894 | Train Accuracy: 53.12% | Test Loss: 0.928 | Test Accuracy: 55.80%\n"
     ]
    },
    {
     "name": "stderr",
     "output_type": "stream",
     "text": [
      " 35%|███▌      | 7/20 [01:32<02:49, 13.01s/it]"
     ]
    },
    {
     "name": "stdout",
     "output_type": "stream",
     "text": [
      "Epoch: 6 | Train Loss: 0.918 | Train Accuracy: 60.42% | Test Loss: 0.910 | Test Accuracy: 60.62%\n"
     ]
    },
    {
     "name": "stderr",
     "output_type": "stream",
     "text": [
      " 40%|████      | 8/20 [01:46<02:39, 13.31s/it]"
     ]
    },
    {
     "name": "stdout",
     "output_type": "stream",
     "text": [
      "Epoch: 7 | Train Loss: 0.846 | Train Accuracy: 64.38% | Test Loss: 0.902 | Test Accuracy: 55.17%\n"
     ]
    },
    {
     "name": "stderr",
     "output_type": "stream",
     "text": [
      " 45%|████▌     | 9/20 [02:08<02:56, 16.05s/it]"
     ]
    },
    {
     "name": "stdout",
     "output_type": "stream",
     "text": [
      "Epoch: 8 | Train Loss: 0.834 | Train Accuracy: 61.67% | Test Loss: 0.892 | Test Accuracy: 60.06%\n"
     ]
    },
    {
     "name": "stderr",
     "output_type": "stream",
     "text": [
      " 50%|█████     | 10/20 [02:22<02:32, 15.27s/it]"
     ]
    },
    {
     "name": "stdout",
     "output_type": "stream",
     "text": [
      "Epoch: 9 | Train Loss: 0.805 | Train Accuracy: 63.75% | Test Loss: 0.887 | Test Accuracy: 61.31%\n"
     ]
    },
    {
     "name": "stderr",
     "output_type": "stream",
     "text": [
      " 55%|█████▌    | 11/20 [02:36<02:13, 14.85s/it]"
     ]
    },
    {
     "name": "stdout",
     "output_type": "stream",
     "text": [
      "Epoch: 10 | Train Loss: 0.792 | Train Accuracy: 65.21% | Test Loss: 0.921 | Test Accuracy: 59.09%\n"
     ]
    },
    {
     "name": "stderr",
     "output_type": "stream",
     "text": [
      " 60%|██████    | 12/20 [02:48<01:52, 14.02s/it]"
     ]
    },
    {
     "name": "stdout",
     "output_type": "stream",
     "text": [
      "Epoch: 11 | Train Loss: 0.794 | Train Accuracy: 64.17% | Test Loss: 0.884 | Test Accuracy: 63.18%\n"
     ]
    },
    {
     "name": "stderr",
     "output_type": "stream",
     "text": [
      " 65%|██████▌   | 13/20 [03:00<01:33, 13.38s/it]"
     ]
    },
    {
     "name": "stdout",
     "output_type": "stream",
     "text": [
      "Epoch: 12 | Train Loss: 0.737 | Train Accuracy: 69.58% | Test Loss: 0.878 | Test Accuracy: 58.35%\n"
     ]
    },
    {
     "name": "stderr",
     "output_type": "stream",
     "text": [
      " 70%|███████   | 14/20 [03:12<01:17, 12.96s/it]"
     ]
    },
    {
     "name": "stdout",
     "output_type": "stream",
     "text": [
      "Epoch: 13 | Train Loss: 0.741 | Train Accuracy: 62.71% | Test Loss: 0.892 | Test Accuracy: 59.15%\n"
     ]
    },
    {
     "name": "stderr",
     "output_type": "stream",
     "text": [
      " 75%|███████▌  | 15/20 [03:24<01:03, 12.74s/it]"
     ]
    },
    {
     "name": "stdout",
     "output_type": "stream",
     "text": [
      "Epoch: 14 | Train Loss: 0.691 | Train Accuracy: 70.00% | Test Loss: 0.941 | Test Accuracy: 54.32%\n"
     ]
    },
    {
     "name": "stderr",
     "output_type": "stream",
     "text": [
      " 80%|████████  | 16/20 [03:36<00:50, 12.57s/it]"
     ]
    },
    {
     "name": "stdout",
     "output_type": "stream",
     "text": [
      "Epoch: 15 | Train Loss: 0.711 | Train Accuracy: 69.38% | Test Loss: 0.950 | Test Accuracy: 56.93%\n"
     ]
    },
    {
     "name": "stderr",
     "output_type": "stream",
     "text": [
      " 85%|████████▌ | 17/20 [03:48<00:37, 12.41s/it]"
     ]
    },
    {
     "name": "stdout",
     "output_type": "stream",
     "text": [
      "Epoch: 16 | Train Loss: 0.712 | Train Accuracy: 67.71% | Test Loss: 0.934 | Test Accuracy: 56.93%\n"
     ]
    },
    {
     "name": "stderr",
     "output_type": "stream",
     "text": [
      " 90%|█████████ | 18/20 [04:00<00:24, 12.27s/it]"
     ]
    },
    {
     "name": "stdout",
     "output_type": "stream",
     "text": [
      "Epoch: 17 | Train Loss: 0.651 | Train Accuracy: 72.92% | Test Loss: 0.961 | Test Accuracy: 59.77%\n"
     ]
    },
    {
     "name": "stderr",
     "output_type": "stream",
     "text": [
      " 95%|█████████▌| 19/20 [04:13<00:12, 12.52s/it]"
     ]
    },
    {
     "name": "stdout",
     "output_type": "stream",
     "text": [
      "Epoch: 18 | Train Loss: 0.673 | Train Accuracy: 67.92% | Test Loss: 0.906 | Test Accuracy: 57.50%\n"
     ]
    },
    {
     "name": "stderr",
     "output_type": "stream",
     "text": [
      "100%|██████████| 20/20 [04:26<00:00, 13.35s/it]"
     ]
    },
    {
     "name": "stdout",
     "output_type": "stream",
     "text": [
      "Epoch: 19 | Train Loss: 0.625 | Train Accuracy: 73.96% | Test Loss: 0.956 | Test Accuracy: 58.47%\n"
     ]
    },
    {
     "name": "stderr",
     "output_type": "stream",
     "text": [
      "\n"
     ]
    }
   ],
   "source": [
    "EPOCHS= 20\n",
    "loss_fn = nn.CrossEntropyLoss()\n",
    "optimizer= torch.optim.Adam(params= model_1.parameters(), lr= 0.001)\n",
    "\n",
    "model_1_results= train(model= model_1, \n",
    "                       train_dataloader= train_dataloader,\n",
    "                       test_dataloader= test_dataloader,\n",
    "                       epochs= EPOCHS,\n",
    "                       loss_fn= loss_fn,\n",
    "                       optimizer= optimizer,\n",
    "                       device= device)"
   ]
  },
  {
   "cell_type": "markdown",
   "metadata": {},
   "source": [
    "7. Double the data you're using with your model and train it for 20 epochs, what happens to the results?\n",
    "    * **Note**: You can use the custom data creation notebook to scale up your Food101 dataset.\n",
    "    * You can also find the already formatted double data (20% instead of 10% subset) dataset on GitHub, you will need to write download code like in exercise 2 to get it into this notebook."
   ]
  },
  {
   "cell_type": "markdown",
   "metadata": {},
   "source": [
    "### Downloading More data from Food101 Dataset"
   ]
  },
  {
   "cell_type": "code",
   "execution_count": 17,
   "metadata": {},
   "outputs": [],
   "source": [
    "# Setup data directory\n",
    "import pathlib\n",
    "data_dir = pathlib.Path(\"../data\")"
   ]
  },
  {
   "cell_type": "code",
   "execution_count": 18,
   "metadata": {},
   "outputs": [],
   "source": [
    "# Get training data\n",
    "train_data = datasets.Food101(root=data_dir,\n",
    "                              split=\"train\",\n",
    "                              # transform=transforms.ToTensor(),\n",
    "                              download=True)\n",
    "\n",
    "# Get testing data\n",
    "test_data = datasets.Food101(root=data_dir,\n",
    "                             split=\"test\",\n",
    "                             # transform=transforms.ToTensor(),\n",
    "                             download=True)"
   ]
  },
  {
   "cell_type": "code",
   "execution_count": 19,
   "metadata": {},
   "outputs": [
    {
     "data": {
      "text/plain": [
       "Dataset Food101\n",
       "    Number of datapoints: 75750\n",
       "    Root location: ..\\data\n",
       "    split=train"
      ]
     },
     "execution_count": 19,
     "metadata": {},
     "output_type": "execute_result"
    }
   ],
   "source": [
    "train_data"
   ]
  },
  {
   "cell_type": "code",
   "execution_count": 20,
   "metadata": {},
   "outputs": [
    {
     "data": {
      "text/plain": [
       "['apple_pie',\n",
       " 'baby_back_ribs',\n",
       " 'baklava',\n",
       " 'beef_carpaccio',\n",
       " 'beef_tartare',\n",
       " 'beet_salad',\n",
       " 'beignets',\n",
       " 'bibimbap',\n",
       " 'bread_pudding',\n",
       " 'breakfast_burrito']"
      ]
     },
     "execution_count": 20,
     "metadata": {},
     "output_type": "execute_result"
    }
   ],
   "source": [
    "class_names = train_data.classes\n",
    "class_names[:10]"
   ]
  },
  {
   "cell_type": "code",
   "execution_count": 21,
   "metadata": {},
   "outputs": [
    {
     "name": "stdout",
     "output_type": "stream",
     "text": [
      "[INFO] Creating image split for train...\n",
      "[INFO] Getting random subset of 450 images for train...\n",
      "[INFO] Creating image split for test...\n",
      "[INFO] Getting random subset of 150 images for test...\n"
     ]
    },
    {
     "data": {
      "text/plain": [
       "[WindowsPath('../data/food-101/images/pizza/3269634.jpg'),\n",
       " WindowsPath('../data/food-101/images/pizza/1524655.jpg'),\n",
       " WindowsPath('../data/food-101/images/steak/2825100.jpg'),\n",
       " WindowsPath('../data/food-101/images/steak/225990.jpg'),\n",
       " WindowsPath('../data/food-101/images/steak/1839481.jpg'),\n",
       " WindowsPath('../data/food-101/images/pizza/38349.jpg'),\n",
       " WindowsPath('../data/food-101/images/pizza/3018077.jpg'),\n",
       " WindowsPath('../data/food-101/images/sushi/93139.jpg'),\n",
       " WindowsPath('../data/food-101/images/pizza/2702825.jpg'),\n",
       " WindowsPath('../data/food-101/images/sushi/200025.jpg')]"
      ]
     },
     "execution_count": 21,
     "metadata": {},
     "output_type": "execute_result"
    }
   ],
   "source": [
    "import random \n",
    "import pathlib\n",
    "\n",
    "# Setup data paths\n",
    "data_path = DATA_PATH / 'food-101'/ 'images'\n",
    "target_classes= ['pizza', 'steak', 'sushi']\n",
    "\n",
    "# Change amount to get (0.2 = random 20%)\n",
    "amount_to_get= 0.2\n",
    "\n",
    "def get_subset(image_path= data_path,\n",
    "               data_splits= ['train', 'test'],\n",
    "               target_classes=['pizza', 'steak', 'sushi'],\n",
    "               amount= amount_to_get,\n",
    "               seed= 42):\n",
    "    \n",
    "    random.seed(seed)\n",
    "    label_splits= {}\n",
    "\n",
    "    # Get labels \n",
    "    for data_split in data_splits:\n",
    "        print(f\"[INFO] Creating image split for {data_split}...\")\n",
    "        label_path= DATA_PATH/ 'food-101'/'meta'/f'{data_split}.txt'\n",
    "        with open(label_path, 'r') as f:\n",
    "            labels = [line.strip(\"\\n\") for line in f.readlines() if line.split(\"/\")[0] in target_classes] \n",
    "        \n",
    "        # Get random subset of target classes image ID's\n",
    "        number_to_sample = round(amount * len(labels))\n",
    "        print(f\"[INFO] Getting random subset of {number_to_sample} images for {data_split}...\")\n",
    "        sampled_images = random.sample(labels, k=number_to_sample)\n",
    "        \n",
    "        # Apply full paths\n",
    "        image_paths = [pathlib.Path(str(image_path / sample_image) + \".jpg\") for sample_image in sampled_images]\n",
    "        label_splits[data_split] = image_paths\n",
    "    return label_splits\n",
    "        \n",
    "label_splits = get_subset(amount=amount_to_get)\n",
    "label_splits[\"train\"][:10]"
   ]
  },
  {
   "cell_type": "code",
   "execution_count": 22,
   "metadata": {},
   "outputs": [
    {
     "name": "stdout",
     "output_type": "stream",
     "text": [
      "Creating directory: '../data/pizza_steak_sushi_20_percent'\n"
     ]
    }
   ],
   "source": [
    "# Create target directory path\n",
    "target_dir_name = f\"../data/pizza_steak_sushi_{str(int(amount_to_get*100))}_percent\"\n",
    "print(f\"Creating directory: '{target_dir_name}'\")\n",
    "\n",
    "# Setup the directories\n",
    "target_dir = pathlib.Path(target_dir_name)\n",
    "\n",
    "# Make the directories\n",
    "target_dir.mkdir(parents=True, exist_ok=True)"
   ]
  },
  {
   "cell_type": "code",
   "execution_count": 23,
   "metadata": {},
   "outputs": [
    {
     "name": "stdout",
     "output_type": "stream",
     "text": [
      "[INFO] Copying ..\\data\\food-101\\images\\pizza\\3269634.jpg to ..\\data\\pizza_steak_sushi_20_percent\\train\\pizza\\3269634.jpg...\n",
      "[INFO] Copying ..\\data\\food-101\\images\\pizza\\1524655.jpg to ..\\data\\pizza_steak_sushi_20_percent\\train\\pizza\\1524655.jpg...\n",
      "[INFO] Copying ..\\data\\food-101\\images\\steak\\2825100.jpg to ..\\data\\pizza_steak_sushi_20_percent\\train\\steak\\2825100.jpg...\n",
      "[INFO] Copying ..\\data\\food-101\\images\\steak\\225990.jpg to ..\\data\\pizza_steak_sushi_20_percent\\train\\steak\\225990.jpg...\n",
      "[INFO] Copying ..\\data\\food-101\\images\\steak\\1839481.jpg to ..\\data\\pizza_steak_sushi_20_percent\\train\\steak\\1839481.jpg...\n",
      "[INFO] Copying ..\\data\\food-101\\images\\pizza\\38349.jpg to ..\\data\\pizza_steak_sushi_20_percent\\train\\pizza\\38349.jpg...\n",
      "[INFO] Copying ..\\data\\food-101\\images\\pizza\\3018077.jpg to ..\\data\\pizza_steak_sushi_20_percent\\train\\pizza\\3018077.jpg...\n",
      "[INFO] Copying ..\\data\\food-101\\images\\sushi\\93139.jpg to ..\\data\\pizza_steak_sushi_20_percent\\train\\sushi\\93139.jpg...\n",
      "[INFO] Copying ..\\data\\food-101\\images\\pizza\\2702825.jpg to ..\\data\\pizza_steak_sushi_20_percent\\train\\pizza\\2702825.jpg...\n",
      "[INFO] Copying ..\\data\\food-101\\images\\sushi\\200025.jpg to ..\\data\\pizza_steak_sushi_20_percent\\train\\sushi\\200025.jpg...\n",
      "[INFO] Copying ..\\data\\food-101\\images\\pizza\\1654444.jpg to ..\\data\\pizza_steak_sushi_20_percent\\train\\pizza\\1654444.jpg...\n",
      "[INFO] Copying ..\\data\\food-101\\images\\pizza\\1633289.jpg to ..\\data\\pizza_steak_sushi_20_percent\\train\\pizza\\1633289.jpg...\n",
      "[INFO] Copying ..\\data\\food-101\\images\\pizza\\2811032.jpg to ..\\data\\pizza_steak_sushi_20_percent\\train\\pizza\\2811032.jpg...\n",
      "[INFO] Copying ..\\data\\food-101\\images\\steak\\1736968.jpg to ..\\data\\pizza_steak_sushi_20_percent\\train\\steak\\1736968.jpg...\n",
      "[INFO] Copying ..\\data\\food-101\\images\\steak\\2013535.jpg to ..\\data\\pizza_steak_sushi_20_percent\\train\\steak\\2013535.jpg...\n",
      "[INFO] Copying ..\\data\\food-101\\images\\sushi\\385154.jpg to ..\\data\\pizza_steak_sushi_20_percent\\train\\sushi\\385154.jpg...\n",
      "[INFO] Copying ..\\data\\food-101\\images\\pizza\\1572608.jpg to ..\\data\\pizza_steak_sushi_20_percent\\train\\pizza\\1572608.jpg...\n",
      "[INFO] Copying ..\\data\\food-101\\images\\steak\\1382427.jpg to ..\\data\\pizza_steak_sushi_20_percent\\train\\steak\\1382427.jpg...\n",
      "[INFO] Copying ..\\data\\food-101\\images\\sushi\\1957449.jpg to ..\\data\\pizza_steak_sushi_20_percent\\train\\sushi\\1957449.jpg...\n",
      "[INFO] Copying ..\\data\\food-101\\images\\steak\\1787505.jpg to ..\\data\\pizza_steak_sushi_20_percent\\train\\steak\\1787505.jpg...\n",
      "[INFO] Copying ..\\data\\food-101\\images\\sushi\\2590819.jpg to ..\\data\\pizza_steak_sushi_20_percent\\train\\sushi\\2590819.jpg...\n",
      "[INFO] Copying ..\\data\\food-101\\images\\steak\\2880035.jpg to ..\\data\\pizza_steak_sushi_20_percent\\train\\steak\\2880035.jpg...\n",
      "[INFO] Copying ..\\data\\food-101\\images\\pizza\\1089334.jpg to ..\\data\\pizza_steak_sushi_20_percent\\train\\pizza\\1089334.jpg...\n",
      "[INFO] Copying ..\\data\\food-101\\images\\pizza\\68684.jpg to ..\\data\\pizza_steak_sushi_20_percent\\train\\pizza\\68684.jpg...\n",
      "[INFO] Copying ..\\data\\food-101\\images\\sushi\\2017378.jpg to ..\\data\\pizza_steak_sushi_20_percent\\train\\sushi\\2017378.jpg...\n",
      "[INFO] Copying ..\\data\\food-101\\images\\steak\\482022.jpg to ..\\data\\pizza_steak_sushi_20_percent\\train\\steak\\482022.jpg...\n",
      "[INFO] Copying ..\\data\\food-101\\images\\steak\\2878151.jpg to ..\\data\\pizza_steak_sushi_20_percent\\train\\steak\\2878151.jpg...\n",
      "[INFO] Copying ..\\data\\food-101\\images\\pizza\\618348.jpg to ..\\data\\pizza_steak_sushi_20_percent\\train\\pizza\\618348.jpg...\n",
      "[INFO] Copying ..\\data\\food-101\\images\\steak\\167069.jpg to ..\\data\\pizza_steak_sushi_20_percent\\train\\steak\\167069.jpg...\n",
      "[INFO] Copying ..\\data\\food-101\\images\\steak\\421476.jpg to ..\\data\\pizza_steak_sushi_20_percent\\train\\steak\\421476.jpg...\n",
      "[INFO] Copying ..\\data\\food-101\\images\\pizza\\300869.jpg to ..\\data\\pizza_steak_sushi_20_percent\\train\\pizza\\300869.jpg...\n",
      "[INFO] Copying ..\\data\\food-101\\images\\pizza\\2785084.jpg to ..\\data\\pizza_steak_sushi_20_percent\\train\\pizza\\2785084.jpg...\n",
      "[INFO] Copying ..\\data\\food-101\\images\\sushi\\1221830.jpg to ..\\data\\pizza_steak_sushi_20_percent\\train\\sushi\\1221830.jpg...\n",
      "[INFO] Copying ..\\data\\food-101\\images\\pizza\\2885050.jpg to ..\\data\\pizza_steak_sushi_20_percent\\train\\pizza\\2885050.jpg...\n",
      "[INFO] Copying ..\\data\\food-101\\images\\steak\\830007.jpg to ..\\data\\pizza_steak_sushi_20_percent\\train\\steak\\830007.jpg...\n",
      "[INFO] Copying ..\\data\\food-101\\images\\steak\\560503.jpg to ..\\data\\pizza_steak_sushi_20_percent\\train\\steak\\560503.jpg...\n",
      "[INFO] Copying ..\\data\\food-101\\images\\steak\\2603058.jpg to ..\\data\\pizza_steak_sushi_20_percent\\train\\steak\\2603058.jpg...\n",
      "[INFO] Copying ..\\data\\food-101\\images\\pizza\\1899785.jpg to ..\\data\\pizza_steak_sushi_20_percent\\train\\pizza\\1899785.jpg...\n",
      "[INFO] Copying ..\\data\\food-101\\images\\sushi\\2813454.jpg to ..\\data\\pizza_steak_sushi_20_percent\\train\\sushi\\2813454.jpg...\n",
      "[INFO] Copying ..\\data\\food-101\\images\\sushi\\773725.jpg to ..\\data\\pizza_steak_sushi_20_percent\\train\\sushi\\773725.jpg...\n",
      "[INFO] Copying ..\\data\\food-101\\images\\pizza\\3505182.jpg to ..\\data\\pizza_steak_sushi_20_percent\\train\\pizza\\3505182.jpg...\n",
      "[INFO] Copying ..\\data\\food-101\\images\\sushi\\1209865.jpg to ..\\data\\pizza_steak_sushi_20_percent\\train\\sushi\\1209865.jpg...\n",
      "[INFO] Copying ..\\data\\food-101\\images\\pizza\\2569760.jpg to ..\\data\\pizza_steak_sushi_20_percent\\train\\pizza\\2569760.jpg...\n",
      "[INFO] Copying ..\\data\\food-101\\images\\steak\\3142045.jpg to ..\\data\\pizza_steak_sushi_20_percent\\train\\steak\\3142045.jpg...\n",
      "[INFO] Copying ..\\data\\food-101\\images\\steak\\914570.jpg to ..\\data\\pizza_steak_sushi_20_percent\\train\\steak\\914570.jpg...\n",
      "[INFO] Copying ..\\data\\food-101\\images\\steak\\1264154.jpg to ..\\data\\pizza_steak_sushi_20_percent\\train\\steak\\1264154.jpg...\n",
      "[INFO] Copying ..\\data\\food-101\\images\\pizza\\2428085.jpg to ..\\data\\pizza_steak_sushi_20_percent\\train\\pizza\\2428085.jpg...\n",
      "[INFO] Copying ..\\data\\food-101\\images\\pizza\\1947572.jpg to ..\\data\\pizza_steak_sushi_20_percent\\train\\pizza\\1947572.jpg...\n",
      "[INFO] Copying ..\\data\\food-101\\images\\steak\\1937872.jpg to ..\\data\\pizza_steak_sushi_20_percent\\train\\steak\\1937872.jpg...\n",
      "[INFO] Copying ..\\data\\food-101\\images\\steak\\3074367.jpg to ..\\data\\pizza_steak_sushi_20_percent\\train\\steak\\3074367.jpg...\n",
      "[INFO] Copying ..\\data\\food-101\\images\\pizza\\2576168.jpg to ..\\data\\pizza_steak_sushi_20_percent\\train\\pizza\\2576168.jpg...\n",
      "[INFO] Copying ..\\data\\food-101\\images\\steak\\2017387.jpg to ..\\data\\pizza_steak_sushi_20_percent\\train\\steak\\2017387.jpg...\n",
      "[INFO] Copying ..\\data\\food-101\\images\\pizza\\2992084.jpg to ..\\data\\pizza_steak_sushi_20_percent\\train\\pizza\\2992084.jpg...\n",
      "[INFO] Copying ..\\data\\food-101\\images\\sushi\\865839.jpg to ..\\data\\pizza_steak_sushi_20_percent\\train\\sushi\\865839.jpg...\n",
      "[INFO] Copying ..\\data\\food-101\\images\\sushi\\900178.jpg to ..\\data\\pizza_steak_sushi_20_percent\\train\\sushi\\900178.jpg...\n",
      "[INFO] Copying ..\\data\\food-101\\images\\sushi\\2674024.jpg to ..\\data\\pizza_steak_sushi_20_percent\\train\\sushi\\2674024.jpg...\n",
      "[INFO] Copying ..\\data\\food-101\\images\\steak\\97656.jpg to ..\\data\\pizza_steak_sushi_20_percent\\train\\steak\\97656.jpg...\n",
      "[INFO] Copying ..\\data\\food-101\\images\\pizza\\739735.jpg to ..\\data\\pizza_steak_sushi_20_percent\\train\\pizza\\739735.jpg...\n",
      "[INFO] Copying ..\\data\\food-101\\images\\sushi\\1070104.jpg to ..\\data\\pizza_steak_sushi_20_percent\\train\\sushi\\1070104.jpg...\n",
      "[INFO] Copying ..\\data\\food-101\\images\\steak\\75537.jpg to ..\\data\\pizza_steak_sushi_20_percent\\train\\steak\\75537.jpg...\n",
      "[INFO] Copying ..\\data\\food-101\\images\\steak\\1598345.jpg to ..\\data\\pizza_steak_sushi_20_percent\\train\\steak\\1598345.jpg...\n",
      "[INFO] Copying ..\\data\\food-101\\images\\steak\\2629750.jpg to ..\\data\\pizza_steak_sushi_20_percent\\train\\steak\\2629750.jpg...\n",
      "[INFO] Copying ..\\data\\food-101\\images\\pizza\\2451169.jpg to ..\\data\\pizza_steak_sushi_20_percent\\train\\pizza\\2451169.jpg...\n",
      "[INFO] Copying ..\\data\\food-101\\images\\pizza\\853441.jpg to ..\\data\\pizza_steak_sushi_20_percent\\train\\pizza\\853441.jpg...\n",
      "[INFO] Copying ..\\data\\food-101\\images\\steak\\2254705.jpg to ..\\data\\pizza_steak_sushi_20_percent\\train\\steak\\2254705.jpg...\n",
      "[INFO] Copying ..\\data\\food-101\\images\\pizza\\741883.jpg to ..\\data\\pizza_steak_sushi_20_percent\\train\\pizza\\741883.jpg...\n",
      "[INFO] Copying ..\\data\\food-101\\images\\sushi\\2871052.jpg to ..\\data\\pizza_steak_sushi_20_percent\\train\\sushi\\2871052.jpg...\n",
      "[INFO] Copying ..\\data\\food-101\\images\\sushi\\121940.jpg to ..\\data\\pizza_steak_sushi_20_percent\\train\\sushi\\121940.jpg...\n",
      "[INFO] Copying ..\\data\\food-101\\images\\steak\\2707522.jpg to ..\\data\\pizza_steak_sushi_20_percent\\train\\steak\\2707522.jpg...\n",
      "[INFO] Copying ..\\data\\food-101\\images\\steak\\176508.jpg to ..\\data\\pizza_steak_sushi_20_percent\\train\\steak\\176508.jpg...\n",
      "[INFO] Copying ..\\data\\food-101\\images\\steak\\3727491.jpg to ..\\data\\pizza_steak_sushi_20_percent\\train\\steak\\3727491.jpg...\n",
      "[INFO] Copying ..\\data\\food-101\\images\\pizza\\2154394.jpg to ..\\data\\pizza_steak_sushi_20_percent\\train\\pizza\\2154394.jpg...\n",
      "[INFO] Copying ..\\data\\food-101\\images\\steak\\1966300.jpg to ..\\data\\pizza_steak_sushi_20_percent\\train\\steak\\1966300.jpg...\n",
      "[INFO] Copying ..\\data\\food-101\\images\\pizza\\1660415.jpg to ..\\data\\pizza_steak_sushi_20_percent\\train\\pizza\\1660415.jpg...\n",
      "[INFO] Copying ..\\data\\food-101\\images\\steak\\3577618.jpg to ..\\data\\pizza_steak_sushi_20_percent\\train\\steak\\3577618.jpg...\n",
      "[INFO] Copying ..\\data\\food-101\\images\\sushi\\1575445.jpg to ..\\data\\pizza_steak_sushi_20_percent\\train\\sushi\\1575445.jpg...\n",
      "[INFO] Copying ..\\data\\food-101\\images\\steak\\2648423.jpg to ..\\data\\pizza_steak_sushi_20_percent\\train\\steak\\2648423.jpg...\n",
      "[INFO] Copying ..\\data\\food-101\\images\\pizza\\2330965.jpg to ..\\data\\pizza_steak_sushi_20_percent\\train\\pizza\\2330965.jpg...\n",
      "[INFO] Copying ..\\data\\food-101\\images\\steak\\1615395.jpg to ..\\data\\pizza_steak_sushi_20_percent\\train\\steak\\1615395.jpg...\n",
      "[INFO] Copying ..\\data\\food-101\\images\\steak\\355715.jpg to ..\\data\\pizza_steak_sushi_20_percent\\train\\steak\\355715.jpg...\n",
      "[INFO] Copying ..\\data\\food-101\\images\\steak\\1624747.jpg to ..\\data\\pizza_steak_sushi_20_percent\\train\\steak\\1624747.jpg...\n",
      "[INFO] Copying ..\\data\\food-101\\images\\sushi\\3737197.jpg to ..\\data\\pizza_steak_sushi_20_percent\\train\\sushi\\3737197.jpg...\n",
      "[INFO] Copying ..\\data\\food-101\\images\\sushi\\148799.jpg to ..\\data\\pizza_steak_sushi_20_percent\\train\\sushi\\148799.jpg...\n",
      "[INFO] Copying ..\\data\\food-101\\images\\sushi\\2797464.jpg to ..\\data\\pizza_steak_sushi_20_percent\\train\\sushi\\2797464.jpg...\n",
      "[INFO] Copying ..\\data\\food-101\\images\\pizza\\393658.jpg to ..\\data\\pizza_steak_sushi_20_percent\\train\\pizza\\393658.jpg...\n",
      "[INFO] Copying ..\\data\\food-101\\images\\steak\\2606444.jpg to ..\\data\\pizza_steak_sushi_20_percent\\train\\steak\\2606444.jpg...\n",
      "[INFO] Copying ..\\data\\food-101\\images\\sushi\\96680.jpg to ..\\data\\pizza_steak_sushi_20_percent\\train\\sushi\\96680.jpg...\n",
      "[INFO] Copying ..\\data\\food-101\\images\\steak\\2287136.jpg to ..\\data\\pizza_steak_sushi_20_percent\\train\\steak\\2287136.jpg...\n",
      "[INFO] Copying ..\\data\\food-101\\images\\steak\\2561199.jpg to ..\\data\\pizza_steak_sushi_20_percent\\train\\steak\\2561199.jpg...\n",
      "[INFO] Copying ..\\data\\food-101\\images\\sushi\\2120573.jpg to ..\\data\\pizza_steak_sushi_20_percent\\train\\sushi\\2120573.jpg...\n",
      "[INFO] Copying ..\\data\\food-101\\images\\sushi\\1552504.jpg to ..\\data\\pizza_steak_sushi_20_percent\\train\\sushi\\1552504.jpg...\n",
      "[INFO] Copying ..\\data\\food-101\\images\\steak\\922752.jpg to ..\\data\\pizza_steak_sushi_20_percent\\train\\steak\\922752.jpg...\n",
      "[INFO] Copying ..\\data\\food-101\\images\\steak\\1761285.jpg to ..\\data\\pizza_steak_sushi_20_percent\\train\\steak\\1761285.jpg...\n",
      "[INFO] Copying ..\\data\\food-101\\images\\pizza\\3821701.jpg to ..\\data\\pizza_steak_sushi_20_percent\\train\\pizza\\3821701.jpg...\n",
      "[INFO] Copying ..\\data\\food-101\\images\\sushi\\424994.jpg to ..\\data\\pizza_steak_sushi_20_percent\\train\\sushi\\424994.jpg...\n",
      "[INFO] Copying ..\\data\\food-101\\images\\sushi\\3579071.jpg to ..\\data\\pizza_steak_sushi_20_percent\\train\\sushi\\3579071.jpg...\n",
      "[INFO] Copying ..\\data\\food-101\\images\\pizza\\2760984.jpg to ..\\data\\pizza_steak_sushi_20_percent\\train\\pizza\\2760984.jpg...\n",
      "[INFO] Copying ..\\data\\food-101\\images\\pizza\\1968947.jpg to ..\\data\\pizza_steak_sushi_20_percent\\train\\pizza\\1968947.jpg...\n",
      "[INFO] Copying ..\\data\\food-101\\images\\pizza\\320570.jpg to ..\\data\\pizza_steak_sushi_20_percent\\train\\pizza\\320570.jpg...\n",
      "[INFO] Copying ..\\data\\food-101\\images\\pizza\\5764.jpg to ..\\data\\pizza_steak_sushi_20_percent\\train\\pizza\\5764.jpg...\n",
      "[INFO] Copying ..\\data\\food-101\\images\\pizza\\702165.jpg to ..\\data\\pizza_steak_sushi_20_percent\\train\\pizza\\702165.jpg...\n",
      "[INFO] Copying ..\\data\\food-101\\images\\sushi\\2004525.jpg to ..\\data\\pizza_steak_sushi_20_percent\\train\\sushi\\2004525.jpg...\n",
      "[INFO] Copying ..\\data\\food-101\\images\\pizza\\2285942.jpg to ..\\data\\pizza_steak_sushi_20_percent\\train\\pizza\\2285942.jpg...\n",
      "[INFO] Copying ..\\data\\food-101\\images\\sushi\\1280119.jpg to ..\\data\\pizza_steak_sushi_20_percent\\train\\sushi\\1280119.jpg...\n",
      "[INFO] Copying ..\\data\\food-101\\images\\sushi\\1232045.jpg to ..\\data\\pizza_steak_sushi_20_percent\\train\\sushi\\1232045.jpg...\n",
      "[INFO] Copying ..\\data\\food-101\\images\\sushi\\3004029.jpg to ..\\data\\pizza_steak_sushi_20_percent\\train\\sushi\\3004029.jpg...\n",
      "[INFO] Copying ..\\data\\food-101\\images\\steak\\239025.jpg to ..\\data\\pizza_steak_sushi_20_percent\\train\\steak\\239025.jpg...\n",
      "[INFO] Copying ..\\data\\food-101\\images\\pizza\\12301.jpg to ..\\data\\pizza_steak_sushi_20_percent\\train\\pizza\\12301.jpg...\n",
      "[INFO] Copying ..\\data\\food-101\\images\\pizza\\3338774.jpg to ..\\data\\pizza_steak_sushi_20_percent\\train\\pizza\\3338774.jpg...\n",
      "[INFO] Copying ..\\data\\food-101\\images\\steak\\2628106.jpg to ..\\data\\pizza_steak_sushi_20_percent\\train\\steak\\2628106.jpg...\n",
      "[INFO] Copying ..\\data\\food-101\\images\\sushi\\902214.jpg to ..\\data\\pizza_steak_sushi_20_percent\\train\\sushi\\902214.jpg...\n",
      "[INFO] Copying ..\\data\\food-101\\images\\sushi\\999858.jpg to ..\\data\\pizza_steak_sushi_20_percent\\train\\sushi\\999858.jpg...\n",
      "[INFO] Copying ..\\data\\food-101\\images\\steak\\3142674.jpg to ..\\data\\pizza_steak_sushi_20_percent\\train\\steak\\3142674.jpg...\n",
      "[INFO] Copying ..\\data\\food-101\\images\\sushi\\2267190.jpg to ..\\data\\pizza_steak_sushi_20_percent\\train\\sushi\\2267190.jpg...\n",
      "[INFO] Copying ..\\data\\food-101\\images\\pizza\\667309.jpg to ..\\data\\pizza_steak_sushi_20_percent\\train\\pizza\\667309.jpg...\n",
      "[INFO] Copying ..\\data\\food-101\\images\\sushi\\268990.jpg to ..\\data\\pizza_steak_sushi_20_percent\\train\\sushi\\268990.jpg...\n",
      "[INFO] Copying ..\\data\\food-101\\images\\pizza\\1044789.jpg to ..\\data\\pizza_steak_sushi_20_percent\\train\\pizza\\1044789.jpg...\n",
      "[INFO] Copying ..\\data\\food-101\\images\\steak\\256592.jpg to ..\\data\\pizza_steak_sushi_20_percent\\train\\steak\\256592.jpg...\n",
      "[INFO] Copying ..\\data\\food-101\\images\\sushi\\377047.jpg to ..\\data\\pizza_steak_sushi_20_percent\\train\\sushi\\377047.jpg...\n",
      "[INFO] Copying ..\\data\\food-101\\images\\pizza\\928670.jpg to ..\\data\\pizza_steak_sushi_20_percent\\train\\pizza\\928670.jpg...\n",
      "[INFO] Copying ..\\data\\food-101\\images\\sushi\\390178.jpg to ..\\data\\pizza_steak_sushi_20_percent\\train\\sushi\\390178.jpg...\n",
      "[INFO] Copying ..\\data\\food-101\\images\\pizza\\3109486.jpg to ..\\data\\pizza_steak_sushi_20_percent\\train\\pizza\\3109486.jpg...\n",
      "[INFO] Copying ..\\data\\food-101\\images\\steak\\3245622.jpg to ..\\data\\pizza_steak_sushi_20_percent\\train\\steak\\3245622.jpg...\n",
      "[INFO] Copying ..\\data\\food-101\\images\\sushi\\568994.jpg to ..\\data\\pizza_steak_sushi_20_percent\\train\\sushi\\568994.jpg...\n",
      "[INFO] Copying ..\\data\\food-101\\images\\sushi\\929471.jpg to ..\\data\\pizza_steak_sushi_20_percent\\train\\sushi\\929471.jpg...\n",
      "[INFO] Copying ..\\data\\food-101\\images\\sushi\\649456.jpg to ..\\data\\pizza_steak_sushi_20_percent\\train\\sushi\\649456.jpg...\n",
      "[INFO] Copying ..\\data\\food-101\\images\\sushi\\1138695.jpg to ..\\data\\pizza_steak_sushi_20_percent\\train\\sushi\\1138695.jpg...\n",
      "[INFO] Copying ..\\data\\food-101\\images\\pizza\\715169.jpg to ..\\data\\pizza_steak_sushi_20_percent\\train\\pizza\\715169.jpg...\n",
      "[INFO] Copying ..\\data\\food-101\\images\\pizza\\1008844.jpg to ..\\data\\pizza_steak_sushi_20_percent\\train\\pizza\\1008844.jpg...\n",
      "[INFO] Copying ..\\data\\food-101\\images\\steak\\3727036.jpg to ..\\data\\pizza_steak_sushi_20_percent\\train\\steak\\3727036.jpg...\n",
      "[INFO] Copying ..\\data\\food-101\\images\\sushi\\3426958.jpg to ..\\data\\pizza_steak_sushi_20_percent\\train\\sushi\\3426958.jpg...\n",
      "[INFO] Copying ..\\data\\food-101\\images\\pizza\\138855.jpg to ..\\data\\pizza_steak_sushi_20_percent\\train\\pizza\\138855.jpg...\n",
      "[INFO] Copying ..\\data\\food-101\\images\\pizza\\3281494.jpg to ..\\data\\pizza_steak_sushi_20_percent\\train\\pizza\\3281494.jpg...\n",
      "[INFO] Copying ..\\data\\food-101\\images\\steak\\937133.jpg to ..\\data\\pizza_steak_sushi_20_percent\\train\\steak\\937133.jpg...\n",
      "[INFO] Copying ..\\data\\food-101\\images\\steak\\339891.jpg to ..\\data\\pizza_steak_sushi_20_percent\\train\\steak\\339891.jpg...\n",
      "[INFO] Copying ..\\data\\food-101\\images\\steak\\214320.jpg to ..\\data\\pizza_steak_sushi_20_percent\\train\\steak\\214320.jpg...\n",
      "[INFO] Copying ..\\data\\food-101\\images\\pizza\\218711.jpg to ..\\data\\pizza_steak_sushi_20_percent\\train\\pizza\\218711.jpg...\n",
      "[INFO] Copying ..\\data\\food-101\\images\\steak\\2163079.jpg to ..\\data\\pizza_steak_sushi_20_percent\\train\\steak\\2163079.jpg...\n",
      "[INFO] Copying ..\\data\\food-101\\images\\sushi\\821108.jpg to ..\\data\\pizza_steak_sushi_20_percent\\train\\sushi\\821108.jpg...\n",
      "[INFO] Copying ..\\data\\food-101\\images\\pizza\\2687575.jpg to ..\\data\\pizza_steak_sushi_20_percent\\train\\pizza\\2687575.jpg...\n",
      "[INFO] Copying ..\\data\\food-101\\images\\sushi\\3360232.jpg to ..\\data\\pizza_steak_sushi_20_percent\\train\\sushi\\3360232.jpg...\n",
      "[INFO] Copying ..\\data\\food-101\\images\\pizza\\2426686.jpg to ..\\data\\pizza_steak_sushi_20_percent\\train\\pizza\\2426686.jpg...\n",
      "[INFO] Copying ..\\data\\food-101\\images\\pizza\\3530210.jpg to ..\\data\\pizza_steak_sushi_20_percent\\train\\pizza\\3530210.jpg...\n",
      "[INFO] Copying ..\\data\\food-101\\images\\pizza\\3589437.jpg to ..\\data\\pizza_steak_sushi_20_percent\\train\\pizza\\3589437.jpg...\n",
      "[INFO] Copying ..\\data\\food-101\\images\\sushi\\3107839.jpg to ..\\data\\pizza_steak_sushi_20_percent\\train\\sushi\\3107839.jpg...\n",
      "[INFO] Copying ..\\data\\food-101\\images\\pizza\\765799.jpg to ..\\data\\pizza_steak_sushi_20_percent\\train\\pizza\\765799.jpg...\n",
      "[INFO] Copying ..\\data\\food-101\\images\\steak\\2614189.jpg to ..\\data\\pizza_steak_sushi_20_percent\\train\\steak\\2614189.jpg...\n",
      "[INFO] Copying ..\\data\\food-101\\images\\sushi\\2021381.jpg to ..\\data\\pizza_steak_sushi_20_percent\\train\\sushi\\2021381.jpg...\n",
      "[INFO] Copying ..\\data\\food-101\\images\\steak\\1621763.jpg to ..\\data\\pizza_steak_sushi_20_percent\\train\\steak\\1621763.jpg...\n",
      "[INFO] Copying ..\\data\\food-101\\images\\steak\\1413972.jpg to ..\\data\\pizza_steak_sushi_20_percent\\train\\steak\\1413972.jpg...\n",
      "[INFO] Copying ..\\data\\food-101\\images\\steak\\3518960.jpg to ..\\data\\pizza_steak_sushi_20_percent\\train\\steak\\3518960.jpg...\n",
      "[INFO] Copying ..\\data\\food-101\\images\\sushi\\1551817.jpg to ..\\data\\pizza_steak_sushi_20_percent\\train\\sushi\\1551817.jpg...\n",
      "[INFO] Copying ..\\data\\food-101\\images\\sushi\\1129338.jpg to ..\\data\\pizza_steak_sushi_20_percent\\train\\sushi\\1129338.jpg...\n",
      "[INFO] Copying ..\\data\\food-101\\images\\sushi\\2323548.jpg to ..\\data\\pizza_steak_sushi_20_percent\\train\\sushi\\2323548.jpg...\n",
      "[INFO] Copying ..\\data\\food-101\\images\\sushi\\2641778.jpg to ..\\data\\pizza_steak_sushi_20_percent\\train\\sushi\\2641778.jpg...\n",
      "[INFO] Copying ..\\data\\food-101\\images\\pizza\\3441394.jpg to ..\\data\\pizza_steak_sushi_20_percent\\train\\pizza\\3441394.jpg...\n",
      "[INFO] Copying ..\\data\\food-101\\images\\steak\\231296.jpg to ..\\data\\pizza_steak_sushi_20_percent\\train\\steak\\231296.jpg...\n",
      "[INFO] Copying ..\\data\\food-101\\images\\steak\\1849463.jpg to ..\\data\\pizza_steak_sushi_20_percent\\train\\steak\\1849463.jpg...\n",
      "[INFO] Copying ..\\data\\food-101\\images\\pizza\\2291093.jpg to ..\\data\\pizza_steak_sushi_20_percent\\train\\pizza\\2291093.jpg...\n",
      "[INFO] Copying ..\\data\\food-101\\images\\steak\\443210.jpg to ..\\data\\pizza_steak_sushi_20_percent\\train\\steak\\443210.jpg...\n",
      "[INFO] Copying ..\\data\\food-101\\images\\pizza\\1412034.jpg to ..\\data\\pizza_steak_sushi_20_percent\\train\\pizza\\1412034.jpg...\n",
      "[INFO] Copying ..\\data\\food-101\\images\\steak\\1976160.jpg to ..\\data\\pizza_steak_sushi_20_percent\\train\\steak\\1976160.jpg...\n",
      "[INFO] Copying ..\\data\\food-101\\images\\sushi\\920703.jpg to ..\\data\\pizza_steak_sushi_20_percent\\train\\sushi\\920703.jpg...\n",
      "[INFO] Copying ..\\data\\food-101\\images\\pizza\\1105700.jpg to ..\\data\\pizza_steak_sushi_20_percent\\train\\pizza\\1105700.jpg...\n",
      "[INFO] Copying ..\\data\\food-101\\images\\pizza\\244505.jpg to ..\\data\\pizza_steak_sushi_20_percent\\train\\pizza\\244505.jpg...\n",
      "[INFO] Copying ..\\data\\food-101\\images\\pizza\\220190.jpg to ..\\data\\pizza_steak_sushi_20_percent\\train\\pizza\\220190.jpg...\n",
      "[INFO] Copying ..\\data\\food-101\\images\\steak\\1961025.jpg to ..\\data\\pizza_steak_sushi_20_percent\\train\\steak\\1961025.jpg...\n",
      "[INFO] Copying ..\\data\\food-101\\images\\pizza\\2382016.jpg to ..\\data\\pizza_steak_sushi_20_percent\\train\\pizza\\2382016.jpg...\n",
      "[INFO] Copying ..\\data\\food-101\\images\\pizza\\1649276.jpg to ..\\data\\pizza_steak_sushi_20_percent\\train\\pizza\\1649276.jpg...\n",
      "[INFO] Copying ..\\data\\food-101\\images\\steak\\3857508.jpg to ..\\data\\pizza_steak_sushi_20_percent\\train\\steak\\3857508.jpg...\n",
      "[INFO] Copying ..\\data\\food-101\\images\\sushi\\414450.jpg to ..\\data\\pizza_steak_sushi_20_percent\\train\\sushi\\414450.jpg...\n",
      "[INFO] Copying ..\\data\\food-101\\images\\steak\\2129685.jpg to ..\\data\\pizza_steak_sushi_20_percent\\train\\steak\\2129685.jpg...\n",
      "[INFO] Copying ..\\data\\food-101\\images\\steak\\2881783.jpg to ..\\data\\pizza_steak_sushi_20_percent\\train\\steak\\2881783.jpg...\n",
      "[INFO] Copying ..\\data\\food-101\\images\\sushi\\3353428.jpg to ..\\data\\pizza_steak_sushi_20_percent\\train\\sushi\\3353428.jpg...\n",
      "[INFO] Copying ..\\data\\food-101\\images\\steak\\165639.jpg to ..\\data\\pizza_steak_sushi_20_percent\\train\\steak\\165639.jpg...\n",
      "[INFO] Copying ..\\data\\food-101\\images\\pizza\\3699992.jpg to ..\\data\\pizza_steak_sushi_20_percent\\train\\pizza\\3699992.jpg...\n",
      "[INFO] Copying ..\\data\\food-101\\images\\sushi\\307738.jpg to ..\\data\\pizza_steak_sushi_20_percent\\train\\sushi\\307738.jpg...\n",
      "[INFO] Copying ..\\data\\food-101\\images\\steak\\2222018.jpg to ..\\data\\pizza_steak_sushi_20_percent\\train\\steak\\2222018.jpg...\n",
      "[INFO] Copying ..\\data\\food-101\\images\\sushi\\3081701.jpg to ..\\data\\pizza_steak_sushi_20_percent\\train\\sushi\\3081701.jpg...\n",
      "[INFO] Copying ..\\data\\food-101\\images\\sushi\\170385.jpg to ..\\data\\pizza_steak_sushi_20_percent\\train\\sushi\\170385.jpg...\n",
      "[INFO] Copying ..\\data\\food-101\\images\\steak\\1225762.jpg to ..\\data\\pizza_steak_sushi_20_percent\\train\\steak\\1225762.jpg...\n",
      "[INFO] Copying ..\\data\\food-101\\images\\pizza\\2821048.jpg to ..\\data\\pizza_steak_sushi_20_percent\\train\\pizza\\2821048.jpg...\n",
      "[INFO] Copying ..\\data\\food-101\\images\\pizza\\2885796.jpg to ..\\data\\pizza_steak_sushi_20_percent\\train\\pizza\\2885796.jpg...\n",
      "[INFO] Copying ..\\data\\food-101\\images\\sushi\\2175561.jpg to ..\\data\\pizza_steak_sushi_20_percent\\train\\sushi\\2175561.jpg...\n",
      "[INFO] Copying ..\\data\\food-101\\images\\steak\\735441.jpg to ..\\data\\pizza_steak_sushi_20_percent\\train\\steak\\735441.jpg...\n",
      "[INFO] Copying ..\\data\\food-101\\images\\sushi\\2021685.jpg to ..\\data\\pizza_steak_sushi_20_percent\\train\\sushi\\2021685.jpg...\n",
      "[INFO] Copying ..\\data\\food-101\\images\\sushi\\17704.jpg to ..\\data\\pizza_steak_sushi_20_percent\\train\\sushi\\17704.jpg...\n",
      "[INFO] Copying ..\\data\\food-101\\images\\sushi\\2980779.jpg to ..\\data\\pizza_steak_sushi_20_percent\\train\\sushi\\2980779.jpg...\n",
      "[INFO] Copying ..\\data\\food-101\\images\\pizza\\2121603.jpg to ..\\data\\pizza_steak_sushi_20_percent\\train\\pizza\\2121603.jpg...\n",
      "[INFO] Copying ..\\data\\food-101\\images\\pizza\\29417.jpg to ..\\data\\pizza_steak_sushi_20_percent\\train\\pizza\\29417.jpg...\n",
      "[INFO] Copying ..\\data\\food-101\\images\\pizza\\2228322.jpg to ..\\data\\pizza_steak_sushi_20_percent\\train\\pizza\\2228322.jpg...\n",
      "[INFO] Copying ..\\data\\food-101\\images\\sushi\\1615453.jpg to ..\\data\\pizza_steak_sushi_20_percent\\train\\sushi\\1615453.jpg...\n",
      "[INFO] Copying ..\\data\\food-101\\images\\steak\\461689.jpg to ..\\data\\pizza_steak_sushi_20_percent\\train\\steak\\461689.jpg...\n",
      "[INFO] Copying ..\\data\\food-101\\images\\pizza\\3196721.jpg to ..\\data\\pizza_steak_sushi_20_percent\\train\\pizza\\3196721.jpg...\n",
      "[INFO] Copying ..\\data\\food-101\\images\\steak\\2324994.jpg to ..\\data\\pizza_steak_sushi_20_percent\\train\\steak\\2324994.jpg...\n",
      "[INFO] Copying ..\\data\\food-101\\images\\steak\\1257104.jpg to ..\\data\\pizza_steak_sushi_20_percent\\train\\steak\\1257104.jpg...\n",
      "[INFO] Copying ..\\data\\food-101\\images\\sushi\\932954.jpg to ..\\data\\pizza_steak_sushi_20_percent\\train\\sushi\\932954.jpg...\n",
      "[INFO] Copying ..\\data\\food-101\\images\\sushi\\2574453.jpg to ..\\data\\pizza_steak_sushi_20_percent\\train\\sushi\\2574453.jpg...\n",
      "[INFO] Copying ..\\data\\food-101\\images\\pizza\\3860002.jpg to ..\\data\\pizza_steak_sushi_20_percent\\train\\pizza\\3860002.jpg...\n",
      "[INFO] Copying ..\\data\\food-101\\images\\sushi\\953649.jpg to ..\\data\\pizza_steak_sushi_20_percent\\train\\sushi\\953649.jpg...\n",
      "[INFO] Copying ..\\data\\food-101\\images\\steak\\100135.jpg to ..\\data\\pizza_steak_sushi_20_percent\\train\\steak\\100135.jpg...\n",
      "[INFO] Copying ..\\data\\food-101\\images\\sushi\\38958.jpg to ..\\data\\pizza_steak_sushi_20_percent\\train\\sushi\\38958.jpg...\n",
      "[INFO] Copying ..\\data\\food-101\\images\\sushi\\2873571.jpg to ..\\data\\pizza_steak_sushi_20_percent\\train\\sushi\\2873571.jpg...\n",
      "[INFO] Copying ..\\data\\food-101\\images\\sushi\\843815.jpg to ..\\data\\pizza_steak_sushi_20_percent\\train\\sushi\\843815.jpg...\n",
      "[INFO] Copying ..\\data\\food-101\\images\\sushi\\23060.jpg to ..\\data\\pizza_steak_sushi_20_percent\\train\\sushi\\23060.jpg...\n",
      "[INFO] Copying ..\\data\\food-101\\images\\sushi\\285268.jpg to ..\\data\\pizza_steak_sushi_20_percent\\train\\sushi\\285268.jpg...\n",
      "[INFO] Copying ..\\data\\food-101\\images\\pizza\\1763205.jpg to ..\\data\\pizza_steak_sushi_20_percent\\train\\pizza\\1763205.jpg...\n",
      "[INFO] Copying ..\\data\\food-101\\images\\steak\\1826066.jpg to ..\\data\\pizza_steak_sushi_20_percent\\train\\steak\\1826066.jpg...\n",
      "[INFO] Copying ..\\data\\food-101\\images\\sushi\\1659155.jpg to ..\\data\\pizza_steak_sushi_20_percent\\train\\sushi\\1659155.jpg...\n",
      "[INFO] Copying ..\\data\\food-101\\images\\sushi\\2168648.jpg to ..\\data\\pizza_steak_sushi_20_percent\\train\\sushi\\2168648.jpg...\n",
      "[INFO] Copying ..\\data\\food-101\\images\\sushi\\2120484.jpg to ..\\data\\pizza_steak_sushi_20_percent\\train\\sushi\\2120484.jpg...\n",
      "[INFO] Copying ..\\data\\food-101\\images\\steak\\2826987.jpg to ..\\data\\pizza_steak_sushi_20_percent\\train\\steak\\2826987.jpg...\n",
      "[INFO] Copying ..\\data\\food-101\\images\\pizza\\1998483.jpg to ..\\data\\pizza_steak_sushi_20_percent\\train\\pizza\\1998483.jpg...\n",
      "[INFO] Copying ..\\data\\food-101\\images\\pizza\\1535273.jpg to ..\\data\\pizza_steak_sushi_20_percent\\train\\pizza\\1535273.jpg...\n",
      "[INFO] Copying ..\\data\\food-101\\images\\steak\\3766099.jpg to ..\\data\\pizza_steak_sushi_20_percent\\train\\steak\\3766099.jpg...\n",
      "[INFO] Copying ..\\data\\food-101\\images\\steak\\2716993.jpg to ..\\data\\pizza_steak_sushi_20_percent\\train\\steak\\2716993.jpg...\n",
      "[INFO] Copying ..\\data\\food-101\\images\\sushi\\1930318.jpg to ..\\data\\pizza_steak_sushi_20_percent\\train\\sushi\\1930318.jpg...\n",
      "[INFO] Copying ..\\data\\food-101\\images\\pizza\\1107714.jpg to ..\\data\\pizza_steak_sushi_20_percent\\train\\pizza\\1107714.jpg...\n",
      "[INFO] Copying ..\\data\\food-101\\images\\sushi\\3337386.jpg to ..\\data\\pizza_steak_sushi_20_percent\\train\\sushi\\3337386.jpg...\n",
      "[INFO] Copying ..\\data\\food-101\\images\\pizza\\1964051.jpg to ..\\data\\pizza_steak_sushi_20_percent\\train\\pizza\\1964051.jpg...\n",
      "[INFO] Copying ..\\data\\food-101\\images\\sushi\\2906905.jpg to ..\\data\\pizza_steak_sushi_20_percent\\train\\sushi\\2906905.jpg...\n",
      "[INFO] Copying ..\\data\\food-101\\images\\sushi\\1179238.jpg to ..\\data\\pizza_steak_sushi_20_percent\\train\\sushi\\1179238.jpg...\n",
      "[INFO] Copying ..\\data\\food-101\\images\\sushi\\2036680.jpg to ..\\data\\pizza_steak_sushi_20_percent\\train\\sushi\\2036680.jpg...\n",
      "[INFO] Copying ..\\data\\food-101\\images\\pizza\\3393898.jpg to ..\\data\\pizza_steak_sushi_20_percent\\train\\pizza\\3393898.jpg...\n",
      "[INFO] Copying ..\\data\\food-101\\images\\pizza\\2639094.jpg to ..\\data\\pizza_steak_sushi_20_percent\\train\\pizza\\2639094.jpg...\n",
      "[INFO] Copying ..\\data\\food-101\\images\\steak\\146833.jpg to ..\\data\\pizza_steak_sushi_20_percent\\train\\steak\\146833.jpg...\n",
      "[INFO] Copying ..\\data\\food-101\\images\\steak\\2216146.jpg to ..\\data\\pizza_steak_sushi_20_percent\\train\\steak\\2216146.jpg...\n",
      "[INFO] Copying ..\\data\\food-101\\images\\steak\\2159975.jpg to ..\\data\\pizza_steak_sushi_20_percent\\train\\steak\\2159975.jpg...\n",
      "[INFO] Copying ..\\data\\food-101\\images\\pizza\\3128495.jpg to ..\\data\\pizza_steak_sushi_20_percent\\train\\pizza\\3128495.jpg...\n",
      "[INFO] Copying ..\\data\\food-101\\images\\sushi\\2211604.jpg to ..\\data\\pizza_steak_sushi_20_percent\\train\\sushi\\2211604.jpg...\n",
      "[INFO] Copying ..\\data\\food-101\\images\\steak\\141056.jpg to ..\\data\\pizza_steak_sushi_20_percent\\train\\steak\\141056.jpg...\n",
      "[INFO] Copying ..\\data\\food-101\\images\\sushi\\2634094.jpg to ..\\data\\pizza_steak_sushi_20_percent\\train\\sushi\\2634094.jpg...\n",
      "[INFO] Copying ..\\data\\food-101\\images\\pizza\\1625147.jpg to ..\\data\\pizza_steak_sushi_20_percent\\train\\pizza\\1625147.jpg...\n",
      "[INFO] Copying ..\\data\\food-101\\images\\pizza\\262133.jpg to ..\\data\\pizza_steak_sushi_20_percent\\train\\pizza\\262133.jpg...\n",
      "[INFO] Copying ..\\data\\food-101\\images\\steak\\1212161.jpg to ..\\data\\pizza_steak_sushi_20_percent\\train\\steak\\1212161.jpg...\n",
      "[INFO] Copying ..\\data\\food-101\\images\\pizza\\1011404.jpg to ..\\data\\pizza_steak_sushi_20_percent\\train\\pizza\\1011404.jpg...\n",
      "[INFO] Copying ..\\data\\food-101\\images\\steak\\1334054.jpg to ..\\data\\pizza_steak_sushi_20_percent\\train\\steak\\1334054.jpg...\n",
      "[INFO] Copying ..\\data\\food-101\\images\\pizza\\3703769.jpg to ..\\data\\pizza_steak_sushi_20_percent\\train\\pizza\\3703769.jpg...\n",
      "[INFO] Copying ..\\data\\food-101\\images\\sushi\\3618081.jpg to ..\\data\\pizza_steak_sushi_20_percent\\train\\sushi\\3618081.jpg...\n",
      "[INFO] Copying ..\\data\\food-101\\images\\sushi\\1423517.jpg to ..\\data\\pizza_steak_sushi_20_percent\\train\\sushi\\1423517.jpg...\n",
      "[INFO] Copying ..\\data\\food-101\\images\\sushi\\1429127.jpg to ..\\data\\pizza_steak_sushi_20_percent\\train\\sushi\\1429127.jpg...\n",
      "[INFO] Copying ..\\data\\food-101\\images\\steak\\1927984.jpg to ..\\data\\pizza_steak_sushi_20_percent\\train\\steak\\1927984.jpg...\n",
      "[INFO] Copying ..\\data\\food-101\\images\\pizza\\3917951.jpg to ..\\data\\pizza_steak_sushi_20_percent\\train\\pizza\\3917951.jpg...\n",
      "[INFO] Copying ..\\data\\food-101\\images\\steak\\1619357.jpg to ..\\data\\pizza_steak_sushi_20_percent\\train\\steak\\1619357.jpg...\n",
      "[INFO] Copying ..\\data\\food-101\\images\\steak\\637374.jpg to ..\\data\\pizza_steak_sushi_20_percent\\train\\steak\\637374.jpg...\n",
      "[INFO] Copying ..\\data\\food-101\\images\\sushi\\3179173.jpg to ..\\data\\pizza_steak_sushi_20_percent\\train\\sushi\\3179173.jpg...\n",
      "[INFO] Copying ..\\data\\food-101\\images\\steak\\980247.jpg to ..\\data\\pizza_steak_sushi_20_percent\\train\\steak\\980247.jpg...\n",
      "[INFO] Copying ..\\data\\food-101\\images\\sushi\\1422524.jpg to ..\\data\\pizza_steak_sushi_20_percent\\train\\sushi\\1422524.jpg...\n",
      "[INFO] Copying ..\\data\\food-101\\images\\sushi\\77209.jpg to ..\\data\\pizza_steak_sushi_20_percent\\train\\sushi\\77209.jpg...\n",
      "[INFO] Copying ..\\data\\food-101\\images\\steak\\3867460.jpg to ..\\data\\pizza_steak_sushi_20_percent\\train\\steak\\3867460.jpg...\n",
      "[INFO] Copying ..\\data\\food-101\\images\\steak\\838344.jpg to ..\\data\\pizza_steak_sushi_20_percent\\train\\steak\\838344.jpg...\n",
      "[INFO] Copying ..\\data\\food-101\\images\\steak\\2223787.jpg to ..\\data\\pizza_steak_sushi_20_percent\\train\\steak\\2223787.jpg...\n",
      "[INFO] Copying ..\\data\\food-101\\images\\pizza\\253127.jpg to ..\\data\\pizza_steak_sushi_20_percent\\train\\pizza\\253127.jpg...\n",
      "[INFO] Copying ..\\data\\food-101\\images\\pizza\\2831983.jpg to ..\\data\\pizza_steak_sushi_20_percent\\train\\pizza\\2831983.jpg...\n",
      "[INFO] Copying ..\\data\\food-101\\images\\pizza\\474493.jpg to ..\\data\\pizza_steak_sushi_20_percent\\train\\pizza\\474493.jpg...\n",
      "[INFO] Copying ..\\data\\food-101\\images\\pizza\\3191035.jpg to ..\\data\\pizza_steak_sushi_20_percent\\train\\pizza\\3191035.jpg...\n",
      "[INFO] Copying ..\\data\\food-101\\images\\sushi\\3335345.jpg to ..\\data\\pizza_steak_sushi_20_percent\\train\\sushi\\3335345.jpg...\n",
      "[INFO] Copying ..\\data\\food-101\\images\\pizza\\1620761.jpg to ..\\data\\pizza_steak_sushi_20_percent\\train\\pizza\\1620761.jpg...\n",
      "[INFO] Copying ..\\data\\food-101\\images\\steak\\3082120.jpg to ..\\data\\pizza_steak_sushi_20_percent\\train\\steak\\3082120.jpg...\n",
      "[INFO] Copying ..\\data\\food-101\\images\\sushi\\1025041.jpg to ..\\data\\pizza_steak_sushi_20_percent\\train\\sushi\\1025041.jpg...\n",
      "[INFO] Copying ..\\data\\food-101\\images\\steak\\2748917.jpg to ..\\data\\pizza_steak_sushi_20_percent\\train\\steak\\2748917.jpg...\n",
      "[INFO] Copying ..\\data\\food-101\\images\\pizza\\1636299.jpg to ..\\data\\pizza_steak_sushi_20_percent\\train\\pizza\\1636299.jpg...\n",
      "[INFO] Copying ..\\data\\food-101\\images\\sushi\\548408.jpg to ..\\data\\pizza_steak_sushi_20_percent\\train\\sushi\\548408.jpg...\n",
      "[INFO] Copying ..\\data\\food-101\\images\\pizza\\652004.jpg to ..\\data\\pizza_steak_sushi_20_percent\\train\\pizza\\652004.jpg...\n",
      "[INFO] Copying ..\\data\\food-101\\images\\pizza\\1617418.jpg to ..\\data\\pizza_steak_sushi_20_percent\\train\\pizza\\1617418.jpg...\n",
      "[INFO] Copying ..\\data\\food-101\\images\\sushi\\998971.jpg to ..\\data\\pizza_steak_sushi_20_percent\\train\\sushi\\998971.jpg...\n",
      "[INFO] Copying ..\\data\\food-101\\images\\steak\\3136.jpg to ..\\data\\pizza_steak_sushi_20_percent\\train\\steak\\3136.jpg...\n",
      "[INFO] Copying ..\\data\\food-101\\images\\steak\\2136662.jpg to ..\\data\\pizza_steak_sushi_20_percent\\train\\steak\\2136662.jpg...\n",
      "[INFO] Copying ..\\data\\food-101\\images\\sushi\\623621.jpg to ..\\data\\pizza_steak_sushi_20_percent\\train\\sushi\\623621.jpg...\n",
      "[INFO] Copying ..\\data\\food-101\\images\\sushi\\2814372.jpg to ..\\data\\pizza_steak_sushi_20_percent\\train\\sushi\\2814372.jpg...\n",
      "[INFO] Copying ..\\data\\food-101\\images\\sushi\\2087002.jpg to ..\\data\\pizza_steak_sushi_20_percent\\train\\sushi\\2087002.jpg...\n",
      "[INFO] Copying ..\\data\\food-101\\images\\steak\\2615718.jpg to ..\\data\\pizza_steak_sushi_20_percent\\train\\steak\\2615718.jpg...\n",
      "[INFO] Copying ..\\data\\food-101\\images\\sushi\\507775.jpg to ..\\data\\pizza_steak_sushi_20_percent\\train\\sushi\\507775.jpg...\n",
      "[INFO] Copying ..\\data\\food-101\\images\\pizza\\1608000.jpg to ..\\data\\pizza_steak_sushi_20_percent\\train\\pizza\\1608000.jpg...\n",
      "[INFO] Copying ..\\data\\food-101\\images\\sushi\\3226272.jpg to ..\\data\\pizza_steak_sushi_20_percent\\train\\sushi\\3226272.jpg...\n",
      "[INFO] Copying ..\\data\\food-101\\images\\steak\\2404884.jpg to ..\\data\\pizza_steak_sushi_20_percent\\train\\steak\\2404884.jpg...\n",
      "[INFO] Copying ..\\data\\food-101\\images\\pizza\\1836888.jpg to ..\\data\\pizza_steak_sushi_20_percent\\train\\pizza\\1836888.jpg...\n",
      "[INFO] Copying ..\\data\\food-101\\images\\sushi\\20588.jpg to ..\\data\\pizza_steak_sushi_20_percent\\train\\sushi\\20588.jpg...\n",
      "[INFO] Copying ..\\data\\food-101\\images\\pizza\\2793535.jpg to ..\\data\\pizza_steak_sushi_20_percent\\train\\pizza\\2793535.jpg...\n",
      "[INFO] Copying ..\\data\\food-101\\images\\pizza\\1687681.jpg to ..\\data\\pizza_steak_sushi_20_percent\\train\\pizza\\1687681.jpg...\n",
      "[INFO] Copying ..\\data\\food-101\\images\\steak\\3223400.jpg to ..\\data\\pizza_steak_sushi_20_percent\\train\\steak\\3223400.jpg...\n",
      "[INFO] Copying ..\\data\\food-101\\images\\pizza\\1686908.jpg to ..\\data\\pizza_steak_sushi_20_percent\\train\\pizza\\1686908.jpg...\n",
      "[INFO] Copying ..\\data\\food-101\\images\\steak\\440188.jpg to ..\\data\\pizza_steak_sushi_20_percent\\train\\steak\\440188.jpg...\n",
      "[INFO] Copying ..\\data\\food-101\\images\\sushi\\3827966.jpg to ..\\data\\pizza_steak_sushi_20_percent\\train\\sushi\\3827966.jpg...\n",
      "[INFO] Copying ..\\data\\food-101\\images\\pizza\\3391208.jpg to ..\\data\\pizza_steak_sushi_20_percent\\train\\pizza\\3391208.jpg...\n",
      "[INFO] Copying ..\\data\\food-101\\images\\steak\\1433912.jpg to ..\\data\\pizza_steak_sushi_20_percent\\train\\steak\\1433912.jpg...\n",
      "[INFO] Copying ..\\data\\food-101\\images\\pizza\\2217956.jpg to ..\\data\\pizza_steak_sushi_20_percent\\train\\pizza\\2217956.jpg...\n",
      "[INFO] Copying ..\\data\\food-101\\images\\sushi\\3036492.jpg to ..\\data\\pizza_steak_sushi_20_percent\\train\\sushi\\3036492.jpg...\n",
      "[INFO] Copying ..\\data\\food-101\\images\\sushi\\2509962.jpg to ..\\data\\pizza_steak_sushi_20_percent\\train\\sushi\\2509962.jpg...\n",
      "[INFO] Copying ..\\data\\food-101\\images\\steak\\2966859.jpg to ..\\data\\pizza_steak_sushi_20_percent\\train\\steak\\2966859.jpg...\n",
      "[INFO] Copying ..\\data\\food-101\\images\\pizza\\3478964.jpg to ..\\data\\pizza_steak_sushi_20_percent\\train\\pizza\\3478964.jpg...\n",
      "[INFO] Copying ..\\data\\food-101\\images\\sushi\\794736.jpg to ..\\data\\pizza_steak_sushi_20_percent\\train\\sushi\\794736.jpg...\n",
      "[INFO] Copying ..\\data\\food-101\\images\\steak\\3209173.jpg to ..\\data\\pizza_steak_sushi_20_percent\\train\\steak\\3209173.jpg...\n",
      "[INFO] Copying ..\\data\\food-101\\images\\pizza\\13983.jpg to ..\\data\\pizza_steak_sushi_20_percent\\train\\pizza\\13983.jpg...\n",
      "[INFO] Copying ..\\data\\food-101\\images\\steak\\3465327.jpg to ..\\data\\pizza_steak_sushi_20_percent\\train\\steak\\3465327.jpg...\n",
      "[INFO] Copying ..\\data\\food-101\\images\\pizza\\1871498.jpg to ..\\data\\pizza_steak_sushi_20_percent\\train\\pizza\\1871498.jpg...\n",
      "[INFO] Copying ..\\data\\food-101\\images\\sushi\\766596.jpg to ..\\data\\pizza_steak_sushi_20_percent\\train\\sushi\\766596.jpg...\n",
      "[INFO] Copying ..\\data\\food-101\\images\\steak\\3807440.jpg to ..\\data\\pizza_steak_sushi_20_percent\\train\\steak\\3807440.jpg...\n",
      "[INFO] Copying ..\\data\\food-101\\images\\steak\\3130412.jpg to ..\\data\\pizza_steak_sushi_20_percent\\train\\steak\\3130412.jpg...\n",
      "[INFO] Copying ..\\data\\food-101\\images\\steak\\2938151.jpg to ..\\data\\pizza_steak_sushi_20_percent\\train\\steak\\2938151.jpg...\n",
      "[INFO] Copying ..\\data\\food-101\\images\\steak\\2538000.jpg to ..\\data\\pizza_steak_sushi_20_percent\\train\\steak\\2538000.jpg...\n",
      "[INFO] Copying ..\\data\\food-101\\images\\sushi\\592581.jpg to ..\\data\\pizza_steak_sushi_20_percent\\train\\sushi\\592581.jpg...\n",
      "[INFO] Copying ..\\data\\food-101\\images\\sushi\\2995090.jpg to ..\\data\\pizza_steak_sushi_20_percent\\train\\sushi\\2995090.jpg...\n",
      "[INFO] Copying ..\\data\\food-101\\images\\pizza\\3660716.jpg to ..\\data\\pizza_steak_sushi_20_percent\\train\\pizza\\3660716.jpg...\n",
      "[INFO] Copying ..\\data\\food-101\\images\\sushi\\881859.jpg to ..\\data\\pizza_steak_sushi_20_percent\\train\\sushi\\881859.jpg...\n",
      "[INFO] Copying ..\\data\\food-101\\images\\steak\\405173.jpg to ..\\data\\pizza_steak_sushi_20_percent\\train\\steak\\405173.jpg...\n",
      "[INFO] Copying ..\\data\\food-101\\images\\steak\\819027.jpg to ..\\data\\pizza_steak_sushi_20_percent\\train\\steak\\819027.jpg...\n",
      "[INFO] Copying ..\\data\\food-101\\images\\pizza\\656817.jpg to ..\\data\\pizza_steak_sushi_20_percent\\train\\pizza\\656817.jpg...\n",
      "[INFO] Copying ..\\data\\food-101\\images\\pizza\\3401720.jpg to ..\\data\\pizza_steak_sushi_20_percent\\train\\pizza\\3401720.jpg...\n",
      "[INFO] Copying ..\\data\\food-101\\images\\sushi\\3493412.jpg to ..\\data\\pizza_steak_sushi_20_percent\\train\\sushi\\3493412.jpg...\n",
      "[INFO] Copying ..\\data\\food-101\\images\\steak\\1362989.jpg to ..\\data\\pizza_steak_sushi_20_percent\\train\\steak\\1362989.jpg...\n",
      "[INFO] Copying ..\\data\\food-101\\images\\pizza\\23199.jpg to ..\\data\\pizza_steak_sushi_20_percent\\train\\pizza\\23199.jpg...\n",
      "[INFO] Copying ..\\data\\food-101\\images\\steak\\417368.jpg to ..\\data\\pizza_steak_sushi_20_percent\\train\\steak\\417368.jpg...\n",
      "[INFO] Copying ..\\data\\food-101\\images\\steak\\3693649.jpg to ..\\data\\pizza_steak_sushi_20_percent\\train\\steak\\3693649.jpg...\n",
      "[INFO] Copying ..\\data\\food-101\\images\\pizza\\518527.jpg to ..\\data\\pizza_steak_sushi_20_percent\\train\\pizza\\518527.jpg...\n",
      "[INFO] Copying ..\\data\\food-101\\images\\steak\\1945132.jpg to ..\\data\\pizza_steak_sushi_20_percent\\train\\steak\\1945132.jpg...\n",
      "[INFO] Copying ..\\data\\food-101\\images\\sushi\\310820.jpg to ..\\data\\pizza_steak_sushi_20_percent\\train\\sushi\\310820.jpg...\n",
      "[INFO] Copying ..\\data\\food-101\\images\\sushi\\2937874.jpg to ..\\data\\pizza_steak_sushi_20_percent\\train\\sushi\\2937874.jpg...\n",
      "[INFO] Copying ..\\data\\food-101\\images\\sushi\\1168726.jpg to ..\\data\\pizza_steak_sushi_20_percent\\train\\sushi\\1168726.jpg...\n",
      "[INFO] Copying ..\\data\\food-101\\images\\sushi\\3001740.jpg to ..\\data\\pizza_steak_sushi_20_percent\\train\\sushi\\3001740.jpg...\n",
      "[INFO] Copying ..\\data\\food-101\\images\\pizza\\1717790.jpg to ..\\data\\pizza_steak_sushi_20_percent\\train\\pizza\\1717790.jpg...\n",
      "[INFO] Copying ..\\data\\food-101\\images\\pizza\\1065078.jpg to ..\\data\\pizza_steak_sushi_20_percent\\train\\pizza\\1065078.jpg...\n",
      "[INFO] Copying ..\\data\\food-101\\images\\sushi\\731414.jpg to ..\\data\\pizza_steak_sushi_20_percent\\train\\sushi\\731414.jpg...\n",
      "[INFO] Copying ..\\data\\food-101\\images\\steak\\3476564.jpg to ..\\data\\pizza_steak_sushi_20_percent\\train\\steak\\3476564.jpg...\n",
      "[INFO] Copying ..\\data\\food-101\\images\\steak\\2928643.jpg to ..\\data\\pizza_steak_sushi_20_percent\\train\\steak\\2928643.jpg...\n",
      "[INFO] Copying ..\\data\\food-101\\images\\pizza\\2019441.jpg to ..\\data\\pizza_steak_sushi_20_percent\\train\\pizza\\2019441.jpg...\n",
      "[INFO] Copying ..\\data\\food-101\\images\\pizza\\1743389.jpg to ..\\data\\pizza_steak_sushi_20_percent\\train\\pizza\\1743389.jpg...\n",
      "[INFO] Copying ..\\data\\food-101\\images\\steak\\268444.jpg to ..\\data\\pizza_steak_sushi_20_percent\\train\\steak\\268444.jpg...\n",
      "[INFO] Copying ..\\data\\food-101\\images\\pizza\\312479.jpg to ..\\data\\pizza_steak_sushi_20_percent\\train\\pizza\\312479.jpg...\n",
      "[INFO] Copying ..\\data\\food-101\\images\\steak\\2403776.jpg to ..\\data\\pizza_steak_sushi_20_percent\\train\\steak\\2403776.jpg...\n",
      "[INFO] Copying ..\\data\\food-101\\images\\sushi\\308627.jpg to ..\\data\\pizza_steak_sushi_20_percent\\train\\sushi\\308627.jpg...\n",
      "[INFO] Copying ..\\data\\food-101\\images\\sushi\\710379.jpg to ..\\data\\pizza_steak_sushi_20_percent\\train\\sushi\\710379.jpg...\n",
      "[INFO] Copying ..\\data\\food-101\\images\\sushi\\2970648.jpg to ..\\data\\pizza_steak_sushi_20_percent\\train\\sushi\\2970648.jpg...\n",
      "[INFO] Copying ..\\data\\food-101\\images\\pizza\\8917.jpg to ..\\data\\pizza_steak_sushi_20_percent\\train\\pizza\\8917.jpg...\n",
      "[INFO] Copying ..\\data\\food-101\\images\\sushi\\2388655.jpg to ..\\data\\pizza_steak_sushi_20_percent\\train\\sushi\\2388655.jpg...\n",
      "[INFO] Copying ..\\data\\food-101\\images\\sushi\\3231443.jpg to ..\\data\\pizza_steak_sushi_20_percent\\train\\sushi\\3231443.jpg...\n",
      "[INFO] Copying ..\\data\\food-101\\images\\sushi\\2357133.jpg to ..\\data\\pizza_steak_sushi_20_percent\\train\\sushi\\2357133.jpg...\n",
      "[INFO] Copying ..\\data\\food-101\\images\\pizza\\3464027.jpg to ..\\data\\pizza_steak_sushi_20_percent\\train\\pizza\\3464027.jpg...\n",
      "[INFO] Copying ..\\data\\food-101\\images\\steak\\1049459.jpg to ..\\data\\pizza_steak_sushi_20_percent\\train\\steak\\1049459.jpg...\n",
      "[INFO] Copying ..\\data\\food-101\\images\\pizza\\3913912.jpg to ..\\data\\pizza_steak_sushi_20_percent\\train\\pizza\\3913912.jpg...\n",
      "[INFO] Copying ..\\data\\food-101\\images\\pizza\\2570329.jpg to ..\\data\\pizza_steak_sushi_20_percent\\train\\pizza\\2570329.jpg...\n",
      "[INFO] Copying ..\\data\\food-101\\images\\steak\\1752330.jpg to ..\\data\\pizza_steak_sushi_20_percent\\train\\steak\\1752330.jpg...\n",
      "[INFO] Copying ..\\data\\food-101\\images\\sushi\\1919810.jpg to ..\\data\\pizza_steak_sushi_20_percent\\train\\sushi\\1919810.jpg...\n",
      "[INFO] Copying ..\\data\\food-101\\images\\steak\\2761427.jpg to ..\\data\\pizza_steak_sushi_20_percent\\train\\steak\\2761427.jpg...\n",
      "[INFO] Copying ..\\data\\food-101\\images\\steak\\681609.jpg to ..\\data\\pizza_steak_sushi_20_percent\\train\\steak\\681609.jpg...\n",
      "[INFO] Copying ..\\data\\food-101\\images\\pizza\\54461.jpg to ..\\data\\pizza_steak_sushi_20_percent\\train\\pizza\\54461.jpg...\n",
      "[INFO] Copying ..\\data\\food-101\\images\\steak\\3382936.jpg to ..\\data\\pizza_steak_sushi_20_percent\\train\\steak\\3382936.jpg...\n",
      "[INFO] Copying ..\\data\\food-101\\images\\sushi\\1626195.jpg to ..\\data\\pizza_steak_sushi_20_percent\\train\\sushi\\1626195.jpg...\n",
      "[INFO] Copying ..\\data\\food-101\\images\\steak\\3777482.jpg to ..\\data\\pizza_steak_sushi_20_percent\\train\\steak\\3777482.jpg...\n",
      "[INFO] Copying ..\\data\\food-101\\images\\sushi\\852186.jpg to ..\\data\\pizza_steak_sushi_20_percent\\train\\sushi\\852186.jpg...\n",
      "[INFO] Copying ..\\data\\food-101\\images\\pizza\\1054420.jpg to ..\\data\\pizza_steak_sushi_20_percent\\train\\pizza\\1054420.jpg...\n",
      "[INFO] Copying ..\\data\\food-101\\images\\steak\\40094.jpg to ..\\data\\pizza_steak_sushi_20_percent\\train\\steak\\40094.jpg...\n",
      "[INFO] Copying ..\\data\\food-101\\images\\sushi\\1717393.jpg to ..\\data\\pizza_steak_sushi_20_percent\\train\\sushi\\1717393.jpg...\n",
      "[INFO] Copying ..\\data\\food-101\\images\\steak\\286219.jpg to ..\\data\\pizza_steak_sushi_20_percent\\train\\steak\\286219.jpg...\n",
      "[INFO] Copying ..\\data\\food-101\\images\\pizza\\517902.jpg to ..\\data\\pizza_steak_sushi_20_percent\\train\\pizza\\517902.jpg...\n",
      "[INFO] Copying ..\\data\\food-101\\images\\steak\\388776.jpg to ..\\data\\pizza_steak_sushi_20_percent\\train\\steak\\388776.jpg...\n",
      "[INFO] Copying ..\\data\\food-101\\images\\pizza\\2077999.jpg to ..\\data\\pizza_steak_sushi_20_percent\\train\\pizza\\2077999.jpg...\n",
      "[INFO] Copying ..\\data\\food-101\\images\\sushi\\2349183.jpg to ..\\data\\pizza_steak_sushi_20_percent\\train\\sushi\\2349183.jpg...\n",
      "[INFO] Copying ..\\data\\food-101\\images\\pizza\\2365046.jpg to ..\\data\\pizza_steak_sushi_20_percent\\train\\pizza\\2365046.jpg...\n",
      "[INFO] Copying ..\\data\\food-101\\images\\sushi\\3880093.jpg to ..\\data\\pizza_steak_sushi_20_percent\\train\\sushi\\3880093.jpg...\n",
      "[INFO] Copying ..\\data\\food-101\\images\\pizza\\218142.jpg to ..\\data\\pizza_steak_sushi_20_percent\\train\\pizza\\218142.jpg...\n",
      "[INFO] Copying ..\\data\\food-101\\images\\sushi\\2507003.jpg to ..\\data\\pizza_steak_sushi_20_percent\\train\\sushi\\2507003.jpg...\n",
      "[INFO] Copying ..\\data\\food-101\\images\\pizza\\2110257.jpg to ..\\data\\pizza_steak_sushi_20_percent\\train\\pizza\\2110257.jpg...\n",
      "[INFO] Copying ..\\data\\food-101\\images\\sushi\\1092674.jpg to ..\\data\\pizza_steak_sushi_20_percent\\train\\sushi\\1092674.jpg...\n",
      "[INFO] Copying ..\\data\\food-101\\images\\steak\\2856066.jpg to ..\\data\\pizza_steak_sushi_20_percent\\train\\steak\\2856066.jpg...\n",
      "[INFO] Copying ..\\data\\food-101\\images\\pizza\\2534774.jpg to ..\\data\\pizza_steak_sushi_20_percent\\train\\pizza\\2534774.jpg...\n",
      "[INFO] Copying ..\\data\\food-101\\images\\pizza\\3766476.jpg to ..\\data\\pizza_steak_sushi_20_percent\\train\\pizza\\3766476.jpg...\n",
      "[INFO] Copying ..\\data\\food-101\\images\\pizza\\3871666.jpg to ..\\data\\pizza_steak_sushi_20_percent\\train\\pizza\\3871666.jpg...\n",
      "[INFO] Copying ..\\data\\food-101\\images\\steak\\332557.jpg to ..\\data\\pizza_steak_sushi_20_percent\\train\\steak\\332557.jpg...\n",
      "[INFO] Copying ..\\data\\food-101\\images\\pizza\\3082443.jpg to ..\\data\\pizza_steak_sushi_20_percent\\train\\pizza\\3082443.jpg...\n",
      "[INFO] Copying ..\\data\\food-101\\images\\steak\\827764.jpg to ..\\data\\pizza_steak_sushi_20_percent\\train\\steak\\827764.jpg...\n",
      "[INFO] Copying ..\\data\\food-101\\images\\pizza\\861771.jpg to ..\\data\\pizza_steak_sushi_20_percent\\train\\pizza\\861771.jpg...\n",
      "[INFO] Copying ..\\data\\food-101\\images\\pizza\\2999507.jpg to ..\\data\\pizza_steak_sushi_20_percent\\train\\pizza\\2999507.jpg...\n",
      "[INFO] Copying ..\\data\\food-101\\images\\steak\\543691.jpg to ..\\data\\pizza_steak_sushi_20_percent\\train\\steak\\543691.jpg...\n",
      "[INFO] Copying ..\\data\\food-101\\images\\steak\\359330.jpg to ..\\data\\pizza_steak_sushi_20_percent\\train\\steak\\359330.jpg...\n",
      "[INFO] Copying ..\\data\\food-101\\images\\sushi\\3309395.jpg to ..\\data\\pizza_steak_sushi_20_percent\\train\\sushi\\3309395.jpg...\n",
      "[INFO] Copying ..\\data\\food-101\\images\\pizza\\3693710.jpg to ..\\data\\pizza_steak_sushi_20_percent\\train\\pizza\\3693710.jpg...\n",
      "[INFO] Copying ..\\data\\food-101\\images\\steak\\2400975.jpg to ..\\data\\pizza_steak_sushi_20_percent\\train\\steak\\2400975.jpg...\n",
      "[INFO] Copying ..\\data\\food-101\\images\\steak\\2238681.jpg to ..\\data\\pizza_steak_sushi_20_percent\\train\\steak\\2238681.jpg...\n",
      "[INFO] Copying ..\\data\\food-101\\images\\pizza\\352051.jpg to ..\\data\\pizza_steak_sushi_20_percent\\train\\pizza\\352051.jpg...\n",
      "[INFO] Copying ..\\data\\food-101\\images\\sushi\\2667370.jpg to ..\\data\\pizza_steak_sushi_20_percent\\train\\sushi\\2667370.jpg...\n",
      "[INFO] Copying ..\\data\\food-101\\images\\sushi\\2692550.jpg to ..\\data\\pizza_steak_sushi_20_percent\\train\\sushi\\2692550.jpg...\n",
      "[INFO] Copying ..\\data\\food-101\\images\\sushi\\2019344.jpg to ..\\data\\pizza_steak_sushi_20_percent\\train\\sushi\\2019344.jpg...\n",
      "[INFO] Copying ..\\data\\food-101\\images\\pizza\\1544197.jpg to ..\\data\\pizza_steak_sushi_20_percent\\train\\pizza\\1544197.jpg...\n",
      "[INFO] Copying ..\\data\\food-101\\images\\pizza\\1951130.jpg to ..\\data\\pizza_steak_sushi_20_percent\\train\\pizza\\1951130.jpg...\n",
      "[INFO] Copying ..\\data\\food-101\\images\\steak\\3601483.jpg to ..\\data\\pizza_steak_sushi_20_percent\\train\\steak\\3601483.jpg...\n",
      "[INFO] Copying ..\\data\\food-101\\images\\sushi\\464276.jpg to ..\\data\\pizza_steak_sushi_20_percent\\train\\sushi\\464276.jpg...\n",
      "[INFO] Copying ..\\data\\food-101\\images\\sushi\\185340.jpg to ..\\data\\pizza_steak_sushi_20_percent\\train\\sushi\\185340.jpg...\n",
      "[INFO] Copying ..\\data\\food-101\\images\\sushi\\67007.jpg to ..\\data\\pizza_steak_sushi_20_percent\\train\\sushi\\67007.jpg...\n",
      "[INFO] Copying ..\\data\\food-101\\images\\pizza\\1425089.jpg to ..\\data\\pizza_steak_sushi_20_percent\\train\\pizza\\1425089.jpg...\n",
      "[INFO] Copying ..\\data\\food-101\\images\\pizza\\1029698.jpg to ..\\data\\pizza_steak_sushi_20_percent\\train\\pizza\\1029698.jpg...\n",
      "[INFO] Copying ..\\data\\food-101\\images\\pizza\\790841.jpg to ..\\data\\pizza_steak_sushi_20_percent\\train\\pizza\\790841.jpg...\n",
      "[INFO] Copying ..\\data\\food-101\\images\\sushi\\1303005.jpg to ..\\data\\pizza_steak_sushi_20_percent\\train\\sushi\\1303005.jpg...\n",
      "[INFO] Copying ..\\data\\food-101\\images\\pizza\\2312987.jpg to ..\\data\\pizza_steak_sushi_20_percent\\train\\pizza\\2312987.jpg...\n",
      "[INFO] Copying ..\\data\\food-101\\images\\steak\\3621464.jpg to ..\\data\\pizza_steak_sushi_20_percent\\train\\steak\\3621464.jpg...\n",
      "[INFO] Copying ..\\data\\food-101\\images\\pizza\\3675128.jpg to ..\\data\\pizza_steak_sushi_20_percent\\train\\pizza\\3675128.jpg...\n",
      "[INFO] Copying ..\\data\\food-101\\images\\pizza\\2584745.jpg to ..\\data\\pizza_steak_sushi_20_percent\\train\\pizza\\2584745.jpg...\n",
      "[INFO] Copying ..\\data\\food-101\\images\\sushi\\1085066.jpg to ..\\data\\pizza_steak_sushi_20_percent\\train\\sushi\\1085066.jpg...\n",
      "[INFO] Copying ..\\data\\food-101\\images\\steak\\1816235.jpg to ..\\data\\pizza_steak_sushi_20_percent\\train\\steak\\1816235.jpg...\n",
      "[INFO] Copying ..\\data\\food-101\\images\\steak\\2832960.jpg to ..\\data\\pizza_steak_sushi_20_percent\\train\\steak\\2832960.jpg...\n",
      "[INFO] Copying ..\\data\\food-101\\images\\steak\\714298.jpg to ..\\data\\pizza_steak_sushi_20_percent\\train\\steak\\714298.jpg...\n",
      "[INFO] Copying ..\\data\\food-101\\images\\steak\\1647351.jpg to ..\\data\\pizza_steak_sushi_20_percent\\train\\steak\\1647351.jpg...\n",
      "[INFO] Copying ..\\data\\food-101\\images\\steak\\2910418.jpg to ..\\data\\pizza_steak_sushi_20_percent\\train\\steak\\2910418.jpg...\n",
      "[INFO] Copying ..\\data\\food-101\\images\\sushi\\3191504.jpg to ..\\data\\pizza_steak_sushi_20_percent\\train\\sushi\\3191504.jpg...\n",
      "[INFO] Copying ..\\data\\food-101\\images\\sushi\\733020.jpg to ..\\data\\pizza_steak_sushi_20_percent\\train\\sushi\\733020.jpg...\n",
      "[INFO] Copying ..\\data\\food-101\\images\\sushi\\3734413.jpg to ..\\data\\pizza_steak_sushi_20_percent\\train\\sushi\\3734413.jpg...\n",
      "[INFO] Copying ..\\data\\food-101\\images\\sushi\\2431398.jpg to ..\\data\\pizza_steak_sushi_20_percent\\train\\sushi\\2431398.jpg...\n",
      "[INFO] Copying ..\\data\\food-101\\images\\steak\\588739.jpg to ..\\data\\pizza_steak_sushi_20_percent\\train\\steak\\588739.jpg...\n",
      "[INFO] Copying ..\\data\\food-101\\images\\pizza\\2490163.jpg to ..\\data\\pizza_steak_sushi_20_percent\\train\\pizza\\2490163.jpg...\n",
      "[INFO] Copying ..\\data\\food-101\\images\\steak\\2788312.jpg to ..\\data\\pizza_steak_sushi_20_percent\\train\\steak\\2788312.jpg...\n",
      "[INFO] Copying ..\\data\\food-101\\images\\pizza\\1344966.jpg to ..\\data\\pizza_steak_sushi_20_percent\\train\\pizza\\1344966.jpg...\n",
      "[INFO] Copying ..\\data\\food-101\\images\\sushi\\1924555.jpg to ..\\data\\pizza_steak_sushi_20_percent\\train\\sushi\\1924555.jpg...\n",
      "[INFO] Copying ..\\data\\food-101\\images\\sushi\\638929.jpg to ..\\data\\pizza_steak_sushi_20_percent\\train\\sushi\\638929.jpg...\n",
      "[INFO] Copying ..\\data\\food-101\\images\\steak\\3113772.jpg to ..\\data\\pizza_steak_sushi_20_percent\\train\\steak\\3113772.jpg...\n",
      "[INFO] Copying ..\\data\\food-101\\images\\steak\\285147.jpg to ..\\data\\pizza_steak_sushi_20_percent\\train\\steak\\285147.jpg...\n",
      "[INFO] Copying ..\\data\\food-101\\images\\pizza\\2486277.jpg to ..\\data\\pizza_steak_sushi_20_percent\\train\\pizza\\2486277.jpg...\n",
      "[INFO] Copying ..\\data\\food-101\\images\\steak\\165964.jpg to ..\\data\\pizza_steak_sushi_20_percent\\train\\steak\\165964.jpg...\n",
      "[INFO] Copying ..\\data\\food-101\\images\\pizza\\228778.jpg to ..\\data\\pizza_steak_sushi_20_percent\\train\\pizza\\228778.jpg...\n",
      "[INFO] Copying ..\\data\\food-101\\images\\pizza\\1407753.jpg to ..\\data\\pizza_steak_sushi_20_percent\\train\\pizza\\1407753.jpg...\n",
      "[INFO] Copying ..\\data\\food-101\\images\\pizza\\598381.jpg to ..\\data\\pizza_steak_sushi_20_percent\\train\\pizza\\598381.jpg...\n",
      "[INFO] Copying ..\\data\\food-101\\images\\pizza\\979998.jpg to ..\\data\\pizza_steak_sushi_20_percent\\train\\pizza\\979998.jpg...\n",
      "[INFO] Copying ..\\data\\food-101\\images\\sushi\\1538536.jpg to ..\\data\\pizza_steak_sushi_20_percent\\train\\sushi\\1538536.jpg...\n",
      "[INFO] Copying ..\\data\\food-101\\images\\sushi\\2156885.jpg to ..\\data\\pizza_steak_sushi_20_percent\\train\\sushi\\2156885.jpg...\n",
      "[INFO] Copying ..\\data\\food-101\\images\\sushi\\3157863.jpg to ..\\data\\pizza_steak_sushi_20_percent\\train\\sushi\\3157863.jpg...\n",
      "[INFO] Copying ..\\data\\food-101\\images\\pizza\\929067.jpg to ..\\data\\pizza_steak_sushi_20_percent\\train\\pizza\\929067.jpg...\n",
      "[INFO] Copying ..\\data\\food-101\\images\\pizza\\3082068.jpg to ..\\data\\pizza_steak_sushi_20_percent\\train\\pizza\\3082068.jpg...\n",
      "[INFO] Copying ..\\data\\food-101\\images\\steak\\493029.jpg to ..\\data\\pizza_steak_sushi_20_percent\\train\\steak\\493029.jpg...\n",
      "[INFO] Copying ..\\data\\food-101\\images\\sushi\\3755656.jpg to ..\\data\\pizza_steak_sushi_20_percent\\train\\sushi\\3755656.jpg...\n",
      "[INFO] Copying ..\\data\\food-101\\images\\steak\\393494.jpg to ..\\data\\pizza_steak_sushi_20_percent\\train\\steak\\393494.jpg...\n",
      "[INFO] Copying ..\\data\\food-101\\images\\pizza\\203831.jpg to ..\\data\\pizza_steak_sushi_20_percent\\train\\pizza\\203831.jpg...\n",
      "[INFO] Copying ..\\data\\food-101\\images\\pizza\\910419.jpg to ..\\data\\pizza_steak_sushi_20_percent\\train\\pizza\\910419.jpg...\n",
      "[INFO] Copying ..\\data\\food-101\\images\\sushi\\1398853.jpg to ..\\data\\pizza_steak_sushi_20_percent\\train\\sushi\\1398853.jpg...\n",
      "[INFO] Copying ..\\data\\food-101\\images\\steak\\290850.jpg to ..\\data\\pizza_steak_sushi_20_percent\\train\\steak\\290850.jpg...\n",
      "[INFO] Copying ..\\data\\food-101\\images\\sushi\\2438557.jpg to ..\\data\\pizza_steak_sushi_20_percent\\train\\sushi\\2438557.jpg...\n",
      "[INFO] Copying ..\\data\\food-101\\images\\sushi\\2318569.jpg to ..\\data\\pizza_steak_sushi_20_percent\\train\\sushi\\2318569.jpg...\n",
      "[INFO] Copying ..\\data\\food-101\\images\\sushi\\3590238.jpg to ..\\data\\pizza_steak_sushi_20_percent\\train\\sushi\\3590238.jpg...\n",
      "[INFO] Copying ..\\data\\food-101\\images\\steak\\3470083.jpg to ..\\data\\pizza_steak_sushi_20_percent\\train\\steak\\3470083.jpg...\n",
      "[INFO] Copying ..\\data\\food-101\\images\\sushi\\1152316.jpg to ..\\data\\pizza_steak_sushi_20_percent\\train\\sushi\\1152316.jpg...\n",
      "[INFO] Copying ..\\data\\food-101\\images\\pizza\\2529205.jpg to ..\\data\\pizza_steak_sushi_20_percent\\train\\pizza\\2529205.jpg...\n",
      "[INFO] Copying ..\\data\\food-101\\images\\sushi\\3600867.jpg to ..\\data\\pizza_steak_sushi_20_percent\\train\\sushi\\3600867.jpg...\n",
      "[INFO] Copying ..\\data\\food-101\\images\\sushi\\3576399.jpg to ..\\data\\pizza_steak_sushi_20_percent\\train\\sushi\\3576399.jpg...\n",
      "[INFO] Copying ..\\data\\food-101\\images\\pizza\\2587921.jpg to ..\\data\\pizza_steak_sushi_20_percent\\train\\pizza\\2587921.jpg...\n",
      "[INFO] Copying ..\\data\\food-101\\images\\sushi\\155981.jpg to ..\\data\\pizza_steak_sushi_20_percent\\train\\sushi\\155981.jpg...\n",
      "[INFO] Copying ..\\data\\food-101\\images\\sushi\\1674187.jpg to ..\\data\\pizza_steak_sushi_20_percent\\train\\sushi\\1674187.jpg...\n",
      "[INFO] Copying ..\\data\\food-101\\images\\pizza\\271779.jpg to ..\\data\\pizza_steak_sushi_20_percent\\train\\pizza\\271779.jpg...\n",
      "[INFO] Copying ..\\data\\food-101\\images\\steak\\1530833.jpg to ..\\data\\pizza_steak_sushi_20_percent\\train\\steak\\1530833.jpg...\n",
      "[INFO] Copying ..\\data\\food-101\\images\\pizza\\1245628.jpg to ..\\data\\pizza_steak_sushi_20_percent\\train\\pizza\\1245628.jpg...\n",
      "[INFO] Copying ..\\data\\food-101\\images\\pizza\\2742044.jpg to ..\\data\\pizza_steak_sushi_20_percent\\train\\pizza\\2742044.jpg...\n",
      "[INFO] Copying ..\\data\\food-101\\images\\sushi\\1033302.jpg to ..\\data\\pizza_steak_sushi_20_percent\\train\\sushi\\1033302.jpg...\n",
      "[INFO] Copying ..\\data\\food-101\\images\\pizza\\77677.jpg to ..\\data\\pizza_steak_sushi_20_percent\\train\\pizza\\77677.jpg...\n",
      "[INFO] Copying ..\\data\\food-101\\images\\steak\\367422.jpg to ..\\data\\pizza_steak_sushi_20_percent\\test\\steak\\367422.jpg...\n",
      "[INFO] Copying ..\\data\\food-101\\images\\sushi\\46797.jpg to ..\\data\\pizza_steak_sushi_20_percent\\test\\sushi\\46797.jpg...\n",
      "[INFO] Copying ..\\data\\food-101\\images\\steak\\1082384.jpg to ..\\data\\pizza_steak_sushi_20_percent\\test\\steak\\1082384.jpg...\n",
      "[INFO] Copying ..\\data\\food-101\\images\\steak\\1335842.jpg to ..\\data\\pizza_steak_sushi_20_percent\\test\\steak\\1335842.jpg...\n",
      "[INFO] Copying ..\\data\\food-101\\images\\pizza\\3497151.jpg to ..\\data\\pizza_steak_sushi_20_percent\\test\\pizza\\3497151.jpg...\n",
      "[INFO] Copying ..\\data\\food-101\\images\\sushi\\715227.jpg to ..\\data\\pizza_steak_sushi_20_percent\\test\\sushi\\715227.jpg...\n",
      "[INFO] Copying ..\\data\\food-101\\images\\pizza\\2572488.jpg to ..\\data\\pizza_steak_sushi_20_percent\\test\\pizza\\2572488.jpg...\n",
      "[INFO] Copying ..\\data\\food-101\\images\\steak\\3100563.jpg to ..\\data\\pizza_steak_sushi_20_percent\\test\\steak\\3100563.jpg...\n",
      "[INFO] Copying ..\\data\\food-101\\images\\pizza\\148765.jpg to ..\\data\\pizza_steak_sushi_20_percent\\test\\pizza\\148765.jpg...\n",
      "[INFO] Copying ..\\data\\food-101\\images\\steak\\831681.jpg to ..\\data\\pizza_steak_sushi_20_percent\\test\\steak\\831681.jpg...\n",
      "[INFO] Copying ..\\data\\food-101\\images\\pizza\\771336.jpg to ..\\data\\pizza_steak_sushi_20_percent\\test\\pizza\\771336.jpg...\n",
      "[INFO] Copying ..\\data\\food-101\\images\\pizza\\482858.jpg to ..\\data\\pizza_steak_sushi_20_percent\\test\\pizza\\482858.jpg...\n",
      "[INFO] Copying ..\\data\\food-101\\images\\steak\\697562.jpg to ..\\data\\pizza_steak_sushi_20_percent\\test\\steak\\697562.jpg...\n",
      "[INFO] Copying ..\\data\\food-101\\images\\steak\\2752603.jpg to ..\\data\\pizza_steak_sushi_20_percent\\test\\steak\\2752603.jpg...\n",
      "[INFO] Copying ..\\data\\food-101\\images\\steak\\1982192.jpg to ..\\data\\pizza_steak_sushi_20_percent\\test\\steak\\1982192.jpg...\n",
      "[INFO] Copying ..\\data\\food-101\\images\\pizza\\833711.jpg to ..\\data\\pizza_steak_sushi_20_percent\\test\\pizza\\833711.jpg...\n",
      "[INFO] Copying ..\\data\\food-101\\images\\pizza\\788315.jpg to ..\\data\\pizza_steak_sushi_20_percent\\test\\pizza\\788315.jpg...\n",
      "[INFO] Copying ..\\data\\food-101\\images\\pizza\\129666.jpg to ..\\data\\pizza_steak_sushi_20_percent\\test\\pizza\\129666.jpg...\n",
      "[INFO] Copying ..\\data\\food-101\\images\\sushi\\3834718.jpg to ..\\data\\pizza_steak_sushi_20_percent\\test\\sushi\\3834718.jpg...\n",
      "[INFO] Copying ..\\data\\food-101\\images\\pizza\\420409.jpg to ..\\data\\pizza_steak_sushi_20_percent\\test\\pizza\\420409.jpg...\n",
      "[INFO] Copying ..\\data\\food-101\\images\\steak\\3479599.jpg to ..\\data\\pizza_steak_sushi_20_percent\\test\\steak\\3479599.jpg...\n",
      "[INFO] Copying ..\\data\\food-101\\images\\steak\\2315011.jpg to ..\\data\\pizza_steak_sushi_20_percent\\test\\steak\\2315011.jpg...\n",
      "[INFO] Copying ..\\data\\food-101\\images\\steak\\1482489.jpg to ..\\data\\pizza_steak_sushi_20_percent\\test\\steak\\1482489.jpg...\n",
      "[INFO] Copying ..\\data\\food-101\\images\\pizza\\204151.jpg to ..\\data\\pizza_steak_sushi_20_percent\\test\\pizza\\204151.jpg...\n",
      "[INFO] Copying ..\\data\\food-101\\images\\sushi\\804460.jpg to ..\\data\\pizza_steak_sushi_20_percent\\test\\sushi\\804460.jpg...\n",
      "[INFO] Copying ..\\data\\food-101\\images\\steak\\2756200.jpg to ..\\data\\pizza_steak_sushi_20_percent\\test\\steak\\2756200.jpg...\n",
      "[INFO] Copying ..\\data\\food-101\\images\\sushi\\3401466.jpg to ..\\data\\pizza_steak_sushi_20_percent\\test\\sushi\\3401466.jpg...\n",
      "[INFO] Copying ..\\data\\food-101\\images\\sushi\\1245545.jpg to ..\\data\\pizza_steak_sushi_20_percent\\test\\sushi\\1245545.jpg...\n",
      "[INFO] Copying ..\\data\\food-101\\images\\steak\\3497585.jpg to ..\\data\\pizza_steak_sushi_20_percent\\test\\steak\\3497585.jpg...\n",
      "[INFO] Copying ..\\data\\food-101\\images\\sushi\\511818.jpg to ..\\data\\pizza_steak_sushi_20_percent\\test\\sushi\\511818.jpg...\n",
      "[INFO] Copying ..\\data\\food-101\\images\\sushi\\167716.jpg to ..\\data\\pizza_steak_sushi_20_percent\\test\\sushi\\167716.jpg...\n",
      "[INFO] Copying ..\\data\\food-101\\images\\steak\\2365038.jpg to ..\\data\\pizza_steak_sushi_20_percent\\test\\steak\\2365038.jpg...\n",
      "[INFO] Copying ..\\data\\food-101\\images\\pizza\\138961.jpg to ..\\data\\pizza_steak_sushi_20_percent\\test\\pizza\\138961.jpg...\n",
      "[INFO] Copying ..\\data\\food-101\\images\\pizza\\2782998.jpg to ..\\data\\pizza_steak_sushi_20_percent\\test\\pizza\\2782998.jpg...\n",
      "[INFO] Copying ..\\data\\food-101\\images\\steak\\1285886.jpg to ..\\data\\pizza_steak_sushi_20_percent\\test\\steak\\1285886.jpg...\n",
      "[INFO] Copying ..\\data\\food-101\\images\\pizza\\380739.jpg to ..\\data\\pizza_steak_sushi_20_percent\\test\\pizza\\380739.jpg...\n",
      "[INFO] Copying ..\\data\\food-101\\images\\sushi\\2416569.jpg to ..\\data\\pizza_steak_sushi_20_percent\\test\\sushi\\2416569.jpg...\n",
      "[INFO] Copying ..\\data\\food-101\\images\\steak\\1302563.jpg to ..\\data\\pizza_steak_sushi_20_percent\\test\\steak\\1302563.jpg...\n",
      "[INFO] Copying ..\\data\\food-101\\images\\sushi\\911808.jpg to ..\\data\\pizza_steak_sushi_20_percent\\test\\sushi\\911808.jpg...\n",
      "[INFO] Copying ..\\data\\food-101\\images\\pizza\\2582289.jpg to ..\\data\\pizza_steak_sushi_20_percent\\test\\pizza\\2582289.jpg...\n",
      "[INFO] Copying ..\\data\\food-101\\images\\sushi\\2743100.jpg to ..\\data\\pizza_steak_sushi_20_percent\\test\\sushi\\2743100.jpg...\n",
      "[INFO] Copying ..\\data\\food-101\\images\\steak\\476333.jpg to ..\\data\\pizza_steak_sushi_20_percent\\test\\steak\\476333.jpg...\n",
      "[INFO] Copying ..\\data\\food-101\\images\\steak\\2716791.jpg to ..\\data\\pizza_steak_sushi_20_percent\\test\\steak\\2716791.jpg...\n",
      "[INFO] Copying ..\\data\\food-101\\images\\steak\\2117351.jpg to ..\\data\\pizza_steak_sushi_20_percent\\test\\steak\\2117351.jpg...\n",
      "[INFO] Copying ..\\data\\food-101\\images\\steak\\48208.jpg to ..\\data\\pizza_steak_sushi_20_percent\\test\\steak\\48208.jpg...\n",
      "[INFO] Copying ..\\data\\food-101\\images\\sushi\\2903125.jpg to ..\\data\\pizza_steak_sushi_20_percent\\test\\sushi\\2903125.jpg...\n",
      "[INFO] Copying ..\\data\\food-101\\images\\sushi\\128616.jpg to ..\\data\\pizza_steak_sushi_20_percent\\test\\sushi\\128616.jpg...\n",
      "[INFO] Copying ..\\data\\food-101\\images\\sushi\\705150.jpg to ..\\data\\pizza_steak_sushi_20_percent\\test\\sushi\\705150.jpg...\n",
      "[INFO] Copying ..\\data\\food-101\\images\\steak\\3173402.jpg to ..\\data\\pizza_steak_sushi_20_percent\\test\\steak\\3173402.jpg...\n",
      "[INFO] Copying ..\\data\\food-101\\images\\sushi\\2378406.jpg to ..\\data\\pizza_steak_sushi_20_percent\\test\\sushi\\2378406.jpg...\n",
      "[INFO] Copying ..\\data\\food-101\\images\\pizza\\416067.jpg to ..\\data\\pizza_steak_sushi_20_percent\\test\\pizza\\416067.jpg...\n",
      "[INFO] Copying ..\\data\\food-101\\images\\steak\\1166047.jpg to ..\\data\\pizza_steak_sushi_20_percent\\test\\steak\\1166047.jpg...\n",
      "[INFO] Copying ..\\data\\food-101\\images\\pizza\\1555015.jpg to ..\\data\\pizza_steak_sushi_20_percent\\test\\pizza\\1555015.jpg...\n",
      "[INFO] Copying ..\\data\\food-101\\images\\sushi\\592799.jpg to ..\\data\\pizza_steak_sushi_20_percent\\test\\sushi\\592799.jpg...\n",
      "[INFO] Copying ..\\data\\food-101\\images\\pizza\\1032754.jpg to ..\\data\\pizza_steak_sushi_20_percent\\test\\pizza\\1032754.jpg...\n",
      "[INFO] Copying ..\\data\\food-101\\images\\sushi\\1404154.jpg to ..\\data\\pizza_steak_sushi_20_percent\\test\\sushi\\1404154.jpg...\n",
      "[INFO] Copying ..\\data\\food-101\\images\\sushi\\1683426.jpg to ..\\data\\pizza_steak_sushi_20_percent\\test\\sushi\\1683426.jpg...\n",
      "[INFO] Copying ..\\data\\food-101\\images\\sushi\\472912.jpg to ..\\data\\pizza_steak_sushi_20_percent\\test\\sushi\\472912.jpg...\n",
      "[INFO] Copying ..\\data\\food-101\\images\\pizza\\44810.jpg to ..\\data\\pizza_steak_sushi_20_percent\\test\\pizza\\44810.jpg...\n",
      "[INFO] Copying ..\\data\\food-101\\images\\steak\\289822.jpg to ..\\data\\pizza_steak_sushi_20_percent\\test\\steak\\289822.jpg...\n",
      "[INFO] Copying ..\\data\\food-101\\images\\steak\\413497.jpg to ..\\data\\pizza_steak_sushi_20_percent\\test\\steak\\413497.jpg...\n",
      "[INFO] Copying ..\\data\\food-101\\images\\sushi\\780283.jpg to ..\\data\\pizza_steak_sushi_20_percent\\test\\sushi\\780283.jpg...\n",
      "[INFO] Copying ..\\data\\food-101\\images\\sushi\\389730.jpg to ..\\data\\pizza_steak_sushi_20_percent\\test\\sushi\\389730.jpg...\n",
      "[INFO] Copying ..\\data\\food-101\\images\\steak\\2353677.jpg to ..\\data\\pizza_steak_sushi_20_percent\\test\\steak\\2353677.jpg...\n",
      "[INFO] Copying ..\\data\\food-101\\images\\sushi\\3227791.jpg to ..\\data\\pizza_steak_sushi_20_percent\\test\\sushi\\3227791.jpg...\n",
      "[INFO] Copying ..\\data\\food-101\\images\\sushi\\593071.jpg to ..\\data\\pizza_steak_sushi_20_percent\\test\\sushi\\593071.jpg...\n",
      "[INFO] Copying ..\\data\\food-101\\images\\sushi\\3886015.jpg to ..\\data\\pizza_steak_sushi_20_percent\\test\\sushi\\3886015.jpg...\n",
      "[INFO] Copying ..\\data\\food-101\\images\\pizza\\296426.jpg to ..\\data\\pizza_steak_sushi_20_percent\\test\\pizza\\296426.jpg...\n",
      "[INFO] Copying ..\\data\\food-101\\images\\steak\\1882831.jpg to ..\\data\\pizza_steak_sushi_20_percent\\test\\steak\\1882831.jpg...\n",
      "[INFO] Copying ..\\data\\food-101\\images\\sushi\\124279.jpg to ..\\data\\pizza_steak_sushi_20_percent\\test\\sushi\\124279.jpg...\n",
      "[INFO] Copying ..\\data\\food-101\\images\\steak\\2061929.jpg to ..\\data\\pizza_steak_sushi_20_percent\\test\\steak\\2061929.jpg...\n",
      "[INFO] Copying ..\\data\\food-101\\images\\steak\\3622237.jpg to ..\\data\\pizza_steak_sushi_20_percent\\test\\steak\\3622237.jpg...\n",
      "[INFO] Copying ..\\data\\food-101\\images\\steak\\2307638.jpg to ..\\data\\pizza_steak_sushi_20_percent\\test\\steak\\2307638.jpg...\n",
      "[INFO] Copying ..\\data\\food-101\\images\\steak\\3541033.jpg to ..\\data\\pizza_steak_sushi_20_percent\\test\\steak\\3541033.jpg...\n",
      "[INFO] Copying ..\\data\\food-101\\images\\steak\\1848936.jpg to ..\\data\\pizza_steak_sushi_20_percent\\test\\steak\\1848936.jpg...\n",
      "[INFO] Copying ..\\data\\food-101\\images\\sushi\\1944743.jpg to ..\\data\\pizza_steak_sushi_20_percent\\test\\sushi\\1944743.jpg...\n",
      "[INFO] Copying ..\\data\\food-101\\images\\pizza\\2997525.jpg to ..\\data\\pizza_steak_sushi_20_percent\\test\\pizza\\2997525.jpg...\n",
      "[INFO] Copying ..\\data\\food-101\\images\\pizza\\419962.jpg to ..\\data\\pizza_steak_sushi_20_percent\\test\\pizza\\419962.jpg...\n",
      "[INFO] Copying ..\\data\\food-101\\images\\steak\\3873655.jpg to ..\\data\\pizza_steak_sushi_20_percent\\test\\steak\\3873655.jpg...\n",
      "[INFO] Copying ..\\data\\food-101\\images\\steak\\3063435.jpg to ..\\data\\pizza_steak_sushi_20_percent\\test\\steak\\3063435.jpg...\n",
      "[INFO] Copying ..\\data\\food-101\\images\\pizza\\3770514.jpg to ..\\data\\pizza_steak_sushi_20_percent\\test\\pizza\\3770514.jpg...\n",
      "[INFO] Copying ..\\data\\food-101\\images\\sushi\\301603.jpg to ..\\data\\pizza_steak_sushi_20_percent\\test\\sushi\\301603.jpg...\n",
      "[INFO] Copying ..\\data\\food-101\\images\\sushi\\2274102.jpg to ..\\data\\pizza_steak_sushi_20_percent\\test\\sushi\\2274102.jpg...\n",
      "[INFO] Copying ..\\data\\food-101\\images\\steak\\1902895.jpg to ..\\data\\pizza_steak_sushi_20_percent\\test\\steak\\1902895.jpg...\n",
      "[INFO] Copying ..\\data\\food-101\\images\\steak\\3553838.jpg to ..\\data\\pizza_steak_sushi_20_percent\\test\\steak\\3553838.jpg...\n",
      "[INFO] Copying ..\\data\\food-101\\images\\sushi\\1844723.jpg to ..\\data\\pizza_steak_sushi_20_percent\\test\\sushi\\1844723.jpg...\n",
      "[INFO] Copying ..\\data\\food-101\\images\\pizza\\1001116.jpg to ..\\data\\pizza_steak_sushi_20_percent\\test\\pizza\\1001116.jpg...\n",
      "[INFO] Copying ..\\data\\food-101\\images\\steak\\1972463.jpg to ..\\data\\pizza_steak_sushi_20_percent\\test\\steak\\1972463.jpg...\n",
      "[INFO] Copying ..\\data\\food-101\\images\\steak\\1655387.jpg to ..\\data\\pizza_steak_sushi_20_percent\\test\\steak\\1655387.jpg...\n",
      "[INFO] Copying ..\\data\\food-101\\images\\pizza\\61656.jpg to ..\\data\\pizza_steak_sushi_20_percent\\test\\pizza\\61656.jpg...\n",
      "[INFO] Copying ..\\data\\food-101\\images\\steak\\40947.jpg to ..\\data\\pizza_steak_sushi_20_percent\\test\\steak\\40947.jpg...\n",
      "[INFO] Copying ..\\data\\food-101\\images\\sushi\\2394442.jpg to ..\\data\\pizza_steak_sushi_20_percent\\test\\sushi\\2394442.jpg...\n",
      "[INFO] Copying ..\\data\\food-101\\images\\sushi\\2903621.jpg to ..\\data\\pizza_steak_sushi_20_percent\\test\\sushi\\2903621.jpg...\n",
      "[INFO] Copying ..\\data\\food-101\\images\\steak\\2246332.jpg to ..\\data\\pizza_steak_sushi_20_percent\\test\\steak\\2246332.jpg...\n",
      "[INFO] Copying ..\\data\\food-101\\images\\steak\\746921.jpg to ..\\data\\pizza_steak_sushi_20_percent\\test\\steak\\746921.jpg...\n",
      "[INFO] Copying ..\\data\\food-101\\images\\steak\\550687.jpg to ..\\data\\pizza_steak_sushi_20_percent\\test\\steak\\550687.jpg...\n",
      "[INFO] Copying ..\\data\\food-101\\images\\sushi\\3365273.jpg to ..\\data\\pizza_steak_sushi_20_percent\\test\\sushi\\3365273.jpg...\n",
      "[INFO] Copying ..\\data\\food-101\\images\\pizza\\648055.jpg to ..\\data\\pizza_steak_sushi_20_percent\\test\\pizza\\648055.jpg...\n",
      "[INFO] Copying ..\\data\\food-101\\images\\sushi\\57230.jpg to ..\\data\\pizza_steak_sushi_20_percent\\test\\sushi\\57230.jpg...\n",
      "[INFO] Copying ..\\data\\food-101\\images\\steak\\864661.jpg to ..\\data\\pizza_steak_sushi_20_percent\\test\\steak\\864661.jpg...\n",
      "[INFO] Copying ..\\data\\food-101\\images\\pizza\\3729167.jpg to ..\\data\\pizza_steak_sushi_20_percent\\test\\pizza\\3729167.jpg...\n",
      "[INFO] Copying ..\\data\\food-101\\images\\pizza\\2250611.jpg to ..\\data\\pizza_steak_sushi_20_percent\\test\\pizza\\2250611.jpg...\n",
      "[INFO] Copying ..\\data\\food-101\\images\\steak\\1523026.jpg to ..\\data\\pizza_steak_sushi_20_percent\\test\\steak\\1523026.jpg...\n",
      "[INFO] Copying ..\\data\\food-101\\images\\sushi\\1346344.jpg to ..\\data\\pizza_steak_sushi_20_percent\\test\\sushi\\1346344.jpg...\n",
      "[INFO] Copying ..\\data\\food-101\\images\\sushi\\3177743.jpg to ..\\data\\pizza_steak_sushi_20_percent\\test\\sushi\\3177743.jpg...\n",
      "[INFO] Copying ..\\data\\food-101\\images\\steak\\2475366.jpg to ..\\data\\pizza_steak_sushi_20_percent\\test\\steak\\2475366.jpg...\n",
      "[INFO] Copying ..\\data\\food-101\\images\\pizza\\2398925.jpg to ..\\data\\pizza_steak_sushi_20_percent\\test\\pizza\\2398925.jpg...\n",
      "[INFO] Copying ..\\data\\food-101\\images\\pizza\\930553.jpg to ..\\data\\pizza_steak_sushi_20_percent\\test\\pizza\\930553.jpg...\n",
      "[INFO] Copying ..\\data\\food-101\\images\\steak\\2069289.jpg to ..\\data\\pizza_steak_sushi_20_percent\\test\\steak\\2069289.jpg...\n",
      "[INFO] Copying ..\\data\\food-101\\images\\pizza\\796922.jpg to ..\\data\\pizza_steak_sushi_20_percent\\test\\pizza\\796922.jpg...\n",
      "[INFO] Copying ..\\data\\food-101\\images\\pizza\\476421.jpg to ..\\data\\pizza_steak_sushi_20_percent\\test\\pizza\\476421.jpg...\n",
      "[INFO] Copying ..\\data\\food-101\\images\\pizza\\3375083.jpg to ..\\data\\pizza_steak_sushi_20_percent\\test\\pizza\\3375083.jpg...\n",
      "[INFO] Copying ..\\data\\food-101\\images\\pizza\\1315645.jpg to ..\\data\\pizza_steak_sushi_20_percent\\test\\pizza\\1315645.jpg...\n",
      "[INFO] Copying ..\\data\\food-101\\images\\pizza\\1618659.jpg to ..\\data\\pizza_steak_sushi_20_percent\\test\\pizza\\1618659.jpg...\n",
      "[INFO] Copying ..\\data\\food-101\\images\\steak\\100274.jpg to ..\\data\\pizza_steak_sushi_20_percent\\test\\steak\\100274.jpg...\n",
      "[INFO] Copying ..\\data\\food-101\\images\\steak\\86782.jpg to ..\\data\\pizza_steak_sushi_20_percent\\test\\steak\\86782.jpg...\n",
      "[INFO] Copying ..\\data\\food-101\\images\\sushi\\2948087.jpg to ..\\data\\pizza_steak_sushi_20_percent\\test\\sushi\\2948087.jpg...\n",
      "[INFO] Copying ..\\data\\food-101\\images\\pizza\\2111981.jpg to ..\\data\\pizza_steak_sushi_20_percent\\test\\pizza\\2111981.jpg...\n",
      "[INFO] Copying ..\\data\\food-101\\images\\steak\\66858.jpg to ..\\data\\pizza_steak_sushi_20_percent\\test\\steak\\66858.jpg...\n",
      "[INFO] Copying ..\\data\\food-101\\images\\steak\\3757027.jpg to ..\\data\\pizza_steak_sushi_20_percent\\test\\steak\\3757027.jpg...\n",
      "[INFO] Copying ..\\data\\food-101\\images\\sushi\\2352914.jpg to ..\\data\\pizza_steak_sushi_20_percent\\test\\sushi\\2352914.jpg...\n",
      "[INFO] Copying ..\\data\\food-101\\images\\pizza\\441659.jpg to ..\\data\\pizza_steak_sushi_20_percent\\test\\pizza\\441659.jpg...\n",
      "[INFO] Copying ..\\data\\food-101\\images\\steak\\3138001.jpg to ..\\data\\pizza_steak_sushi_20_percent\\test\\steak\\3138001.jpg...\n",
      "[INFO] Copying ..\\data\\food-101\\images\\sushi\\1063878.jpg to ..\\data\\pizza_steak_sushi_20_percent\\test\\sushi\\1063878.jpg...\n",
      "[INFO] Copying ..\\data\\food-101\\images\\sushi\\720302.jpg to ..\\data\\pizza_steak_sushi_20_percent\\test\\sushi\\720302.jpg...\n",
      "[INFO] Copying ..\\data\\food-101\\images\\pizza\\998005.jpg to ..\\data\\pizza_steak_sushi_20_percent\\test\\pizza\\998005.jpg...\n",
      "[INFO] Copying ..\\data\\food-101\\images\\pizza\\3376617.jpg to ..\\data\\pizza_steak_sushi_20_percent\\test\\pizza\\3376617.jpg...\n",
      "[INFO] Copying ..\\data\\food-101\\images\\pizza\\1067986.jpg to ..\\data\\pizza_steak_sushi_20_percent\\test\\pizza\\1067986.jpg...\n",
      "[INFO] Copying ..\\data\\food-101\\images\\pizza\\2549661.jpg to ..\\data\\pizza_steak_sushi_20_percent\\test\\pizza\\2549661.jpg...\n",
      "[INFO] Copying ..\\data\\food-101\\images\\steak\\39461.jpg to ..\\data\\pizza_steak_sushi_20_percent\\test\\steak\\39461.jpg...\n",
      "[INFO] Copying ..\\data\\food-101\\images\\pizza\\724290.jpg to ..\\data\\pizza_steak_sushi_20_percent\\test\\pizza\\724290.jpg...\n",
      "[INFO] Copying ..\\data\\food-101\\images\\pizza\\3785667.jpg to ..\\data\\pizza_steak_sushi_20_percent\\test\\pizza\\3785667.jpg...\n",
      "[INFO] Copying ..\\data\\food-101\\images\\sushi\\1383396.jpg to ..\\data\\pizza_steak_sushi_20_percent\\test\\sushi\\1383396.jpg...\n",
      "[INFO] Copying ..\\data\\food-101\\images\\steak\\730464.jpg to ..\\data\\pizza_steak_sushi_20_percent\\test\\steak\\730464.jpg...\n",
      "[INFO] Copying ..\\data\\food-101\\images\\pizza\\1687143.jpg to ..\\data\\pizza_steak_sushi_20_percent\\test\\pizza\\1687143.jpg...\n",
      "[INFO] Copying ..\\data\\food-101\\images\\sushi\\1994748.jpg to ..\\data\\pizza_steak_sushi_20_percent\\test\\sushi\\1994748.jpg...\n",
      "[INFO] Copying ..\\data\\food-101\\images\\steak\\108310.jpg to ..\\data\\pizza_steak_sushi_20_percent\\test\\steak\\108310.jpg...\n",
      "[INFO] Copying ..\\data\\food-101\\images\\pizza\\2901001.jpg to ..\\data\\pizza_steak_sushi_20_percent\\test\\pizza\\2901001.jpg...\n",
      "[INFO] Copying ..\\data\\food-101\\images\\steak\\670345.jpg to ..\\data\\pizza_steak_sushi_20_percent\\test\\steak\\670345.jpg...\n",
      "[INFO] Copying ..\\data\\food-101\\images\\pizza\\3174637.jpg to ..\\data\\pizza_steak_sushi_20_percent\\test\\pizza\\3174637.jpg...\n",
      "[INFO] Copying ..\\data\\food-101\\images\\sushi\\2819945.jpg to ..\\data\\pizza_steak_sushi_20_percent\\test\\sushi\\2819945.jpg...\n",
      "[INFO] Copying ..\\data\\food-101\\images\\sushi\\1600999.jpg to ..\\data\\pizza_steak_sushi_20_percent\\test\\sushi\\1600999.jpg...\n",
      "[INFO] Copying ..\\data\\food-101\\images\\sushi\\2012780.jpg to ..\\data\\pizza_steak_sushi_20_percent\\test\\sushi\\2012780.jpg...\n",
      "[INFO] Copying ..\\data\\food-101\\images\\steak\\219196.jpg to ..\\data\\pizza_steak_sushi_20_percent\\test\\steak\\219196.jpg...\n",
      "[INFO] Copying ..\\data\\food-101\\images\\steak\\552171.jpg to ..\\data\\pizza_steak_sushi_20_percent\\test\\steak\\552171.jpg...\n",
      "[INFO] Copying ..\\data\\food-101\\images\\sushi\\1203702.jpg to ..\\data\\pizza_steak_sushi_20_percent\\test\\sushi\\1203702.jpg...\n",
      "[INFO] Copying ..\\data\\food-101\\images\\steak\\399377.jpg to ..\\data\\pizza_steak_sushi_20_percent\\test\\steak\\399377.jpg...\n",
      "[INFO] Copying ..\\data\\food-101\\images\\sushi\\3494950.jpg to ..\\data\\pizza_steak_sushi_20_percent\\test\\sushi\\3494950.jpg...\n",
      "[INFO] Copying ..\\data\\food-101\\images\\steak\\595836.jpg to ..\\data\\pizza_steak_sushi_20_percent\\test\\steak\\595836.jpg...\n",
      "[INFO] Copying ..\\data\\food-101\\images\\pizza\\3486640.jpg to ..\\data\\pizza_steak_sushi_20_percent\\test\\pizza\\3486640.jpg...\n"
     ]
    }
   ],
   "source": [
    "import shutil\n",
    "\n",
    "for image_split in label_splits.keys():\n",
    "    for image_path in label_splits[str(image_split)]:\n",
    "        dest_dir = target_dir / image_split / image_path.parent.stem / image_path.name\n",
    "        if not dest_dir.parent.is_dir():\n",
    "            dest_dir.parent.mkdir(parents=True, exist_ok=True)\n",
    "        print(f\"[INFO] Copying {image_path} to {dest_dir}...\")\n",
    "        shutil.copy2(image_path, dest_dir)"
   ]
  },
  {
   "cell_type": "code",
   "execution_count": 24,
   "metadata": {},
   "outputs": [
    {
     "name": "stdout",
     "output_type": "stream",
     "text": [
      "There are 2 directories and 0 images in '..\\data\\pizza_steak_sushi_20_percent'.\n",
      "There are 3 directories and 0 images in '..\\data\\pizza_steak_sushi_20_percent\\test'.\n",
      "There are 0 directories and 46 images in '..\\data\\pizza_steak_sushi_20_percent\\test\\pizza'.\n",
      "There are 0 directories and 58 images in '..\\data\\pizza_steak_sushi_20_percent\\test\\steak'.\n",
      "There are 0 directories and 46 images in '..\\data\\pizza_steak_sushi_20_percent\\test\\sushi'.\n",
      "There are 3 directories and 0 images in '..\\data\\pizza_steak_sushi_20_percent\\train'.\n",
      "There are 0 directories and 154 images in '..\\data\\pizza_steak_sushi_20_percent\\train\\pizza'.\n",
      "There are 0 directories and 146 images in '..\\data\\pizza_steak_sushi_20_percent\\train\\steak'.\n",
      "There are 0 directories and 150 images in '..\\data\\pizza_steak_sushi_20_percent\\train\\sushi'.\n"
     ]
    }
   ],
   "source": [
    "# Check lengths of directories\n",
    "def walk_through_dir(dir_path):\n",
    "  \"\"\"\n",
    "  Walks through dir_path returning its contents.\n",
    "  Args:\n",
    "    dir_path (str): target directory\n",
    "  \n",
    "  Returns:\n",
    "    A print out of:\n",
    "      number of subdiretories in dir_path\n",
    "      number of images (files) in each subdirectory\n",
    "      name of each subdirectory\n",
    "  \"\"\"\n",
    "  import os\n",
    "  for dirpath, dirnames, filenames in os.walk(dir_path):\n",
    "    print(f\"There are {len(dirnames)} directories and {len(filenames)} images in '{dirpath}'.\")\n",
    "    \n",
    "walk_through_dir(target_dir)"
   ]
  },
  {
   "cell_type": "code",
   "execution_count": 25,
   "metadata": {},
   "outputs": [
    {
     "data": {
      "text/plain": [
       "'c:\\\\Users\\\\Kushagra\\\\Desktop\\\\PyTorch_Course\\\\data\\\\pizza_steak_sushi_20_percent.zip'"
      ]
     },
     "execution_count": 25,
     "metadata": {},
     "output_type": "execute_result"
    }
   ],
   "source": [
    "# Zip pizza_steak_sushi images\n",
    "zip_file_name = data_dir / f\"pizza_steak_sushi_{str(int(amount_to_get*100))}_percent\"\n",
    "shutil.make_archive(zip_file_name, \n",
    "                    format=\"zip\", \n",
    "                    root_dir=target_dir)"
   ]
  },
  {
   "cell_type": "code",
   "execution_count": 26,
   "metadata": {},
   "outputs": [
    {
     "name": "stdout",
     "output_type": "stream",
     "text": [
      "There are 2 directories and 0 images in '../data/pizza_steak_sushi_20_percent'.\n",
      "There are 3 directories and 0 images in '../data/pizza_steak_sushi_20_percent\\test'.\n",
      "There are 0 directories and 46 images in '../data/pizza_steak_sushi_20_percent\\test\\pizza'.\n",
      "There are 0 directories and 58 images in '../data/pizza_steak_sushi_20_percent\\test\\steak'.\n",
      "There are 0 directories and 46 images in '../data/pizza_steak_sushi_20_percent\\test\\sushi'.\n",
      "There are 3 directories and 0 images in '../data/pizza_steak_sushi_20_percent\\train'.\n",
      "There are 0 directories and 154 images in '../data/pizza_steak_sushi_20_percent\\train\\pizza'.\n",
      "There are 0 directories and 146 images in '../data/pizza_steak_sushi_20_percent\\train\\steak'.\n",
      "There are 0 directories and 150 images in '../data/pizza_steak_sushi_20_percent\\train\\sushi'.\n"
     ]
    }
   ],
   "source": [
    "walk_through_dir(\"../data/pizza_steak_sushi_20_percent\")"
   ]
  },
  {
   "cell_type": "markdown",
   "metadata": {},
   "source": [
    "### Updated directory paths above and re-ran trained the model on new data"
   ]
  },
  {
   "cell_type": "markdown",
   "metadata": {},
   "source": [
    "8. Make a prediction on your own custom image of pizza/steak/sushi (you could even download one from the internet) and share your prediction.\n",
    "* Does the model you trained in exercise 7 get it right?\n",
    "* If not, what do you think you could do to improve it?"
   ]
  },
  {
   "cell_type": "markdown",
   "metadata": {},
   "source": [
    "* The model improved by almost 20 percent, to improve the model we can do the following things to get better accuracy:\n",
    "    1. Get more training data\n",
    "    2. Add hidden units\n",
    "    3. Apply Reinforcement learning on the loss function\n",
    "    4. train for more epochs (**not recommended since it may lead to overfitting after a while**)"
   ]
  },
  {
   "cell_type": "markdown",
   "metadata": {},
   "source": []
  }
 ],
 "metadata": {
  "kernelspec": {
   "display_name": "Python 3",
   "language": "python",
   "name": "python3"
  },
  "language_info": {
   "codemirror_mode": {
    "name": "ipython",
    "version": 3
   },
   "file_extension": ".py",
   "mimetype": "text/x-python",
   "name": "python",
   "nbconvert_exporter": "python",
   "pygments_lexer": "ipython3",
   "version": "3.11.5"
  },
  "orig_nbformat": 4
 },
 "nbformat": 4,
 "nbformat_minor": 2
}
